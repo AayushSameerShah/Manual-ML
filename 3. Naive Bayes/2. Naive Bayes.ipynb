{
 "cells": [
  {
   "cell_type": "markdown",
   "metadata": {},
   "source": [
    "# Naive Bayes\n",
    "*For categorical features*"
   ]
  },
  {
   "cell_type": "markdown",
   "metadata": {},
   "source": [
    "# "
   ]
  },
  {
   "cell_type": "markdown",
   "metadata": {},
   "source": [
    "Here I will take the bookish example, so that I can compare the result and ensure the correctness as ususal. Then we will have a python file for this (for mixed features after 3rd book).\n",
    "\n",
    "Let's go."
   ]
  },
  {
   "cell_type": "code",
   "execution_count": 1,
   "metadata": {},
   "outputs": [],
   "source": [
    "# Ususal imports\n",
    "import pandas as pd, numpy as np\n",
    "import matplotlib.pyplot as plt"
   ]
  },
  {
   "cell_type": "code",
   "execution_count": 94,
   "metadata": {},
   "outputs": [
    {
     "data": {
      "text/html": [
       "<div>\n",
       "<style scoped>\n",
       "    .dataframe tbody tr th:only-of-type {\n",
       "        vertical-align: middle;\n",
       "    }\n",
       "\n",
       "    .dataframe tbody tr th {\n",
       "        vertical-align: top;\n",
       "    }\n",
       "\n",
       "    .dataframe thead th {\n",
       "        text-align: right;\n",
       "    }\n",
       "</style>\n",
       "<table border=\"1\" class=\"dataframe\">\n",
       "  <thead>\n",
       "    <tr style=\"text-align: right;\">\n",
       "      <th></th>\n",
       "      <th>weather</th>\n",
       "      <th>car</th>\n",
       "      <th>y</th>\n",
       "    </tr>\n",
       "  </thead>\n",
       "  <tbody>\n",
       "    <tr>\n",
       "      <th>0</th>\n",
       "      <td>sunny</td>\n",
       "      <td>works</td>\n",
       "      <td>go-out</td>\n",
       "    </tr>\n",
       "    <tr>\n",
       "      <th>1</th>\n",
       "      <td>rainy</td>\n",
       "      <td>broken</td>\n",
       "      <td>go-out</td>\n",
       "    </tr>\n",
       "    <tr>\n",
       "      <th>2</th>\n",
       "      <td>sunny</td>\n",
       "      <td>works</td>\n",
       "      <td>go-out</td>\n",
       "    </tr>\n",
       "    <tr>\n",
       "      <th>3</th>\n",
       "      <td>sunny</td>\n",
       "      <td>works</td>\n",
       "      <td>go-out</td>\n",
       "    </tr>\n",
       "    <tr>\n",
       "      <th>4</th>\n",
       "      <td>sunny</td>\n",
       "      <td>works</td>\n",
       "      <td>go-out</td>\n",
       "    </tr>\n",
       "    <tr>\n",
       "      <th>5</th>\n",
       "      <td>rainy</td>\n",
       "      <td>broken</td>\n",
       "      <td>stay-home</td>\n",
       "    </tr>\n",
       "    <tr>\n",
       "      <th>6</th>\n",
       "      <td>rainy</td>\n",
       "      <td>broken</td>\n",
       "      <td>stay-home</td>\n",
       "    </tr>\n",
       "    <tr>\n",
       "      <th>7</th>\n",
       "      <td>sunny</td>\n",
       "      <td>works</td>\n",
       "      <td>stay-home</td>\n",
       "    </tr>\n",
       "    <tr>\n",
       "      <th>8</th>\n",
       "      <td>sunny</td>\n",
       "      <td>broken</td>\n",
       "      <td>stay-home</td>\n",
       "    </tr>\n",
       "    <tr>\n",
       "      <th>9</th>\n",
       "      <td>rainy</td>\n",
       "      <td>broken</td>\n",
       "      <td>stay-home</td>\n",
       "    </tr>\n",
       "  </tbody>\n",
       "</table>\n",
       "</div>"
      ],
      "text/plain": [
       "  weather     car          y\n",
       "0   sunny   works     go-out\n",
       "1   rainy  broken     go-out\n",
       "2   sunny   works     go-out\n",
       "3   sunny   works     go-out\n",
       "4   sunny   works     go-out\n",
       "5   rainy  broken  stay-home\n",
       "6   rainy  broken  stay-home\n",
       "7   sunny   works  stay-home\n",
       "8   sunny  broken  stay-home\n",
       "9   rainy  broken  stay-home"
      ]
     },
     "execution_count": 94,
     "metadata": {},
     "output_type": "execute_result"
    }
   ],
   "source": [
    "# Data\n",
    "weather = ['sunny', 'rainy', 'sunny', 'sunny', 'sunny', 'rainy', 'rainy', 'sunny', 'sunny', 'rainy']\n",
    "car = ['works', 'broken', 'works', 'works', 'works', 'broken', 'broken', 'works', 'broken', 'broken']\n",
    "y = ['go-out', 'go-out', 'go-out', 'go-out', 'go-out', 'stay-home', 'stay-home', 'stay-home', 'stay-home', 'stay-home']\n",
    "\n",
    "# Data Frame\n",
    "df = pd.DataFrame({\"weather\": weather,\n",
    "                   \"car\": car,\n",
    "                   \"y\": y})\n",
    "df"
   ]
  },
  {
   "cell_type": "markdown",
   "metadata": {},
   "source": [
    "This is a nice dataset, with 2 conflicting rows. "
   ]
  },
  {
   "cell_type": "markdown",
   "metadata": {},
   "source": [
    "# "
   ]
  },
  {
   "cell_type": "markdown",
   "metadata": {},
   "source": [
    "### 1. Calculate the Class Probs"
   ]
  },
  {
   "cell_type": "code",
   "execution_count": 95,
   "metadata": {},
   "outputs": [
    {
     "data": {
      "text/plain": [
       "stay-home    5\n",
       "go-out       5\n",
       "Name: y, dtype: int64"
      ]
     },
     "execution_count": 95,
     "metadata": {},
     "output_type": "execute_result"
    }
   ],
   "source": [
    "class_counts = df[\"y\"].value_counts()\n",
    "class_counts"
   ]
  },
  {
   "cell_type": "code",
   "execution_count": 96,
   "metadata": {},
   "outputs": [
    {
     "data": {
      "text/plain": [
       "stay-home    0.5\n",
       "go-out       0.5\n",
       "Name: y, dtype: float64"
      ]
     },
     "execution_count": 96,
     "metadata": {},
     "output_type": "execute_result"
    }
   ],
   "source": [
    "class_porbs = class_counts / df.shape[0]\n",
    "class_porbs"
   ]
  },
  {
   "cell_type": "markdown",
   "metadata": {},
   "source": [
    "# "
   ]
  },
  {
   "cell_type": "markdown",
   "metadata": {},
   "source": [
    "### 2. Calculate Conditional Probs"
   ]
  },
  {
   "cell_type": "markdown",
   "metadata": {},
   "source": [
    "Here, we need to get the unique values from each feature and for each feature individually we need to perform the conditional prob for each class. Let's see how.\n",
    "\n",
    "##### $ P(X_1 = A | B) = \\frac {\\text{count}(A \\cap B)} {\\text{count}(B)}$"
   ]
  },
  {
   "cell_type": "code",
   "execution_count": 107,
   "metadata": {},
   "outputs": [],
   "source": [
    "def get_probs(feature):\n",
    "    probs = {}\n",
    "    for category in df[feature].unique():\n",
    "        for class_ in df[\"y\"].unique():\n",
    "            filter_ = (df[feature] == category) & (df[\"y\"] == class_)\n",
    "            A_n_B = df[filter_].shape[0]\n",
    "            B = class_counts[class_]\n",
    "            probs[(category, class_)] = A_n_B / B\n",
    "    return pd.Series(probs)"
   ]
  },
  {
   "cell_type": "markdown",
   "metadata": {},
   "source": [
    "###### "
   ]
  },
  {
   "cell_type": "markdown",
   "metadata": {},
   "source": [
    "For `weather` feature."
   ]
  },
  {
   "cell_type": "code",
   "execution_count": 108,
   "metadata": {},
   "outputs": [
    {
     "data": {
      "text/plain": [
       "sunny  go-out       0.8\n",
       "       stay-home    0.4\n",
       "rainy  go-out       0.2\n",
       "       stay-home    0.6\n",
       "dtype: float64"
      ]
     },
     "execution_count": 108,
     "metadata": {},
     "output_type": "execute_result"
    }
   ],
   "source": [
    "get_probs(\"weather\")"
   ]
  },
  {
   "cell_type": "markdown",
   "metadata": {},
   "source": [
    "###### "
   ]
  },
  {
   "cell_type": "markdown",
   "metadata": {},
   "source": [
    "For `car` feature."
   ]
  },
  {
   "cell_type": "code",
   "execution_count": 109,
   "metadata": {},
   "outputs": [
    {
     "data": {
      "text/plain": [
       "works   go-out       0.8\n",
       "        stay-home    0.2\n",
       "broken  go-out       0.2\n",
       "        stay-home    0.8\n",
       "dtype: float64"
      ]
     },
     "execution_count": 109,
     "metadata": {},
     "output_type": "execute_result"
    }
   ],
   "source": [
    "get_probs(\"car\")"
   ]
  },
  {
   "cell_type": "code",
   "execution_count": 113,
   "metadata": {},
   "outputs": [
    {
     "data": {
      "text/html": [
       "<div>\n",
       "<style scoped>\n",
       "    .dataframe tbody tr th:only-of-type {\n",
       "        vertical-align: middle;\n",
       "    }\n",
       "\n",
       "    .dataframe tbody tr th {\n",
       "        vertical-align: top;\n",
       "    }\n",
       "\n",
       "    .dataframe thead th {\n",
       "        text-align: right;\n",
       "    }\n",
       "</style>\n",
       "<table border=\"1\" class=\"dataframe\">\n",
       "  <thead>\n",
       "    <tr style=\"text-align: right;\">\n",
       "      <th></th>\n",
       "      <th>go-out</th>\n",
       "      <th>stay-home</th>\n",
       "    </tr>\n",
       "  </thead>\n",
       "  <tbody>\n",
       "    <tr>\n",
       "      <th>broken</th>\n",
       "      <td>0.2</td>\n",
       "      <td>0.8</td>\n",
       "    </tr>\n",
       "    <tr>\n",
       "      <th>rainy</th>\n",
       "      <td>0.2</td>\n",
       "      <td>0.6</td>\n",
       "    </tr>\n",
       "    <tr>\n",
       "      <th>sunny</th>\n",
       "      <td>0.8</td>\n",
       "      <td>0.4</td>\n",
       "    </tr>\n",
       "    <tr>\n",
       "      <th>works</th>\n",
       "      <td>0.8</td>\n",
       "      <td>0.2</td>\n",
       "    </tr>\n",
       "  </tbody>\n",
       "</table>\n",
       "</div>"
      ],
      "text/plain": [
       "        go-out  stay-home\n",
       "broken     0.2        0.8\n",
       "rainy      0.2        0.6\n",
       "sunny      0.8        0.4\n",
       "works      0.8        0.2"
      ]
     },
     "execution_count": 113,
     "metadata": {},
     "output_type": "execute_result"
    }
   ],
   "source": [
    "lookup = pd.concat([get_probs(\"weather\"), get_probs(\"car\")]).unstack()\n",
    "lookup"
   ]
  },
  {
   "cell_type": "markdown",
   "metadata": {},
   "source": [
    "Alright, now we have got the conditional probs too! That's it! Let's get into predicting."
   ]
  },
  {
   "cell_type": "markdown",
   "metadata": {},
   "source": [
    "###### "
   ]
  },
  {
   "cell_type": "markdown",
   "metadata": {},
   "source": [
    "### 3. Predict!\n"
   ]
  },
  {
   "cell_type": "markdown",
   "metadata": {},
   "source": [
    "## $$ P(y | X) = {P(X | y) \\times P(y)} $$"
   ]
  },
  {
   "cell_type": "markdown",
   "metadata": {},
   "source": [
    "As said, we don't need to normalize stuff (if we didn we would have got the \"Probability\"), but here if we just work with the numerator, we can get the number and that will be enough for us to find the predicted class."
   ]
  },
  {
   "cell_type": "code",
   "execution_count": 101,
   "metadata": {},
   "outputs": [
    {
     "data": {
      "text/html": [
       "<div>\n",
       "<style scoped>\n",
       "    .dataframe tbody tr th:only-of-type {\n",
       "        vertical-align: middle;\n",
       "    }\n",
       "\n",
       "    .dataframe tbody tr th {\n",
       "        vertical-align: top;\n",
       "    }\n",
       "\n",
       "    .dataframe thead th {\n",
       "        text-align: right;\n",
       "    }\n",
       "</style>\n",
       "<table border=\"1\" class=\"dataframe\">\n",
       "  <thead>\n",
       "    <tr style=\"text-align: right;\">\n",
       "      <th></th>\n",
       "      <th>weather</th>\n",
       "      <th>car</th>\n",
       "      <th>y</th>\n",
       "    </tr>\n",
       "  </thead>\n",
       "  <tbody>\n",
       "    <tr>\n",
       "      <th>0</th>\n",
       "      <td>sunny</td>\n",
       "      <td>works</td>\n",
       "      <td>go-out</td>\n",
       "    </tr>\n",
       "  </tbody>\n",
       "</table>\n",
       "</div>"
      ],
      "text/plain": [
       "  weather    car       y\n",
       "0   sunny  works  go-out"
      ]
     },
     "execution_count": 101,
     "metadata": {},
     "output_type": "execute_result"
    }
   ],
   "source": [
    "# Taking the first instance\n",
    "df.iloc[[0]]"
   ]
  },
  {
   "cell_type": "markdown",
   "metadata": {},
   "source": [
    "If weather is `sunny` an car is `works` then what is the Probability (can't use the term probability but it is okay) of:\n",
    "1. It is `go-out`\n",
    "2. It is `stay-home`\n",
    "\n",
    "We need to find for both target classes."
   ]
  },
  {
   "cell_type": "markdown",
   "metadata": {},
   "source": [
    "So our *final equation* would looklike...\n",
    "\n",
    "> $ \\text{go-out} = P(\\text{sunny} | \\text{go-out}) \\times P(\\text{works} | \\text{go-out}) \\times P(\\text{go-out}) $\n",
    "\n",
    "> $ \\text{stay-home} = P(\\text{sunny} | \\text{stay-home}) \\times P(\\text{works} | \\text{stay-home}) \\times P(\\text{stay-home}) $\n",
    "\n",
    "$ max(\\text{go-out}, \\text{stay-home}) $"
   ]
  },
  {
   "cell_type": "code",
   "execution_count": 126,
   "metadata": {},
   "outputs": [],
   "source": [
    "probs = {}\n",
    "for class_ in lookup.columns:\n",
    "    multi = 1\n",
    "    for value in lookup.loc[df.iloc[0].values[:-1], class_]:\n",
    "        multi *= value\n",
    "    multi *= class_porbs[class_]\n",
    "    probs[class_] = round(multi, 5)"
   ]
  },
  {
   "cell_type": "code",
   "execution_count": 127,
   "metadata": {},
   "outputs": [
    {
     "data": {
      "text/plain": [
       "{'go-out': 0.32, 'stay-home': 0.04}"
      ]
     },
     "execution_count": 127,
     "metadata": {},
     "output_type": "execute_result"
    }
   ],
   "source": [
    "probs"
   ]
  },
  {
   "cell_type": "markdown",
   "metadata": {},
   "source": [
    "Worked! Amazing! <br>\n",
    "Now, we can directly go and do this for all instances on our dataframe."
   ]
  },
  {
   "cell_type": "code",
   "execution_count": 142,
   "metadata": {},
   "outputs": [
    {
     "data": {
      "text/plain": [
       "48"
      ]
     },
     "execution_count": 142,
     "metadata": {},
     "output_type": "execute_result"
    }
   ],
   "source": [
    "pd.Series([12, 4]).prod()"
   ]
  },
  {
   "cell_type": "code",
   "execution_count": 158,
   "metadata": {},
   "outputs": [],
   "source": [
    "each = []\n",
    "for features in df.iloc[:, :-1].values:\n",
    "    probs = {}\n",
    "    for class_ in lookup.columns:\n",
    "        multi = lookup.loc[features, class_].prod()\n",
    "        multi *= class_porbs[class_]\n",
    "        probs[class_] = round(multi, 5)\n",
    "    winner = sorted(probs.items(), key=lambda i:i[1], reverse=True)[0][0]\n",
    "    probs[\"pred\"] = winner\n",
    "    each.append(probs)"
   ]
  },
  {
   "cell_type": "code",
   "execution_count": 159,
   "metadata": {},
   "outputs": [
    {
     "data": {
      "text/html": [
       "<div>\n",
       "<style scoped>\n",
       "    .dataframe tbody tr th:only-of-type {\n",
       "        vertical-align: middle;\n",
       "    }\n",
       "\n",
       "    .dataframe tbody tr th {\n",
       "        vertical-align: top;\n",
       "    }\n",
       "\n",
       "    .dataframe thead th {\n",
       "        text-align: right;\n",
       "    }\n",
       "</style>\n",
       "<table border=\"1\" class=\"dataframe\">\n",
       "  <thead>\n",
       "    <tr style=\"text-align: right;\">\n",
       "      <th></th>\n",
       "      <th>weather</th>\n",
       "      <th>car</th>\n",
       "      <th>y</th>\n",
       "      <th>go-out</th>\n",
       "      <th>stay-home</th>\n",
       "      <th>pred</th>\n",
       "    </tr>\n",
       "  </thead>\n",
       "  <tbody>\n",
       "    <tr>\n",
       "      <th>0</th>\n",
       "      <td>sunny</td>\n",
       "      <td>works</td>\n",
       "      <td>go-out</td>\n",
       "      <td>0.32</td>\n",
       "      <td>0.04</td>\n",
       "      <td>go-out</td>\n",
       "    </tr>\n",
       "    <tr>\n",
       "      <th>1</th>\n",
       "      <td>rainy</td>\n",
       "      <td>broken</td>\n",
       "      <td>go-out</td>\n",
       "      <td>0.02</td>\n",
       "      <td>0.24</td>\n",
       "      <td>stay-home</td>\n",
       "    </tr>\n",
       "    <tr>\n",
       "      <th>2</th>\n",
       "      <td>sunny</td>\n",
       "      <td>works</td>\n",
       "      <td>go-out</td>\n",
       "      <td>0.32</td>\n",
       "      <td>0.04</td>\n",
       "      <td>go-out</td>\n",
       "    </tr>\n",
       "    <tr>\n",
       "      <th>3</th>\n",
       "      <td>sunny</td>\n",
       "      <td>works</td>\n",
       "      <td>go-out</td>\n",
       "      <td>0.32</td>\n",
       "      <td>0.04</td>\n",
       "      <td>go-out</td>\n",
       "    </tr>\n",
       "    <tr>\n",
       "      <th>4</th>\n",
       "      <td>sunny</td>\n",
       "      <td>works</td>\n",
       "      <td>go-out</td>\n",
       "      <td>0.32</td>\n",
       "      <td>0.04</td>\n",
       "      <td>go-out</td>\n",
       "    </tr>\n",
       "    <tr>\n",
       "      <th>5</th>\n",
       "      <td>rainy</td>\n",
       "      <td>broken</td>\n",
       "      <td>stay-home</td>\n",
       "      <td>0.02</td>\n",
       "      <td>0.24</td>\n",
       "      <td>stay-home</td>\n",
       "    </tr>\n",
       "    <tr>\n",
       "      <th>6</th>\n",
       "      <td>rainy</td>\n",
       "      <td>broken</td>\n",
       "      <td>stay-home</td>\n",
       "      <td>0.02</td>\n",
       "      <td>0.24</td>\n",
       "      <td>stay-home</td>\n",
       "    </tr>\n",
       "    <tr>\n",
       "      <th>7</th>\n",
       "      <td>sunny</td>\n",
       "      <td>works</td>\n",
       "      <td>stay-home</td>\n",
       "      <td>0.32</td>\n",
       "      <td>0.04</td>\n",
       "      <td>go-out</td>\n",
       "    </tr>\n",
       "    <tr>\n",
       "      <th>8</th>\n",
       "      <td>sunny</td>\n",
       "      <td>broken</td>\n",
       "      <td>stay-home</td>\n",
       "      <td>0.08</td>\n",
       "      <td>0.16</td>\n",
       "      <td>stay-home</td>\n",
       "    </tr>\n",
       "    <tr>\n",
       "      <th>9</th>\n",
       "      <td>rainy</td>\n",
       "      <td>broken</td>\n",
       "      <td>stay-home</td>\n",
       "      <td>0.02</td>\n",
       "      <td>0.24</td>\n",
       "      <td>stay-home</td>\n",
       "    </tr>\n",
       "  </tbody>\n",
       "</table>\n",
       "</div>"
      ],
      "text/plain": [
       "  weather     car          y  go-out  stay-home       pred\n",
       "0   sunny   works     go-out    0.32       0.04     go-out\n",
       "1   rainy  broken     go-out    0.02       0.24  stay-home\n",
       "2   sunny   works     go-out    0.32       0.04     go-out\n",
       "3   sunny   works     go-out    0.32       0.04     go-out\n",
       "4   sunny   works     go-out    0.32       0.04     go-out\n",
       "5   rainy  broken  stay-home    0.02       0.24  stay-home\n",
       "6   rainy  broken  stay-home    0.02       0.24  stay-home\n",
       "7   sunny   works  stay-home    0.32       0.04     go-out\n",
       "8   sunny  broken  stay-home    0.08       0.16  stay-home\n",
       "9   rainy  broken  stay-home    0.02       0.24  stay-home"
      ]
     },
     "execution_count": 159,
     "metadata": {},
     "output_type": "execute_result"
    }
   ],
   "source": [
    "pred = pd.concat([df, pd.DataFrame(each)], axis=1)\n",
    "pred"
   ]
  },
  {
   "cell_type": "code",
   "execution_count": 160,
   "metadata": {},
   "outputs": [
    {
     "data": {
      "text/plain": [
       "80.0"
      ]
     },
     "execution_count": 160,
     "metadata": {},
     "output_type": "execute_result"
    }
   ],
   "source": [
    "((pred[\"y\"] == pred[\"pred\"]).sum() / pred.shape[0]) * 100"
   ]
  },
  {
   "cell_type": "markdown",
   "metadata": {},
   "source": [
    "We have got 80% accuracy! Great! Let's make a proper class so that we can use and test it for large dataset (with multiple categories and classes)."
   ]
  },
  {
   "cell_type": "markdown",
   "metadata": {},
   "source": [
    "# "
   ]
  },
  {
   "cell_type": "code",
   "execution_count": 366,
   "metadata": {},
   "outputs": [
    {
     "name": "stdout",
     "output_type": "stream",
     "text": [
      "Writing NB.py\n"
     ]
    }
   ],
   "source": [
    "%%writefile NB.py\n",
    "import numpy as np\n",
    "import pandas as pd\n",
    "\n",
    "class NaiveBayes():\n",
    "    \"\"\"\n",
    "    This class implements the categorical naive bayes algorithm\n",
    "    which requires all features and the targets to be discrete.\n",
    "    \n",
    "    The performance and predictions are too similar to sklearn's\n",
    "    CategoricalNB model. Accuracy is so similar in comparision.\n",
    "    \n",
    "    How To\n",
    "    ------\n",
    "    >>> model = NaiveBayes(wholeDF, \"target_y\")\n",
    "    >>> model.predict(wholeDF)\n",
    "        \n",
    "        # Concatinating to see the predicted probabilities\n",
    "    >>> pred = pd.concat([wholeDF, pd.DataFrame(model.predict(wholeDF))], axis=1)\n",
    "    \n",
    "        # Checking for accuracy\n",
    "    >>> (pred.y == pred.pred).sum() / pred.shape[0] * 100\n",
    "\n",
    "    \n",
    "    \"\"\"\n",
    "    def __init__(self, data: pd.DataFrame, target: str):\n",
    "        \n",
    "        self.data = data\n",
    "        self.target = target\n",
    "        \n",
    "        if not self.target in self.data:\n",
    "            raise NotImplementedError(\"Target provided is not found in the data.\")\n",
    "        \n",
    "        self.class_counts = self.data[self.target].value_counts()\n",
    "        self.class_porbs = self.class_counts / self.data.shape[0]\n",
    "\n",
    "        for_each_feature = []\n",
    "        for feature in self.data.drop(self.target, axis=1):\n",
    "            for_each_feature.append(self.calculate_conditional_prob(feature))\n",
    "\n",
    "        self.lookup = pd.concat(for_each_feature).unstack()\n",
    "    \n",
    "    \n",
    "    def calculate_conditional_prob(self, feature):\n",
    "        probs = {}\n",
    "        for category in self.data[feature].unique():\n",
    "            for class_ in self.data[self.target].unique():\n",
    "                filter_ = (self.data[feature] == category) & (self.data[self.target] == class_)\n",
    "                A_n_B = self.data[filter_].shape[0]\n",
    "                B = self.class_counts[class_]\n",
    "                probs[(category, class_)] = A_n_B / B\n",
    "        return pd.Series(probs)\n",
    "    \n",
    "    \n",
    "    def predict(self, data):\n",
    "        each = []\n",
    "        for features in data.drop(self.target, axis=1).values:\n",
    "            probs = {}\n",
    "            for class_ in self.lookup.columns:\n",
    "                multi = self.lookup.loc[features, class_].prod()\n",
    "                multi *= self.class_porbs[class_]\n",
    "                probs[class_] = round(multi, 5)\n",
    "            winner = sorted(probs.items(), key=lambda i:i[1], reverse=True)[0][0]\n",
    "            probs[\"pred\"] = winner\n",
    "            each.append(probs)\n",
    "        return each"
   ]
  },
  {
   "cell_type": "code",
   "execution_count": 346,
   "metadata": {},
   "outputs": [],
   "source": [
    "obj = NaiveBayes(df, \"y\")"
   ]
  },
  {
   "cell_type": "code",
   "execution_count": 347,
   "metadata": {},
   "outputs": [
    {
     "data": {
      "text/html": [
       "<div>\n",
       "<style scoped>\n",
       "    .dataframe tbody tr th:only-of-type {\n",
       "        vertical-align: middle;\n",
       "    }\n",
       "\n",
       "    .dataframe tbody tr th {\n",
       "        vertical-align: top;\n",
       "    }\n",
       "\n",
       "    .dataframe thead th {\n",
       "        text-align: right;\n",
       "    }\n",
       "</style>\n",
       "<table border=\"1\" class=\"dataframe\">\n",
       "  <thead>\n",
       "    <tr style=\"text-align: right;\">\n",
       "      <th></th>\n",
       "      <th>go-out</th>\n",
       "      <th>stay-home</th>\n",
       "    </tr>\n",
       "  </thead>\n",
       "  <tbody>\n",
       "    <tr>\n",
       "      <th>broken</th>\n",
       "      <td>0.2</td>\n",
       "      <td>0.8</td>\n",
       "    </tr>\n",
       "    <tr>\n",
       "      <th>rainy</th>\n",
       "      <td>0.2</td>\n",
       "      <td>0.6</td>\n",
       "    </tr>\n",
       "    <tr>\n",
       "      <th>sunny</th>\n",
       "      <td>0.8</td>\n",
       "      <td>0.4</td>\n",
       "    </tr>\n",
       "    <tr>\n",
       "      <th>works</th>\n",
       "      <td>0.8</td>\n",
       "      <td>0.2</td>\n",
       "    </tr>\n",
       "  </tbody>\n",
       "</table>\n",
       "</div>"
      ],
      "text/plain": [
       "        go-out  stay-home\n",
       "broken     0.2        0.8\n",
       "rainy      0.2        0.6\n",
       "sunny      0.8        0.4\n",
       "works      0.8        0.2"
      ]
     },
     "execution_count": 347,
     "metadata": {},
     "output_type": "execute_result"
    }
   ],
   "source": [
    "obj.lookup"
   ]
  },
  {
   "cell_type": "code",
   "execution_count": 348,
   "metadata": {},
   "outputs": [
    {
     "data": {
      "text/html": [
       "<div>\n",
       "<style scoped>\n",
       "    .dataframe tbody tr th:only-of-type {\n",
       "        vertical-align: middle;\n",
       "    }\n",
       "\n",
       "    .dataframe tbody tr th {\n",
       "        vertical-align: top;\n",
       "    }\n",
       "\n",
       "    .dataframe thead th {\n",
       "        text-align: right;\n",
       "    }\n",
       "</style>\n",
       "<table border=\"1\" class=\"dataframe\">\n",
       "  <thead>\n",
       "    <tr style=\"text-align: right;\">\n",
       "      <th></th>\n",
       "      <th>weather</th>\n",
       "      <th>car</th>\n",
       "      <th>y</th>\n",
       "      <th>go-out</th>\n",
       "      <th>stay-home</th>\n",
       "      <th>pred</th>\n",
       "    </tr>\n",
       "  </thead>\n",
       "  <tbody>\n",
       "    <tr>\n",
       "      <th>0</th>\n",
       "      <td>sunny</td>\n",
       "      <td>works</td>\n",
       "      <td>go-out</td>\n",
       "      <td>0.32</td>\n",
       "      <td>0.04</td>\n",
       "      <td>go-out</td>\n",
       "    </tr>\n",
       "    <tr>\n",
       "      <th>1</th>\n",
       "      <td>rainy</td>\n",
       "      <td>broken</td>\n",
       "      <td>go-out</td>\n",
       "      <td>0.02</td>\n",
       "      <td>0.24</td>\n",
       "      <td>stay-home</td>\n",
       "    </tr>\n",
       "    <tr>\n",
       "      <th>2</th>\n",
       "      <td>sunny</td>\n",
       "      <td>works</td>\n",
       "      <td>go-out</td>\n",
       "      <td>0.32</td>\n",
       "      <td>0.04</td>\n",
       "      <td>go-out</td>\n",
       "    </tr>\n",
       "    <tr>\n",
       "      <th>3</th>\n",
       "      <td>sunny</td>\n",
       "      <td>works</td>\n",
       "      <td>go-out</td>\n",
       "      <td>0.32</td>\n",
       "      <td>0.04</td>\n",
       "      <td>go-out</td>\n",
       "    </tr>\n",
       "    <tr>\n",
       "      <th>4</th>\n",
       "      <td>sunny</td>\n",
       "      <td>works</td>\n",
       "      <td>go-out</td>\n",
       "      <td>0.32</td>\n",
       "      <td>0.04</td>\n",
       "      <td>go-out</td>\n",
       "    </tr>\n",
       "    <tr>\n",
       "      <th>5</th>\n",
       "      <td>rainy</td>\n",
       "      <td>broken</td>\n",
       "      <td>stay-home</td>\n",
       "      <td>0.02</td>\n",
       "      <td>0.24</td>\n",
       "      <td>stay-home</td>\n",
       "    </tr>\n",
       "    <tr>\n",
       "      <th>6</th>\n",
       "      <td>rainy</td>\n",
       "      <td>broken</td>\n",
       "      <td>stay-home</td>\n",
       "      <td>0.02</td>\n",
       "      <td>0.24</td>\n",
       "      <td>stay-home</td>\n",
       "    </tr>\n",
       "    <tr>\n",
       "      <th>7</th>\n",
       "      <td>sunny</td>\n",
       "      <td>works</td>\n",
       "      <td>stay-home</td>\n",
       "      <td>0.32</td>\n",
       "      <td>0.04</td>\n",
       "      <td>go-out</td>\n",
       "    </tr>\n",
       "    <tr>\n",
       "      <th>8</th>\n",
       "      <td>sunny</td>\n",
       "      <td>broken</td>\n",
       "      <td>stay-home</td>\n",
       "      <td>0.08</td>\n",
       "      <td>0.16</td>\n",
       "      <td>stay-home</td>\n",
       "    </tr>\n",
       "    <tr>\n",
       "      <th>9</th>\n",
       "      <td>rainy</td>\n",
       "      <td>broken</td>\n",
       "      <td>stay-home</td>\n",
       "      <td>0.02</td>\n",
       "      <td>0.24</td>\n",
       "      <td>stay-home</td>\n",
       "    </tr>\n",
       "  </tbody>\n",
       "</table>\n",
       "</div>"
      ],
      "text/plain": [
       "  weather     car          y  go-out  stay-home       pred\n",
       "0   sunny   works     go-out    0.32       0.04     go-out\n",
       "1   rainy  broken     go-out    0.02       0.24  stay-home\n",
       "2   sunny   works     go-out    0.32       0.04     go-out\n",
       "3   sunny   works     go-out    0.32       0.04     go-out\n",
       "4   sunny   works     go-out    0.32       0.04     go-out\n",
       "5   rainy  broken  stay-home    0.02       0.24  stay-home\n",
       "6   rainy  broken  stay-home    0.02       0.24  stay-home\n",
       "7   sunny   works  stay-home    0.32       0.04     go-out\n",
       "8   sunny  broken  stay-home    0.08       0.16  stay-home\n",
       "9   rainy  broken  stay-home    0.02       0.24  stay-home"
      ]
     },
     "execution_count": 348,
     "metadata": {},
     "output_type": "execute_result"
    }
   ],
   "source": [
    "pred = pd.concat([df, pd.DataFrame(obj.predict(df))], axis=1)\n",
    "pred"
   ]
  },
  {
   "cell_type": "code",
   "execution_count": 349,
   "metadata": {},
   "outputs": [
    {
     "data": {
      "text/plain": [
       "80.0"
      ]
     },
     "execution_count": 349,
     "metadata": {},
     "output_type": "execute_result"
    }
   ],
   "source": [
    "(pred.y == pred.pred).sum() / pred.shape[0] * 100"
   ]
  },
  {
   "cell_type": "markdown",
   "metadata": {},
   "source": [
    "We are getting 80% here again!<br>\n",
    "Let's try this on new dataset."
   ]
  },
  {
   "cell_type": "code",
   "execution_count": 289,
   "metadata": {},
   "outputs": [],
   "source": [
    "# Creating multiple categories in multiple features\n",
    "\n",
    "X1 = [\"blue\", \"black\", \"red\", \"pink\"]\n",
    "X2 = [\"old\", \"young\", \"medium\", \"teen\", \"baby\"]\n",
    "X3 = [\"male\", \"female\"]\n",
    "y = [\"indian\", \"american\", \"russian\", \"european\"]"
   ]
  },
  {
   "cell_type": "code",
   "execution_count": 290,
   "metadata": {},
   "outputs": [],
   "source": [
    "# Randomly picking up and building data\n",
    "\n",
    "x1 = np.random.choice(X1, 200)\n",
    "x2 = np.random.choice(X2, 200)\n",
    "x3 = np.random.choice(X3, 200)\n",
    "y = np.random.choice(y, 200)"
   ]
  },
  {
   "cell_type": "code",
   "execution_count": 310,
   "metadata": {},
   "outputs": [
    {
     "data": {
      "text/html": [
       "<div>\n",
       "<style scoped>\n",
       "    .dataframe tbody tr th:only-of-type {\n",
       "        vertical-align: middle;\n",
       "    }\n",
       "\n",
       "    .dataframe tbody tr th {\n",
       "        vertical-align: top;\n",
       "    }\n",
       "\n",
       "    .dataframe thead th {\n",
       "        text-align: right;\n",
       "    }\n",
       "</style>\n",
       "<table border=\"1\" class=\"dataframe\">\n",
       "  <thead>\n",
       "    <tr style=\"text-align: right;\">\n",
       "      <th></th>\n",
       "      <th>eye_color</th>\n",
       "      <th>age</th>\n",
       "      <th>gender</th>\n",
       "      <th>country</th>\n",
       "    </tr>\n",
       "  </thead>\n",
       "  <tbody>\n",
       "    <tr>\n",
       "      <th>0</th>\n",
       "      <td>red</td>\n",
       "      <td>teen</td>\n",
       "      <td>male</td>\n",
       "      <td>russian</td>\n",
       "    </tr>\n",
       "    <tr>\n",
       "      <th>1</th>\n",
       "      <td>pink</td>\n",
       "      <td>teen</td>\n",
       "      <td>male</td>\n",
       "      <td>european</td>\n",
       "    </tr>\n",
       "    <tr>\n",
       "      <th>2</th>\n",
       "      <td>blue</td>\n",
       "      <td>medium</td>\n",
       "      <td>male</td>\n",
       "      <td>european</td>\n",
       "    </tr>\n",
       "    <tr>\n",
       "      <th>3</th>\n",
       "      <td>pink</td>\n",
       "      <td>medium</td>\n",
       "      <td>female</td>\n",
       "      <td>russian</td>\n",
       "    </tr>\n",
       "    <tr>\n",
       "      <th>4</th>\n",
       "      <td>blue</td>\n",
       "      <td>old</td>\n",
       "      <td>male</td>\n",
       "      <td>european</td>\n",
       "    </tr>\n",
       "    <tr>\n",
       "      <th>...</th>\n",
       "      <td>...</td>\n",
       "      <td>...</td>\n",
       "      <td>...</td>\n",
       "      <td>...</td>\n",
       "    </tr>\n",
       "    <tr>\n",
       "      <th>195</th>\n",
       "      <td>blue</td>\n",
       "      <td>young</td>\n",
       "      <td>male</td>\n",
       "      <td>european</td>\n",
       "    </tr>\n",
       "    <tr>\n",
       "      <th>196</th>\n",
       "      <td>black</td>\n",
       "      <td>teen</td>\n",
       "      <td>female</td>\n",
       "      <td>indian</td>\n",
       "    </tr>\n",
       "    <tr>\n",
       "      <th>197</th>\n",
       "      <td>red</td>\n",
       "      <td>teen</td>\n",
       "      <td>female</td>\n",
       "      <td>american</td>\n",
       "    </tr>\n",
       "    <tr>\n",
       "      <th>198</th>\n",
       "      <td>red</td>\n",
       "      <td>young</td>\n",
       "      <td>male</td>\n",
       "      <td>american</td>\n",
       "    </tr>\n",
       "    <tr>\n",
       "      <th>199</th>\n",
       "      <td>red</td>\n",
       "      <td>teen</td>\n",
       "      <td>female</td>\n",
       "      <td>european</td>\n",
       "    </tr>\n",
       "  </tbody>\n",
       "</table>\n",
       "<p>200 rows × 4 columns</p>\n",
       "</div>"
      ],
      "text/plain": [
       "    eye_color     age  gender   country\n",
       "0         red    teen    male   russian\n",
       "1        pink    teen    male  european\n",
       "2        blue  medium    male  european\n",
       "3        pink  medium  female   russian\n",
       "4        blue     old    male  european\n",
       "..        ...     ...     ...       ...\n",
       "195      blue   young    male  european\n",
       "196     black    teen  female    indian\n",
       "197       red    teen  female  american\n",
       "198       red   young    male  american\n",
       "199       red    teen  female  european\n",
       "\n",
       "[200 rows x 4 columns]"
      ]
     },
     "execution_count": 310,
     "metadata": {},
     "output_type": "execute_result"
    }
   ],
   "source": [
    "DF = pd.DataFrame({\"eye_color\":x1,\n",
    "                   \"age\": x2,\n",
    "                   \"gender\": x3,\n",
    "                   \"country\": y})\n",
    "DF"
   ]
  },
  {
   "cell_type": "markdown",
   "metadata": {},
   "source": [
    "###### "
   ]
  },
  {
   "cell_type": "markdown",
   "metadata": {},
   "source": [
    "## With ***our*** model "
   ]
  },
  {
   "cell_type": "code",
   "execution_count": 311,
   "metadata": {},
   "outputs": [],
   "source": [
    "obj = NaiveBayes(DF, \"country\")\n",
    "pred = pd.concat([DF, pd.DataFrame(obj.predict(DF))], axis=1)"
   ]
  },
  {
   "cell_type": "code",
   "execution_count": 312,
   "metadata": {},
   "outputs": [
    {
     "data": {
      "text/html": [
       "<div>\n",
       "<style scoped>\n",
       "    .dataframe tbody tr th:only-of-type {\n",
       "        vertical-align: middle;\n",
       "    }\n",
       "\n",
       "    .dataframe tbody tr th {\n",
       "        vertical-align: top;\n",
       "    }\n",
       "\n",
       "    .dataframe thead th {\n",
       "        text-align: right;\n",
       "    }\n",
       "</style>\n",
       "<table border=\"1\" class=\"dataframe\">\n",
       "  <thead>\n",
       "    <tr style=\"text-align: right;\">\n",
       "      <th></th>\n",
       "      <th>eye_color</th>\n",
       "      <th>age</th>\n",
       "      <th>gender</th>\n",
       "      <th>country</th>\n",
       "      <th>american</th>\n",
       "      <th>european</th>\n",
       "      <th>indian</th>\n",
       "      <th>russian</th>\n",
       "      <th>pred</th>\n",
       "    </tr>\n",
       "  </thead>\n",
       "  <tbody>\n",
       "    <tr>\n",
       "      <th>0</th>\n",
       "      <td>red</td>\n",
       "      <td>teen</td>\n",
       "      <td>male</td>\n",
       "      <td>russian</td>\n",
       "      <td>0.00553</td>\n",
       "      <td>0.00709</td>\n",
       "      <td>0.00554</td>\n",
       "      <td>0.01248</td>\n",
       "      <td>russian</td>\n",
       "    </tr>\n",
       "    <tr>\n",
       "      <th>1</th>\n",
       "      <td>pink</td>\n",
       "      <td>teen</td>\n",
       "      <td>male</td>\n",
       "      <td>european</td>\n",
       "      <td>0.00173</td>\n",
       "      <td>0.00967</td>\n",
       "      <td>0.00986</td>\n",
       "      <td>0.00858</td>\n",
       "      <td>indian</td>\n",
       "    </tr>\n",
       "    <tr>\n",
       "      <th>2</th>\n",
       "      <td>blue</td>\n",
       "      <td>medium</td>\n",
       "      <td>male</td>\n",
       "      <td>european</td>\n",
       "      <td>0.00533</td>\n",
       "      <td>0.00536</td>\n",
       "      <td>0.00845</td>\n",
       "      <td>0.00660</td>\n",
       "      <td>indian</td>\n",
       "    </tr>\n",
       "    <tr>\n",
       "      <th>3</th>\n",
       "      <td>pink</td>\n",
       "      <td>medium</td>\n",
       "      <td>female</td>\n",
       "      <td>russian</td>\n",
       "      <td>0.00278</td>\n",
       "      <td>0.00372</td>\n",
       "      <td>0.01075</td>\n",
       "      <td>0.00440</td>\n",
       "      <td>indian</td>\n",
       "    </tr>\n",
       "    <tr>\n",
       "      <th>4</th>\n",
       "      <td>blue</td>\n",
       "      <td>old</td>\n",
       "      <td>male</td>\n",
       "      <td>european</td>\n",
       "      <td>0.00533</td>\n",
       "      <td>0.01250</td>\n",
       "      <td>0.00634</td>\n",
       "      <td>0.00726</td>\n",
       "      <td>european</td>\n",
       "    </tr>\n",
       "    <tr>\n",
       "      <th>...</th>\n",
       "      <td>...</td>\n",
       "      <td>...</td>\n",
       "      <td>...</td>\n",
       "      <td>...</td>\n",
       "      <td>...</td>\n",
       "      <td>...</td>\n",
       "      <td>...</td>\n",
       "      <td>...</td>\n",
       "      <td>...</td>\n",
       "    </tr>\n",
       "    <tr>\n",
       "      <th>195</th>\n",
       "      <td>blue</td>\n",
       "      <td>young</td>\n",
       "      <td>male</td>\n",
       "      <td>european</td>\n",
       "      <td>0.00474</td>\n",
       "      <td>0.00982</td>\n",
       "      <td>0.00422</td>\n",
       "      <td>0.00462</td>\n",
       "      <td>european</td>\n",
       "    </tr>\n",
       "    <tr>\n",
       "      <th>196</th>\n",
       "      <td>black</td>\n",
       "      <td>teen</td>\n",
       "      <td>female</td>\n",
       "      <td>indian</td>\n",
       "      <td>0.00519</td>\n",
       "      <td>0.00591</td>\n",
       "      <td>0.00706</td>\n",
       "      <td>0.00624</td>\n",
       "      <td>indian</td>\n",
       "    </tr>\n",
       "    <tr>\n",
       "      <th>197</th>\n",
       "      <td>red</td>\n",
       "      <td>teen</td>\n",
       "      <td>female</td>\n",
       "      <td>american</td>\n",
       "      <td>0.00691</td>\n",
       "      <td>0.00591</td>\n",
       "      <td>0.00706</td>\n",
       "      <td>0.00832</td>\n",
       "      <td>russian</td>\n",
       "    </tr>\n",
       "    <tr>\n",
       "      <th>198</th>\n",
       "      <td>red</td>\n",
       "      <td>young</td>\n",
       "      <td>male</td>\n",
       "      <td>american</td>\n",
       "      <td>0.00632</td>\n",
       "      <td>0.00600</td>\n",
       "      <td>0.00238</td>\n",
       "      <td>0.00672</td>\n",
       "      <td>russian</td>\n",
       "    </tr>\n",
       "    <tr>\n",
       "      <th>199</th>\n",
       "      <td>red</td>\n",
       "      <td>teen</td>\n",
       "      <td>female</td>\n",
       "      <td>european</td>\n",
       "      <td>0.00691</td>\n",
       "      <td>0.00591</td>\n",
       "      <td>0.00706</td>\n",
       "      <td>0.00832</td>\n",
       "      <td>russian</td>\n",
       "    </tr>\n",
       "  </tbody>\n",
       "</table>\n",
       "<p>200 rows × 9 columns</p>\n",
       "</div>"
      ],
      "text/plain": [
       "    eye_color     age  gender   country  american  european   indian  russian  \\\n",
       "0         red    teen    male   russian   0.00553   0.00709  0.00554  0.01248   \n",
       "1        pink    teen    male  european   0.00173   0.00967  0.00986  0.00858   \n",
       "2        blue  medium    male  european   0.00533   0.00536  0.00845  0.00660   \n",
       "3        pink  medium  female   russian   0.00278   0.00372  0.01075  0.00440   \n",
       "4        blue     old    male  european   0.00533   0.01250  0.00634  0.00726   \n",
       "..        ...     ...     ...       ...       ...       ...      ...      ...   \n",
       "195      blue   young    male  european   0.00474   0.00982  0.00422  0.00462   \n",
       "196     black    teen  female    indian   0.00519   0.00591  0.00706  0.00624   \n",
       "197       red    teen  female  american   0.00691   0.00591  0.00706  0.00832   \n",
       "198       red   young    male  american   0.00632   0.00600  0.00238  0.00672   \n",
       "199       red    teen  female  european   0.00691   0.00591  0.00706  0.00832   \n",
       "\n",
       "         pred  \n",
       "0     russian  \n",
       "1      indian  \n",
       "2      indian  \n",
       "3      indian  \n",
       "4    european  \n",
       "..        ...  \n",
       "195  european  \n",
       "196    indian  \n",
       "197   russian  \n",
       "198   russian  \n",
       "199   russian  \n",
       "\n",
       "[200 rows x 9 columns]"
      ]
     },
     "execution_count": 312,
     "metadata": {},
     "output_type": "execute_result"
    }
   ],
   "source": [
    "pred"
   ]
  },
  {
   "cell_type": "markdown",
   "metadata": {},
   "source": [
    "We have our predictions... let's check the accuracy."
   ]
  },
  {
   "cell_type": "code",
   "execution_count": 313,
   "metadata": {},
   "outputs": [
    {
     "data": {
      "text/plain": [
       "36.5"
      ]
     },
     "execution_count": 313,
     "metadata": {},
     "output_type": "execute_result"
    }
   ],
   "source": [
    "(pred[\"country\"] == pred.pred).sum() / pred.shape[0] * 100"
   ]
  },
  {
   "cell_type": "markdown",
   "metadata": {},
   "source": [
    "So bad accuracy... but see the data was randomly generate so... we can't assume better accuracy! <br>\n",
    "Let's try the same data on `sklearn` model and check whether it gives better.\n",
    "                                                                                                    "
   ]
  },
  {
   "cell_type": "markdown",
   "metadata": {},
   "source": [
    "###### "
   ]
  },
  {
   "cell_type": "markdown",
   "metadata": {},
   "source": [
    "## With ***`sklearn`*** model "
   ]
  },
  {
   "cell_type": "code",
   "execution_count": 314,
   "metadata": {},
   "outputs": [],
   "source": [
    "from sklearn.naive_bayes import CategoricalNB\n",
    "from sklearn.preprocessing import OrdinalEncoder, OneHotEncoder"
   ]
  },
  {
   "cell_type": "markdown",
   "metadata": {},
   "source": [
    "sklearn doesn't act like we do. It takes features and target seperately."
   ]
  },
  {
   "cell_type": "code",
   "execution_count": 326,
   "metadata": {},
   "outputs": [],
   "source": [
    "X = DF.drop(\"country\", axis=1)\n",
    "y = DF[\"country\"]"
   ]
  },
  {
   "cell_type": "markdown",
   "metadata": {},
   "source": [
    "sklearn requires data in numeric format... we need to convert."
   ]
  },
  {
   "cell_type": "code",
   "execution_count": 316,
   "metadata": {},
   "outputs": [],
   "source": [
    "X = OneHotEncoder().fit_transform(X).toarray()"
   ]
  },
  {
   "cell_type": "code",
   "execution_count": 321,
   "metadata": {},
   "outputs": [
    {
     "data": {
      "text/plain": [
       "CategoricalNB()"
      ]
     },
     "execution_count": 321,
     "metadata": {},
     "output_type": "execute_result"
    }
   ],
   "source": [
    "# Model creation\n",
    "model = CategoricalNB()\n",
    "model.fit(X, y)"
   ]
  },
  {
   "cell_type": "code",
   "execution_count": 322,
   "metadata": {},
   "outputs": [
    {
     "data": {
      "text/plain": [
       "0.37"
      ]
     },
     "execution_count": 322,
     "metadata": {},
     "output_type": "execute_result"
    }
   ],
   "source": [
    "(y == model.predict(X)).sum() / len(y)"
   ]
  },
  {
   "cell_type": "markdown",
   "metadata": {},
   "source": [
    "Nearly same! Wow!"
   ]
  },
  {
   "cell_type": "markdown",
   "metadata": {},
   "source": [
    "# "
   ]
  },
  {
   "cell_type": "markdown",
   "metadata": {},
   "source": [
    "# That's it!\n",
    "In the next book, we will see how to deal with numerical data."
   ]
  }
 ],
 "metadata": {
  "kernelspec": {
   "display_name": "Python 3",
   "language": "python",
   "name": "python3"
  },
  "language_info": {
   "codemirror_mode": {
    "name": "ipython",
    "version": 3
   },
   "file_extension": ".py",
   "mimetype": "text/x-python",
   "name": "python",
   "nbconvert_exporter": "python",
   "pygments_lexer": "ipython3",
   "version": "3.8.5"
  }
 },
 "nbformat": 4,
 "nbformat_minor": 4
}
