{
 "cells": [
  {
   "cell_type": "markdown",
   "metadata": {},
   "source": [
    "# KNN Multi Target\n",
    "Again, this is a extention of KNN it is where we can predict multiple features at once. I know we are getting wild at KNN, but man it is simplest algorithm I have ever seen.\n",
    "\n",
    "Now, we will have to write such code which can also work with 1 target data and multi too. It will require us ti write a little more code than the other. \n",
    "\n",
    "Let's get started."
   ]
  },
  {
   "cell_type": "code",
   "execution_count": 1,
   "metadata": {},
   "outputs": [],
   "source": [
    "import numpy as np"
   ]
  },
  {
   "cell_type": "code",
   "execution_count": 48,
   "metadata": {},
   "outputs": [
    {
     "name": "stdout",
     "output_type": "stream",
     "text": [
      "Writing KNN_multi.py\n"
     ]
    }
   ],
   "source": [
    "%%writefile KNN_multi.py\n",
    "\n",
    "import statistics\n",
    "import numpy as np\n",
    "\n",
    "class KNN_multi:\n",
    "    \"\"\"\n",
    "    This model is so great. It also can work on 4 different\n",
    "    types of distance metrics.\n",
    "    \n",
    "    First time, I tried to make a model entirely in numpy.\n",
    "    Haven't used a single bit of pandas. It makes numpy stronger\n",
    "    and calculation faster.\n",
    "    \n",
    "    THIS IS ABLE TO PREDICT MULTI TARGET\n",
    "    \n",
    "    How To\n",
    "    ------\n",
    "        # X = df[[\"x1\", \"x2\"]]\n",
    "        # y = df[[\"y1\", \"y2\"]]\n",
    "    >>> model = KNN(X, y)\n",
    "    >>> pred = model.predict(X, k=3, dis_type=\"euclidean\")\n",
    "    \"\"\"\n",
    "    def __init__(self, X: np.ndarray, y: list):\n",
    "        X = np.array(X)\n",
    "        y = np.array(y)\n",
    "        if X.ndim != 2 or y.ndim != 2:\n",
    "            raise NotImplementedError(\\\n",
    "            \"\"\"\n",
    "            The dimention of the \n",
    "            features / targets must be 2D.\n",
    "            \"\"\")\n",
    "        if (len(X) != len(y)):\n",
    "            raise NotImplementedError(\\\n",
    "            \"\"\"\n",
    "            The length of features \n",
    "            and target mismatched.\n",
    "            \"\"\")\n",
    "        self.stored_X = X\n",
    "        self.stored_y = y\n",
    "        \n",
    "    \n",
    "    def predict(self, X: np.ndarray, k: int, dis_type=\"euclidean\", p=None):\n",
    "        X = np.array(X)\n",
    "        self.dis_type = dis_type\n",
    "        if (self.dis_type == \"minkowaski\") and (p == None):\n",
    "            raise NotImplementedError(\"Please provide `p` value.\")\n",
    "        self.p = p    \n",
    "        \n",
    "        if X.ndim != 2:\n",
    "            raise NotImplementedError(\\\n",
    "            \"\"\"\n",
    "            The dimention of the features \n",
    "            must be 2D.\n",
    "            \"\"\")\n",
    "            \n",
    "        pred_classes = []\n",
    "        for each_row in X:\n",
    "            distance = self.get_distance(row=each_row)\n",
    "            sorted_k_indexes = np.argsort(distance)[:k]\n",
    "            \n",
    "            targets = []\n",
    "            for n_target in range(self.stored_y.shape[1]):\n",
    "                pred_class = statistics.mode(self.stored_y[sorted_k_indexes, n_target])\n",
    "                targets.append(pred_class)\n",
    "            pred_classes.append(targets)\n",
    "        return pred_classes\n",
    "    \n",
    "    def get_distance(self, row):\n",
    "        if self.dis_type == \"euclidean\":\n",
    "            return ((row - self.stored_X) ** 2).sum(1) ** 0.5\n",
    "        elif self.dis_type == \"manhattan\":\n",
    "            return abs((row - self.stored_X)).sum(1)\n",
    "        elif self.dis_type == \"hamming\":\n",
    "            return abs(row - self.stored_X).sum(1) / len(row)\n",
    "        elif self.dis_type == \"minkowaski\":\n",
    "            return (abs(row - self.stored_X) ** self.p).sum(1) ** (1 / self.p)\n",
    "        else:\n",
    "            raise NotImplementedError(\\\n",
    "            f\"\"\"\n",
    "            The distance type chosen is `{self.dis_type}`.\n",
    "            Please choose from: \n",
    "            • euclidean\n",
    "            • manhattan\n",
    "            • hamming\n",
    "            • minkowaski\n",
    "            \"\"\")"
   ]
  },
  {
   "cell_type": "markdown",
   "metadata": {},
   "source": [
    "# "
   ]
  },
  {
   "cell_type": "markdown",
   "metadata": {},
   "source": [
    "# That was amazing!\n",
    "I have checked the code and that works!"
   ]
  }
 ],
 "metadata": {
  "kernelspec": {
   "display_name": "Python 3",
   "language": "python",
   "name": "python3"
  },
  "language_info": {
   "codemirror_mode": {
    "name": "ipython",
    "version": 3
   },
   "file_extension": ".py",
   "mimetype": "text/x-python",
   "name": "python",
   "nbconvert_exporter": "python",
   "pygments_lexer": "ipython3",
   "version": "3.8.5"
  }
 },
 "nbformat": 4,
 "nbformat_minor": 4
}
