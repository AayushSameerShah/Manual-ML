{
 "cells": [
  {
   "cell_type": "markdown",
   "metadata": {},
   "source": [
    "# Gaussain Naive Bayes "
   ]
  },
  {
   "cell_type": "markdown",
   "metadata": {},
   "source": [
    "This algorithm will be a *little more* useful in real life, as you will find many datasets with categorical target but with numerical inputs, unlike all features being categorical.\n",
    "\n",
    "Let's get going ∞"
   ]
  },
  {
   "cell_type": "code",
   "execution_count": 1,
   "metadata": {},
   "outputs": [],
   "source": [
    "import numpy as np\n",
    "import pandas as pd\n",
    "import matplotlib.pyplot as plt"
   ]
  },
  {
   "cell_type": "markdown",
   "metadata": {},
   "source": [
    "Again, we will use the given dataset."
   ]
  },
  {
   "cell_type": "code",
   "execution_count": 3,
   "metadata": {},
   "outputs": [],
   "source": [
    "X1 = [3.393533211, 3.110073483, 1.343808831, \n",
    "     3.582294042, 2.280362439, 7.423436942,\n",
    "     5.745051997, 9.172168622, 7.792783481,\n",
    "     7.939820817]\n",
    "X2 = [2.331273381, 1.781539638, 3.368360954,\n",
    "      4.67917911 , 2.866990263, 4.696522875,\n",
    "      3.533989803, 2.511101045, 3.424088941,\n",
    "      0.791637231]\n",
    "y = [0] * 5 + [1] * 5"
   ]
  },
  {
   "cell_type": "code",
   "execution_count": 4,
   "metadata": {},
   "outputs": [],
   "source": [
    "df = pd.DataFrame({\"x1\": X1, \n",
    "                  \"x2\": X2,\n",
    "                  \"y\":y})"
   ]
  },
  {
   "cell_type": "code",
   "execution_count": 4,
   "metadata": {},
   "outputs": [
    {
     "data": {
      "text/plain": [
       "<matplotlib.collections.PathCollection at 0x187f04f9520>"
      ]
     },
     "execution_count": 4,
     "metadata": {},
     "output_type": "execute_result"
    },
    {
     "data": {
      "image/png": "[encoded data removed]",
      "text/plain": [
       "<Figure size 432x288 with 1 Axes>"
      ]
     },
     "metadata": {
      "needs_background": "light"
     },
     "output_type": "display_data"
    }
   ],
   "source": [
    "plt.scatter(df.x1, df.x2, c=df.y, cmap=\"coolwarm\")"
   ]
  },
  {
   "cell_type": "markdown",
   "metadata": {},
   "source": [
    "As discussed in earlier books, we have to use the PDF function instead of Conditional Probability. \n",
    "> Though calculation will be done ***like*** conditional probability as we will check each feature X for each unique class."
   ]
  },
  {
   "cell_type": "markdown",
   "metadata": {},
   "source": [
    "### $$ PDF = \\frac{1} {\\sqrt{2\\pi} \\times \\sigma} \\times e^{-\\left(\\frac{(x - \\bar x)^2} {2 \\times \\sigma^2}\\right)} $$ "
   ]
  },
  {
   "cell_type": "code",
   "execution_count": 5,
   "metadata": {},
   "outputs": [],
   "source": [
    "def pdf(x, mean, std):\n",
    "    return (1 / (np.sqrt(2 * np.pi) * std)) * np.exp(-(x - mean) ** 2 / 2 * std ** 2)"
   ]
  },
  {
   "cell_type": "code",
   "execution_count": 6,
   "metadata": {},
   "outputs": [
    {
     "data": {
      "text/plain": [
       "array([-5, -4, -3, -2, -1,  0,  1,  2,  3,  4,  5])"
      ]
     },
     "execution_count": 6,
     "metadata": {},
     "output_type": "execute_result"
    }
   ],
   "source": [
    "numbers = np.arange(-5, 6)\n",
    "numbers"
   ]
  },
  {
   "cell_type": "code",
   "execution_count": 7,
   "metadata": {},
   "outputs": [],
   "source": [
    "pdfed = pdf(numbers, 0, 1)"
   ]
  },
  {
   "cell_type": "code",
   "execution_count": 8,
   "metadata": {},
   "outputs": [
    {
     "data": {
      "text/plain": [
       "[<matplotlib.lines.Line2D at 0x187f084a7c0>]"
      ]
     },
     "execution_count": 8,
     "metadata": {},
     "output_type": "execute_result"
    },
    {
     "data": {
      "image/png": "[encoded data removed]",
      "text/plain": [
       "<Figure size 432x288 with 1 Axes>"
      ]
     },
     "metadata": {
      "needs_background": "light"
     },
     "output_type": "display_data"
    }
   ],
   "source": [
    "plt.plot(numbers, pdfed)"
   ]
  },
  {
   "cell_type": "markdown",
   "metadata": {},
   "source": [
    "I don't know, why I did that... but as long as it gives correct output... I think the parenthesis are well balenced in the `pdf` function!"
   ]
  },
  {
   "cell_type": "markdown",
   "metadata": {},
   "source": [
    "1. Class probability\n",
    "2. Conditional probability (for each feature, each class)\n",
    "    - PDF\n",
    "        - mean\n",
    "        - std"
   ]
  },
  {
   "cell_type": "markdown",
   "metadata": {},
   "source": [
    "# "
   ]
  },
  {
   "cell_type": "markdown",
   "metadata": {},
   "source": [
    "### 1. Class Probabilities "
   ]
  },
  {
   "cell_type": "code",
   "execution_count": 9,
   "metadata": {},
   "outputs": [
    {
     "data": {
      "text/plain": [
       "1    5\n",
       "0    5\n",
       "Name: y, dtype: int64"
      ]
     },
     "execution_count": 9,
     "metadata": {},
     "output_type": "execute_result"
    }
   ],
   "source": [
    "class_counts = df.y.value_counts()\n",
    "class_counts"
   ]
  },
  {
   "cell_type": "code",
   "execution_count": 10,
   "metadata": {},
   "outputs": [
    {
     "data": {
      "text/plain": [
       "1    0.5\n",
       "0    0.5\n",
       "Name: y, dtype: float64"
      ]
     },
     "execution_count": 10,
     "metadata": {},
     "output_type": "execute_result"
    }
   ],
   "source": [
    "class_probs = class_counts / class_counts.sum()\n",
    "class_probs"
   ]
  },
  {
   "cell_type": "markdown",
   "metadata": {},
   "source": [
    "# "
   ]
  },
  {
   "cell_type": "markdown",
   "metadata": {},
   "source": [
    "### 2. Conditional Probs "
   ]
  },
  {
   "cell_type": "markdown",
   "metadata": {},
   "source": [
    "This is gonna be an amazing part. Here we will make a lookup table as we did in the classification part aka NB part.\n",
    "\n",
    "The cool thing, is we will do this with a simple pandas call! Just in a single line!"
   ]
  },
  {
   "cell_type": "code",
   "execution_count": 11,
   "metadata": {},
   "outputs": [
    {
     "data": {
      "text/html": [
       "<div>\n",
       "<style scoped>\n",
       "    .dataframe tbody tr th:only-of-type {\n",
       "        vertical-align: middle;\n",
       "    }\n",
       "\n",
       "    .dataframe tbody tr th {\n",
       "        vertical-align: top;\n",
       "    }\n",
       "\n",
       "    .dataframe thead tr th {\n",
       "        text-align: left;\n",
       "    }\n",
       "\n",
       "    .dataframe thead tr:last-of-type th {\n",
       "        text-align: right;\n",
       "    }\n",
       "</style>\n",
       "<table border=\"1\" class=\"dataframe\">\n",
       "  <thead>\n",
       "    <tr>\n",
       "      <th></th>\n",
       "      <th colspan=\"2\" halign=\"left\">x1</th>\n",
       "      <th colspan=\"2\" halign=\"left\">x2</th>\n",
       "    </tr>\n",
       "    <tr>\n",
       "      <th></th>\n",
       "      <th>mean</th>\n",
       "      <th>std</th>\n",
       "      <th>mean</th>\n",
       "      <th>std</th>\n",
       "    </tr>\n",
       "    <tr>\n",
       "      <th>y</th>\n",
       "      <th></th>\n",
       "      <th></th>\n",
       "      <th></th>\n",
       "      <th></th>\n",
       "    </tr>\n",
       "  </thead>\n",
       "  <tbody>\n",
       "    <tr>\n",
       "      <th>0</th>\n",
       "      <td>2.742014</td>\n",
       "      <td>0.926568</td>\n",
       "      <td>3.005469</td>\n",
       "      <td>1.107330</td>\n",
       "    </tr>\n",
       "    <tr>\n",
       "      <th>1</th>\n",
       "      <td>7.614652</td>\n",
       "      <td>1.234432</td>\n",
       "      <td>2.991468</td>\n",
       "      <td>1.454193</td>\n",
       "    </tr>\n",
       "  </tbody>\n",
       "</table>\n",
       "</div>"
      ],
      "text/plain": [
       "         x1                  x2          \n",
       "       mean       std      mean       std\n",
       "y                                        \n",
       "0  2.742014  0.926568  3.005469  1.107330\n",
       "1  7.614652  1.234432  2.991468  1.454193"
      ]
     },
     "execution_count": 11,
     "metadata": {},
     "output_type": "execute_result"
    }
   ],
   "source": [
    "lookup = df.groupby(\"y\").agg([\"mean\", \"std\"])\n",
    "lookup"
   ]
  },
  {
   "cell_type": "code",
   "execution_count": 12,
   "metadata": {},
   "outputs": [
    {
     "data": {
      "text/html": [
       "<div>\n",
       "<style scoped>\n",
       "    .dataframe tbody tr th:only-of-type {\n",
       "        vertical-align: middle;\n",
       "    }\n",
       "\n",
       "    .dataframe tbody tr th {\n",
       "        vertical-align: top;\n",
       "    }\n",
       "\n",
       "    .dataframe thead tr th {\n",
       "        text-align: left;\n",
       "    }\n",
       "</style>\n",
       "<table border=\"1\" class=\"dataframe\">\n",
       "  <thead>\n",
       "    <tr>\n",
       "      <th>y</th>\n",
       "      <th colspan=\"2\" halign=\"left\">0</th>\n",
       "      <th colspan=\"2\" halign=\"left\">1</th>\n",
       "    </tr>\n",
       "    <tr>\n",
       "      <th></th>\n",
       "      <th>x1</th>\n",
       "      <th>x2</th>\n",
       "      <th>x1</th>\n",
       "      <th>x2</th>\n",
       "    </tr>\n",
       "  </thead>\n",
       "  <tbody>\n",
       "    <tr>\n",
       "      <th>mean</th>\n",
       "      <td>2.742014</td>\n",
       "      <td>3.005469</td>\n",
       "      <td>7.614652</td>\n",
       "      <td>2.991468</td>\n",
       "    </tr>\n",
       "    <tr>\n",
       "      <th>std</th>\n",
       "      <td>0.926568</td>\n",
       "      <td>1.107330</td>\n",
       "      <td>1.234432</td>\n",
       "      <td>1.454193</td>\n",
       "    </tr>\n",
       "  </tbody>\n",
       "</table>\n",
       "</div>"
      ],
      "text/plain": [
       "y            0                   1          \n",
       "            x1        x2        x1        x2\n",
       "mean  2.742014  3.005469  7.614652  2.991468\n",
       "std   0.926568  1.107330  1.234432  1.454193"
      ]
     },
     "execution_count": 12,
     "metadata": {},
     "output_type": "execute_result"
    }
   ],
   "source": [
    "lookup = lookup.swapaxes(1, 0).unstack(0)\n",
    "lookup"
   ]
  },
  {
   "cell_type": "markdown",
   "metadata": {},
   "source": [
    "Pretty clean! As I said, we are done. We have learned the values. The model's learnt. Let's get movin' !"
   ]
  },
  {
   "cell_type": "markdown",
   "metadata": {},
   "source": [
    "# "
   ]
  },
  {
   "cell_type": "markdown",
   "metadata": {},
   "source": [
    "### 3. Predict "
   ]
  },
  {
   "cell_type": "markdown",
   "metadata": {},
   "source": [
    "Out prediction function will be as usual...\n",
    "\n",
    "## $$ P(y | X) = {P(X | y) \\times P(y)} $$"
   ]
  },
  {
   "cell_type": "markdown",
   "metadata": {},
   "source": [
    "###### "
   ]
  },
  {
   "cell_type": "markdown",
   "metadata": {},
   "source": [
    "But here, we will include a little change... instead of $ P(X | y) $ we will use $ PDF (X | y) $. "
   ]
  },
  {
   "cell_type": "markdown",
   "metadata": {},
   "source": [
    "## $$ P(y|X) = PDF(X | y) \\times P(y) $$"
   ]
  },
  {
   "cell_type": "markdown",
   "metadata": {},
   "source": [
    "###### "
   ]
  },
  {
   "cell_type": "markdown",
   "metadata": {},
   "source": [
    "And the complete equation will be..."
   ]
  },
  {
   "cell_type": "markdown",
   "metadata": {},
   "source": [
    "## $$\n",
    "\\begin{equation}\n",
    "\\begin{aligned}\n",
    "P(y | X) = & PDF(X_1 | y) \\\\\n",
    "        & \\times PDF(X_2 | y) \\\\\n",
    "        & ... \\\\\n",
    "        & \\times PDF(X_n | y) \\\\\n",
    "        & \\times P(y) \n",
    "\\end{aligned}\n",
    "\\end{equation}\n",
    "$$"
   ]
  },
  {
   "cell_type": "markdown",
   "metadata": {},
   "source": [
    "***NOTE***: In PDF, we will use the mean and std of corresponding X and Y pair (from lookup)."
   ]
  },
  {
   "cell_type": "code",
   "execution_count": 13,
   "metadata": {},
   "outputs": [
    {
     "data": {
      "text/html": [
       "<div>\n",
       "<style scoped>\n",
       "    .dataframe tbody tr th:only-of-type {\n",
       "        vertical-align: middle;\n",
       "    }\n",
       "\n",
       "    .dataframe tbody tr th {\n",
       "        vertical-align: top;\n",
       "    }\n",
       "\n",
       "    .dataframe thead th {\n",
       "        text-align: right;\n",
       "    }\n",
       "</style>\n",
       "<table border=\"1\" class=\"dataframe\">\n",
       "  <thead>\n",
       "    <tr style=\"text-align: right;\">\n",
       "      <th></th>\n",
       "      <th>x1</th>\n",
       "      <th>x2</th>\n",
       "      <th>y</th>\n",
       "    </tr>\n",
       "  </thead>\n",
       "  <tbody>\n",
       "    <tr>\n",
       "      <th>0</th>\n",
       "      <td>3.393533</td>\n",
       "      <td>2.331273</td>\n",
       "      <td>0</td>\n",
       "    </tr>\n",
       "  </tbody>\n",
       "</table>\n",
       "</div>"
      ],
      "text/plain": [
       "         x1        x2  y\n",
       "0  3.393533  2.331273  0"
      ]
     },
     "execution_count": 13,
     "metadata": {},
     "output_type": "execute_result"
    }
   ],
   "source": [
    "# Taking first instance\n",
    "df.iloc[[0]]"
   ]
  },
  {
   "cell_type": "markdown",
   "metadata": {},
   "source": [
    "For class `0`"
   ]
  },
  {
   "cell_type": "code",
   "execution_count": 14,
   "metadata": {},
   "outputs": [
    {
     "data": {
      "text/plain": [
       "0.3588381518290492"
      ]
     },
     "execution_count": 14,
     "metadata": {},
     "output_type": "execute_result"
    }
   ],
   "source": [
    "# For feature X1\n",
    "\n",
    "row = df.iloc[0].values\n",
    "learned_values = lookup[(0, \"x1\")]\n",
    "class_0_with_x1 = pdf(row[0], learned_values[\"mean\"], learned_values[\"std\"])\n",
    "class_0_with_x1"
   ]
  },
  {
   "cell_type": "code",
   "execution_count": 15,
   "metadata": {},
   "outputs": [
    {
     "data": {
      "text/plain": [
       "0.2726508887953506"
      ]
     },
     "execution_count": 15,
     "metadata": {},
     "output_type": "execute_result"
    }
   ],
   "source": [
    "# For feature X2\n",
    "\n",
    "row = df.iloc[0].values\n",
    "learned_values = lookup[(0, \"x2\")]\n",
    "class_0_with_x2 = pdf(row[1], learned_values[\"mean\"], learned_values[\"std\"])\n",
    "class_0_with_x2"
   ]
  },
  {
   "cell_type": "code",
   "execution_count": 16,
   "metadata": {},
   "outputs": [
    {
     "data": {
      "text/plain": [
       "0.048918770514935615"
      ]
     },
     "execution_count": 16,
     "metadata": {},
     "output_type": "execute_result"
    }
   ],
   "source": [
    "# Plugging in the values\n",
    "class_0_with_x1 * class_0_with_x2 * class_probs[0]"
   ]
  },
  {
   "cell_type": "markdown",
   "metadata": {},
   "source": [
    "###### "
   ]
  },
  {
   "cell_type": "markdown",
   "metadata": {},
   "source": [
    "For class `1`"
   ]
  },
  {
   "cell_type": "code",
   "execution_count": 17,
   "metadata": {},
   "outputs": [
    {
     "data": {
      "text/plain": [
       "4.1079569148601473e-07"
      ]
     },
     "execution_count": 17,
     "metadata": {},
     "output_type": "execute_result"
    }
   ],
   "source": [
    "# For feature X1\n",
    "\n",
    "row = df.iloc[0].values\n",
    "learned_values = lookup[(1, \"x1\")]\n",
    "class_0_with_x1 = pdf(row[0], learned_values[\"mean\"], learned_values[\"std\"])\n",
    "class_0_with_x1"
   ]
  },
  {
   "cell_type": "code",
   "execution_count": 18,
   "metadata": {},
   "outputs": [
    {
     "data": {
      "text/plain": [
       "0.17303901779050074"
      ]
     },
     "execution_count": 18,
     "metadata": {},
     "output_type": "execute_result"
    }
   ],
   "source": [
    "# For feature X2\n",
    "\n",
    "row = df.iloc[0].values\n",
    "learned_values = lookup[(1, \"x2\")]\n",
    "class_0_with_x2 = pdf(row[1], learned_values[\"mean\"], learned_values[\"std\"])\n",
    "class_0_with_x2"
   ]
  },
  {
   "cell_type": "code",
   "execution_count": 19,
   "metadata": {},
   "outputs": [
    {
     "data": {
      "text/plain": [
       "3.554184148365478e-08"
      ]
     },
     "execution_count": 19,
     "metadata": {},
     "output_type": "execute_result"
    }
   ],
   "source": [
    "# Plugging in the values\n",
    "class_0_with_x1 * class_0_with_x2 * class_probs[1]"
   ]
  },
  {
   "cell_type": "markdown",
   "metadata": {},
   "source": [
    "To the point. Exactly."
   ]
  },
  {
   "cell_type": "markdown",
   "metadata": {},
   "source": [
    "Here, class 0 is giving `0.048918` and class 1 is giving `3.554e-08`. Clearly class `0` wins here."
   ]
  },
  {
   "cell_type": "markdown",
   "metadata": {},
   "source": [
    "###### "
   ]
  },
  {
   "cell_type": "markdown",
   "metadata": {},
   "source": [
    "### Doing this for all instances "
   ]
  },
  {
   "cell_type": "code",
   "execution_count": 20,
   "metadata": {},
   "outputs": [],
   "source": [
    "pdfs = []\n",
    "for index, instance in enumerate(df.iloc[:, :-1].values):\n",
    "    by_class = {}\n",
    "    for class_ in df[\"y\"].unique():\n",
    "        whole = 1\n",
    "        for column, value in zip(df.columns[:-1], instance):\n",
    "            learned_values = lookup[(class_, column)]\n",
    "            pdf_val = pdf(value, learned_values[\"mean\"], learned_values[\"std\"])\n",
    "            whole *= pdf_val\n",
    "        whole *= class_probs[class_]\n",
    "        by_class[class_] = whole\n",
    "    by_class[\"winner\"] = sorted(by_class.items(), key=lambda i: i[1], reverse=True)[0][0]\n",
    "    pdfs.append(by_class)"
   ]
  },
  {
   "cell_type": "code",
   "execution_count": 21,
   "metadata": {},
   "outputs": [
    {
     "data": {
      "text/html": [
       "<div>\n",
       "<style scoped>\n",
       "    .dataframe tbody tr th:only-of-type {\n",
       "        vertical-align: middle;\n",
       "    }\n",
       "\n",
       "    .dataframe tbody tr th {\n",
       "        vertical-align: top;\n",
       "    }\n",
       "\n",
       "    .dataframe thead th {\n",
       "        text-align: right;\n",
       "    }\n",
       "</style>\n",
       "<table border=\"1\" class=\"dataframe\">\n",
       "  <thead>\n",
       "    <tr style=\"text-align: right;\">\n",
       "      <th></th>\n",
       "      <th>0</th>\n",
       "      <th>1</th>\n",
       "      <th>winner</th>\n",
       "    </tr>\n",
       "  </thead>\n",
       "  <tbody>\n",
       "    <tr>\n",
       "      <th>0</th>\n",
       "      <td>4.891877e-02</td>\n",
       "      <td>3.554184e-08</td>\n",
       "      <td>0</td>\n",
       "    </tr>\n",
       "    <tr>\n",
       "      <th>1</th>\n",
       "      <td>2.920928e-02</td>\n",
       "      <td>1.820649e-09</td>\n",
       "      <td>0</td>\n",
       "    </tr>\n",
       "    <tr>\n",
       "      <th>2</th>\n",
       "      <td>3.091081e-02</td>\n",
       "      <td>3.711704e-15</td>\n",
       "      <td>0</td>\n",
       "    </tr>\n",
       "    <tr>\n",
       "      <th>3</th>\n",
       "      <td>1.028313e-02</td>\n",
       "      <td>9.087275e-09</td>\n",
       "      <td>0</td>\n",
       "    </tr>\n",
       "    <tr>\n",
       "      <th>4</th>\n",
       "      <td>6.995166e-02</td>\n",
       "      <td>1.675389e-11</td>\n",
       "      <td>0</td>\n",
       "    </tr>\n",
       "    <tr>\n",
       "      <th>5</th>\n",
       "      <td>1.102891e-06</td>\n",
       "      <td>1.993521e-03</td>\n",
       "      <td>1</td>\n",
       "    </tr>\n",
       "    <tr>\n",
       "      <th>6</th>\n",
       "      <td>1.361494e-03</td>\n",
       "      <td>2.264317e-03</td>\n",
       "      <td>1</td>\n",
       "    </tr>\n",
       "    <tr>\n",
       "      <th>7</th>\n",
       "      <td>1.307311e-09</td>\n",
       "      <td>5.470650e-03</td>\n",
       "      <td>1</td>\n",
       "    </tr>\n",
       "    <tr>\n",
       "      <th>8</th>\n",
       "      <td>1.222273e-06</td>\n",
       "      <td>3.550240e-02</td>\n",
       "      <td>1</td>\n",
       "    </tr>\n",
       "    <tr>\n",
       "      <th>9</th>\n",
       "      <td>3.531319e-08</td>\n",
       "      <td>2.452139e-04</td>\n",
       "      <td>1</td>\n",
       "    </tr>\n",
       "  </tbody>\n",
       "</table>\n",
       "</div>"
      ],
      "text/plain": [
       "              0             1  winner\n",
       "0  4.891877e-02  3.554184e-08       0\n",
       "1  2.920928e-02  1.820649e-09       0\n",
       "2  3.091081e-02  3.711704e-15       0\n",
       "3  1.028313e-02  9.087275e-09       0\n",
       "4  6.995166e-02  1.675389e-11       0\n",
       "5  1.102891e-06  1.993521e-03       1\n",
       "6  1.361494e-03  2.264317e-03       1\n",
       "7  1.307311e-09  5.470650e-03       1\n",
       "8  1.222273e-06  3.550240e-02       1\n",
       "9  3.531319e-08  2.452139e-04       1"
      ]
     },
     "execution_count": 21,
     "metadata": {},
     "output_type": "execute_result"
    }
   ],
   "source": [
    "pred = pd.DataFrame(pdfs)\n",
    "pred"
   ]
  },
  {
   "cell_type": "code",
   "execution_count": 22,
   "metadata": {},
   "outputs": [
    {
     "data": {
      "text/html": [
       "<div>\n",
       "<style scoped>\n",
       "    .dataframe tbody tr th:only-of-type {\n",
       "        vertical-align: middle;\n",
       "    }\n",
       "\n",
       "    .dataframe tbody tr th {\n",
       "        vertical-align: top;\n",
       "    }\n",
       "\n",
       "    .dataframe thead th {\n",
       "        text-align: right;\n",
       "    }\n",
       "</style>\n",
       "<table border=\"1\" class=\"dataframe\">\n",
       "  <thead>\n",
       "    <tr style=\"text-align: right;\">\n",
       "      <th></th>\n",
       "      <th>x1</th>\n",
       "      <th>x2</th>\n",
       "      <th>y</th>\n",
       "      <th>0</th>\n",
       "      <th>1</th>\n",
       "      <th>winner</th>\n",
       "    </tr>\n",
       "  </thead>\n",
       "  <tbody>\n",
       "    <tr>\n",
       "      <th>0</th>\n",
       "      <td>3.393533</td>\n",
       "      <td>2.331273</td>\n",
       "      <td>0</td>\n",
       "      <td>4.891877e-02</td>\n",
       "      <td>3.554184e-08</td>\n",
       "      <td>0</td>\n",
       "    </tr>\n",
       "    <tr>\n",
       "      <th>1</th>\n",
       "      <td>3.110073</td>\n",
       "      <td>1.781540</td>\n",
       "      <td>0</td>\n",
       "      <td>2.920928e-02</td>\n",
       "      <td>1.820649e-09</td>\n",
       "      <td>0</td>\n",
       "    </tr>\n",
       "    <tr>\n",
       "      <th>2</th>\n",
       "      <td>1.343809</td>\n",
       "      <td>3.368361</td>\n",
       "      <td>0</td>\n",
       "      <td>3.091081e-02</td>\n",
       "      <td>3.711704e-15</td>\n",
       "      <td>0</td>\n",
       "    </tr>\n",
       "    <tr>\n",
       "      <th>3</th>\n",
       "      <td>3.582294</td>\n",
       "      <td>4.679179</td>\n",
       "      <td>0</td>\n",
       "      <td>1.028313e-02</td>\n",
       "      <td>9.087275e-09</td>\n",
       "      <td>0</td>\n",
       "    </tr>\n",
       "    <tr>\n",
       "      <th>4</th>\n",
       "      <td>2.280362</td>\n",
       "      <td>2.866990</td>\n",
       "      <td>0</td>\n",
       "      <td>6.995166e-02</td>\n",
       "      <td>1.675389e-11</td>\n",
       "      <td>0</td>\n",
       "    </tr>\n",
       "    <tr>\n",
       "      <th>5</th>\n",
       "      <td>7.423437</td>\n",
       "      <td>4.696523</td>\n",
       "      <td>1</td>\n",
       "      <td>1.102891e-06</td>\n",
       "      <td>1.993521e-03</td>\n",
       "      <td>1</td>\n",
       "    </tr>\n",
       "    <tr>\n",
       "      <th>6</th>\n",
       "      <td>5.745052</td>\n",
       "      <td>3.533990</td>\n",
       "      <td>1</td>\n",
       "      <td>1.361494e-03</td>\n",
       "      <td>2.264317e-03</td>\n",
       "      <td>1</td>\n",
       "    </tr>\n",
       "    <tr>\n",
       "      <th>7</th>\n",
       "      <td>9.172169</td>\n",
       "      <td>2.511101</td>\n",
       "      <td>1</td>\n",
       "      <td>1.307311e-09</td>\n",
       "      <td>5.470650e-03</td>\n",
       "      <td>1</td>\n",
       "    </tr>\n",
       "    <tr>\n",
       "      <th>8</th>\n",
       "      <td>7.792783</td>\n",
       "      <td>3.424089</td>\n",
       "      <td>1</td>\n",
       "      <td>1.222273e-06</td>\n",
       "      <td>3.550240e-02</td>\n",
       "      <td>1</td>\n",
       "    </tr>\n",
       "    <tr>\n",
       "      <th>9</th>\n",
       "      <td>7.939821</td>\n",
       "      <td>0.791637</td>\n",
       "      <td>1</td>\n",
       "      <td>3.531319e-08</td>\n",
       "      <td>2.452139e-04</td>\n",
       "      <td>1</td>\n",
       "    </tr>\n",
       "  </tbody>\n",
       "</table>\n",
       "</div>"
      ],
      "text/plain": [
       "         x1        x2  y             0             1  winner\n",
       "0  3.393533  2.331273  0  4.891877e-02  3.554184e-08       0\n",
       "1  3.110073  1.781540  0  2.920928e-02  1.820649e-09       0\n",
       "2  1.343809  3.368361  0  3.091081e-02  3.711704e-15       0\n",
       "3  3.582294  4.679179  0  1.028313e-02  9.087275e-09       0\n",
       "4  2.280362  2.866990  0  6.995166e-02  1.675389e-11       0\n",
       "5  7.423437  4.696523  1  1.102891e-06  1.993521e-03       1\n",
       "6  5.745052  3.533990  1  1.361494e-03  2.264317e-03       1\n",
       "7  9.172169  2.511101  1  1.307311e-09  5.470650e-03       1\n",
       "8  7.792783  3.424089  1  1.222273e-06  3.550240e-02       1\n",
       "9  7.939821  0.791637  1  3.531319e-08  2.452139e-04       1"
      ]
     },
     "execution_count": 22,
     "metadata": {},
     "output_type": "execute_result"
    }
   ],
   "source": [
    "pred = pd.concat([df, pred], axis=1)\n",
    "pred"
   ]
  },
  {
   "cell_type": "markdown",
   "metadata": {},
   "source": [
    "And... our accuracy is 100%. Cool!"
   ]
  },
  {
   "cell_type": "markdown",
   "metadata": {},
   "source": [
    "# "
   ]
  },
  {
   "cell_type": "markdown",
   "metadata": {},
   "source": [
    "**Let's make a compact class here**"
   ]
  },
  {
   "cell_type": "code",
   "execution_count": 21,
   "metadata": {},
   "outputs": [
    {
     "name": "stdout",
     "output_type": "stream",
     "text": [
      "Overwriting GNB.py\n"
     ]
    }
   ],
   "source": [
    "%%writefile GNB.py\n",
    "\n",
    "import math\n",
    "import numpy as np\n",
    "import pandas as pd\n",
    "\n",
    "class GaussianNaiveBayes:\n",
    "    \"\"\"\n",
    "    This is an amazing class.\n",
    "    I have \n",
    "    \"\"\"\n",
    "    def __init__(self, data: pd.DataFrame, target: str):\n",
    "        self.data = data\n",
    "        self.target = target\n",
    "        \n",
    "        if not self.target in self.data:\n",
    "            raise NotImplementedError(\"The given target column is not found in the data.\")\n",
    "            \n",
    "        self.class_counts = self.data[self.target].value_counts()\n",
    "        self.class_probs = self.class_counts / self.class_counts.sum()\n",
    "        self.lookup = self.data.groupby(self.target).agg([\"mean\", \"std\"])\n",
    "    \n",
    "    def predict(self, features):\n",
    "        feature_names = features.columns\n",
    "        target = self.data[self.target]\n",
    "\n",
    "        # For all rows - stores pdfs class wise and winner for that row\n",
    "        # in the form of dict {0: 0.33, 1: 1.23. winner: 1}\n",
    "        row_wise_pdf_and_winner = []\n",
    "\n",
    "        # Iterates through all features (excluding target)\n",
    "        for row in features.values:\n",
    "            # Stores the dict {0: 0.33, 1: 1.23. winner: 1}\n",
    "            # It gets appended in the maind row_wise... ↑ list.\n",
    "            pdfs_target_wise = {}\n",
    "\n",
    "            # Iterates through all unique classes\n",
    "            for target_class in target.unique():\n",
    "                # Stores all pdfs feature wise. Then we will use\n",
    "                # it to perform product [0.22, 0.32, 0.12] (in 3 features data)\n",
    "                pdfs_for_that_target_class = []\n",
    "\n",
    "                # Maps the feature name with its values to make\n",
    "                # it easier in lookup\n",
    "                for column, its_value in zip(feature_names, row):\n",
    "                    # Returns mean and std from lookup\n",
    "                    # for that class and feature\n",
    "                    learned_values = self.lookup.loc[target_class, column]\n",
    "\n",
    "                    # Appends featurewise pdf in list (then we will multiply)\n",
    "                    pdfs_for_that_target_class.append(\n",
    "                        self.pdf(its_value, learned_values[\"mean\"], learned_values[\"std\"]))\n",
    "\n",
    "                # For that class, we will return the pdf. After multiplying all\n",
    "                pdfs_target_wise[target_class] = math.prod(pdfs_for_that_target_class) * self.class_probs[target_class]\n",
    "\n",
    "            pdfs_target_wise[\"winner\"] = sorted(pdfs_target_wise.items(), key=lambda i: i[1], reverse=True)[0][0]\n",
    "            row_wise_pdf_and_winner.append(pdfs_target_wise)\n",
    "        return row_wise_pdf_and_winner\n",
    "    \n",
    "    @staticmethod\n",
    "    def pdf(x, mean, std):\n",
    "        return (1 / (np.sqrt(2 * np.pi) * std)) * np.exp(-(x - mean) ** 2 / (2 * std ** 2)) "
   ]
  },
  {
   "cell_type": "markdown",
   "metadata": {},
   "source": [
    "With previously used dataset."
   ]
  },
  {
   "cell_type": "code",
   "execution_count": 5,
   "metadata": {},
   "outputs": [],
   "source": [
    "obj = GNB(df, \"y\")"
   ]
  },
  {
   "cell_type": "code",
   "execution_count": 6,
   "metadata": {},
   "outputs": [
    {
     "data": {
      "text/plain": [
       "[{0: 0.05032427673372075, 1: 0.00011557718379945795, 'winner': 0},\n",
       " {0: 0.03891229878967955, 1: 4.0257123132694387e-05, 'winner': 0},\n",
       " {0: 0.02354195769052508, 1: 1.0677123311147688e-07, 'winner': 0},\n",
       " {0: 0.016404353839568914, 1: 0.00010893052118437212, 'winner': 0},\n",
       " {0: 0.06797274932849018, 1: 3.892920735657439e-06, 'winner': 0},\n",
       " {0: 6.919582110595242e-08, 1: 0.022027299133895104, 'winner': 1},\n",
       " {0: 0.00036240188135671443, 1: 0.013133373825769757, 'winner': 1},\n",
       " {0: 2.4462998433695283e-12, 1: 0.01893726496422881, 'winner': 1},\n",
       " {0: 2.5486090623409473e-08, 1: 0.04197206997894985, 'winner': 1},\n",
       " {0: 1.5425966116475593e-09, 1: 0.013636752786743601, 'winner': 1}]"
      ]
     },
     "execution_count": 6,
     "metadata": {},
     "output_type": "execute_result"
    }
   ],
   "source": [
    "obj.predict(df.drop(\"y\", axis=1))"
   ]
  },
  {
   "cell_type": "markdown",
   "metadata": {},
   "source": [
    "Great!"
   ]
  },
  {
   "cell_type": "markdown",
   "metadata": {},
   "source": [
    "###### "
   ]
  },
  {
   "cell_type": "markdown",
   "metadata": {},
   "source": [
    "#### On another dataset "
   ]
  },
  {
   "cell_type": "code",
   "execution_count": 7,
   "metadata": {},
   "outputs": [],
   "source": [
    "import seaborn as sns\n",
    "iris = sns.load_dataset(\"iris\")"
   ]
  },
  {
   "cell_type": "code",
   "execution_count": 18,
   "metadata": {},
   "outputs": [],
   "source": [
    "obj = GNB(iris, \"species\")"
   ]
  },
  {
   "cell_type": "code",
   "execution_count": 9,
   "metadata": {},
   "outputs": [
    {
     "data": {
      "text/plain": [
       "[{'setosa': 2.7915339171768885,\n",
       "  'versicolor': 8.322426199968102e-18,\n",
       "  'virginica': 6.008422572011112e-25,\n",
       "  'winner': 'setosa'},\n",
       " {'setosa': 1.4881643294772486,\n",
       "  'versicolor': 4.7164568365711915e-17,\n",
       "  'virginica': 1.032492867373919e-24,\n",
       "  'winner': 'setosa'},\n",
       " {'setosa': 1.1631447162337678,\n",
       "  'versicolor': 2.75329452765188e-18,\n",
       "  'virginica': 8.422280209499679e-26,\n",
       "  'winner': 'setosa'},\n",
       " {'setosa': 1.0857654378277553,\n",
       "  'versicolor': 3.332872173551793e-17,\n",
       "  'virginica': 9.435991991074538e-25,\n",
       "  'winner': 'setosa'},\n",
       " {'setosa': 2.65673752883528,\n",
       "  'versicolor': 2.7027983119749797e-18,\n",
       "  'virginica': 2.360722138204101e-25,\n",
       "  'winner': 'setosa'}]"
      ]
     },
     "execution_count": 9,
     "metadata": {},
     "output_type": "execute_result"
    }
   ],
   "source": [
    "pred = obj.predict(iris.drop(\"species\", axis=1))\n",
    "pred[:5]"
   ]
  },
  {
   "cell_type": "code",
   "execution_count": 10,
   "metadata": {},
   "outputs": [
    {
     "data": {
      "text/plain": [
       "0.96"
      ]
     },
     "execution_count": 10,
     "metadata": {},
     "output_type": "execute_result"
    }
   ],
   "source": [
    "pred = pd.concat([iris, pd.DataFrame(pred)], axis=1)\n",
    "(pred[\"species\"] == pred[\"winner\"]).sum() / pred.shape[0]"
   ]
  },
  {
   "cell_type": "markdown",
   "metadata": {},
   "source": [
    "# `96%`\n",
    "Isn't that freakin' awsome!"
   ]
  },
  {
   "cell_type": "markdown",
   "metadata": {},
   "source": [
    "# "
   ]
  },
  {
   "cell_type": "markdown",
   "metadata": {},
   "source": [
    "Let's try it in our built in `sklearn`."
   ]
  },
  {
   "cell_type": "code",
   "execution_count": 11,
   "metadata": {},
   "outputs": [],
   "source": [
    "from sklearn.naive_bayes import GaussianNB, CategoricalNB"
   ]
  },
  {
   "cell_type": "code",
   "execution_count": 13,
   "metadata": {},
   "outputs": [
    {
     "data": {
      "text/plain": [
       "GaussianNB()"
      ]
     },
     "execution_count": 13,
     "metadata": {},
     "output_type": "execute_result"
    }
   ],
   "source": [
    "model = GaussianNB()\n",
    "X = iris.drop(\"species\", axis=1)\n",
    "y = iris[\"species\"]\n",
    "model.fit(X, y)"
   ]
  },
  {
   "cell_type": "code",
   "execution_count": 14,
   "metadata": {},
   "outputs": [],
   "source": [
    "pred = model.predict(X)"
   ]
  },
  {
   "cell_type": "code",
   "execution_count": 15,
   "metadata": {},
   "outputs": [
    {
     "data": {
      "text/plain": [
       "0.96"
      ]
     },
     "execution_count": 15,
     "metadata": {},
     "output_type": "execute_result"
    }
   ],
   "source": [
    "(pred == y).sum() / len(y)"
   ]
  },
  {
   "cell_type": "markdown",
   "metadata": {},
   "source": [
    "### Same!!!"
   ]
  }
 ],
 "metadata": {
  "kernelspec": {
   "display_name": "Python 3",
   "language": "python",
   "name": "python3"
  },
  "language_info": {
   "codemirror_mode": {
    "name": "ipython",
    "version": 3
   },
   "file_extension": ".py",
   "mimetype": "text/x-python",
   "name": "python",
   "nbconvert_exporter": "python",
   "pygments_lexer": "ipython3",
   "version": "3.8.5"
  }
 },
 "nbformat": 4,
 "nbformat_minor": 4
}
