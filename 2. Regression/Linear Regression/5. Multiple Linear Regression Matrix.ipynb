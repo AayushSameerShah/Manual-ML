{
 "cells": [
  {
   "cell_type": "markdown",
   "metadata": {},
   "source": [
    "# MLR with Matrix "
   ]
  },
  {
   "cell_type": "markdown",
   "metadata": {},
   "source": [
    "This is gonna be something amazing. We are going to implement the matrix method to get the values of all **coefs** and the **intercept**.\n",
    "\n",
    "Also, here we will consider the intercept as a coef!"
   ]
  },
  {
   "cell_type": "markdown",
   "metadata": {},
   "source": [
    "# "
   ]
  },
  {
   "cell_type": "markdown",
   "metadata": {},
   "source": [
    "## MAIN FORMULA\n",
    "# $$ y = \\beta_{list} \\cdot X^T $$"
   ]
  },
  {
   "cell_type": "markdown",
   "metadata": {},
   "source": [
    "Why $ X^T $? I mean \"T\" → Transpose for what? It is to do the dot multiplication possible with X. "
   ]
  },
  {
   "cell_type": "markdown",
   "metadata": {},
   "source": [
    "#### Where $ \\beta_{list} $ consists... "
   ]
  },
  {
   "cell_type": "markdown",
   "metadata": {},
   "source": [
    "## $$ \\beta_{list} = [\\beta_0, \\beta_1, \\beta_2, ..., \\beta_n ]$$"
   ]
  },
  {
   "cell_type": "markdown",
   "metadata": {},
   "source": [
    "## TO FIND $ \\beta_{list} $ "
   ]
  },
  {
   "cell_type": "markdown",
   "metadata": {},
   "source": [
    "# $$ \\beta_{list} = (X^T \\cdot X)^{-1} \\cdot X^T \\cdot y $$ "
   ]
  },
  {
   "cell_type": "markdown",
   "metadata": {},
   "source": [
    "The term $ ()^{-1} $ is for → **inverse**. <br>\n",
    "It basically is used to devide the thing by what is next. We have a formula for that... but for now it is this."
   ]
  },
  {
   "cell_type": "markdown",
   "metadata": {},
   "source": [
    "###### —"
   ]
  },
  {
   "cell_type": "markdown",
   "metadata": {},
   "source": [
    "It is so easy and a lot less stuff here. Just 1 formulae for all and then 1 to apply it.<br>\n",
    "Let's get started."
   ]
  },
  {
   "cell_type": "markdown",
   "metadata": {},
   "source": [
    "# "
   ]
  },
  {
   "cell_type": "code",
   "execution_count": 9,
   "metadata": {},
   "outputs": [],
   "source": [
    "import pandas as pd, numpy as np, matplotlib.pyplot as plt\n",
    "from sklearn.datasets import make_regression\n",
    "from sklearn.linear_model import LinearRegression"
   ]
  },
  {
   "cell_type": "code",
   "execution_count": 2,
   "metadata": {},
   "outputs": [
    {
     "data": {
      "text/html": [
       "<div>\n",
       "<style scoped>\n",
       "    .dataframe tbody tr th:only-of-type {\n",
       "        vertical-align: middle;\n",
       "    }\n",
       "\n",
       "    .dataframe tbody tr th {\n",
       "        vertical-align: top;\n",
       "    }\n",
       "\n",
       "    .dataframe thead th {\n",
       "        text-align: right;\n",
       "    }\n",
       "</style>\n",
       "<table border=\"1\" class=\"dataframe\">\n",
       "  <thead>\n",
       "    <tr style=\"text-align: right;\">\n",
       "      <th></th>\n",
       "      <th>x1</th>\n",
       "      <th>x2</th>\n",
       "      <th>x3</th>\n",
       "      <th>y</th>\n",
       "    </tr>\n",
       "  </thead>\n",
       "  <tbody>\n",
       "    <tr>\n",
       "      <th>0</th>\n",
       "      <td>-0.360670</td>\n",
       "      <td>0.709209</td>\n",
       "      <td>-0.904823</td>\n",
       "      <td>-41.321804</td>\n",
       "    </tr>\n",
       "    <tr>\n",
       "      <th>1</th>\n",
       "      <td>-0.635700</td>\n",
       "      <td>-0.657834</td>\n",
       "      <td>-1.057572</td>\n",
       "      <td>-123.721816</td>\n",
       "    </tr>\n",
       "    <tr>\n",
       "      <th>2</th>\n",
       "      <td>-0.164755</td>\n",
       "      <td>1.133445</td>\n",
       "      <td>0.530992</td>\n",
       "      <td>65.412493</td>\n",
       "    </tr>\n",
       "    <tr>\n",
       "      <th>3</th>\n",
       "      <td>0.141822</td>\n",
       "      <td>0.219844</td>\n",
       "      <td>1.970709</td>\n",
       "      <td>123.589731</td>\n",
       "    </tr>\n",
       "    <tr>\n",
       "      <th>4</th>\n",
       "      <td>1.940904</td>\n",
       "      <td>-1.027038</td>\n",
       "      <td>2.250175</td>\n",
       "      <td>198.091447</td>\n",
       "    </tr>\n",
       "    <tr>\n",
       "      <th>...</th>\n",
       "      <td>...</td>\n",
       "      <td>...</td>\n",
       "      <td>...</td>\n",
       "      <td>...</td>\n",
       "    </tr>\n",
       "    <tr>\n",
       "      <th>995</th>\n",
       "      <td>1.064544</td>\n",
       "      <td>0.101481</td>\n",
       "      <td>0.230940</td>\n",
       "      <td>84.398478</td>\n",
       "    </tr>\n",
       "    <tr>\n",
       "      <th>996</th>\n",
       "      <td>-0.673161</td>\n",
       "      <td>-0.224533</td>\n",
       "      <td>0.745543</td>\n",
       "      <td>-11.669737</td>\n",
       "    </tr>\n",
       "    <tr>\n",
       "      <th>997</th>\n",
       "      <td>-0.081510</td>\n",
       "      <td>-0.715445</td>\n",
       "      <td>0.119470</td>\n",
       "      <td>-29.471740</td>\n",
       "    </tr>\n",
       "    <tr>\n",
       "      <th>998</th>\n",
       "      <td>0.586218</td>\n",
       "      <td>0.009117</td>\n",
       "      <td>0.577730</td>\n",
       "      <td>68.006590</td>\n",
       "    </tr>\n",
       "    <tr>\n",
       "      <th>999</th>\n",
       "      <td>-0.611079</td>\n",
       "      <td>2.051048</td>\n",
       "      <td>1.047575</td>\n",
       "      <td>106.429906</td>\n",
       "    </tr>\n",
       "  </tbody>\n",
       "</table>\n",
       "<p>1000 rows × 4 columns</p>\n",
       "</div>"
      ],
      "text/plain": [
       "           x1        x2        x3           y\n",
       "0   -0.360670  0.709209 -0.904823  -41.321804\n",
       "1   -0.635700 -0.657834 -1.057572 -123.721816\n",
       "2   -0.164755  1.133445  0.530992   65.412493\n",
       "3    0.141822  0.219844  1.970709  123.589731\n",
       "4    1.940904 -1.027038  2.250175  198.091447\n",
       "..        ...       ...       ...         ...\n",
       "995  1.064544  0.101481  0.230940   84.398478\n",
       "996 -0.673161 -0.224533  0.745543  -11.669737\n",
       "997 -0.081510 -0.715445  0.119470  -29.471740\n",
       "998  0.586218  0.009117  0.577730   68.006590\n",
       "999 -0.611079  2.051048  1.047575  106.429906\n",
       "\n",
       "[1000 rows x 4 columns]"
      ]
     },
     "execution_count": 2,
     "metadata": {},
     "output_type": "execute_result"
    }
   ],
   "source": [
    "X, y = make_regression(n_samples=1000, n_features=3, noise=0.9)\n",
    "df = pd.DataFrame(np.c_[X, y], columns=[\"x1\", \"x2\", \"x3\", \"y\"])\n",
    "df"
   ]
  },
  {
   "cell_type": "code",
   "execution_count": 3,
   "metadata": {},
   "outputs": [],
   "source": [
    "class MLR_matrix:\n",
    "    def __init__(self, X, y):\n",
    "        self.X = np.array(X)\n",
    "        self.y = np.array(y)\n",
    "        \n",
    "        if self.X.ndim == 1:\n",
    "            raise NotImplementedError(\"\"\"\n",
    "            X must not be 1D.\n",
    "            Hint: Use X[:, np.newaxis] to make it 2D.\"\"\")\n",
    "        elif (len(self.X) != len(y)) or (y.ndim != 1):\n",
    "            raise NotImplementedError(\"\"\"\n",
    "            Y must have same length\n",
    "            as the feature does and also it has to be 1D.\"\"\")\n",
    "        else:\n",
    "            self._B_list = self.calculate_coefs()\n",
    "            self.coefs = self._B_list[1:]\n",
    "            self.intercept = self._B_list[0]\n",
    "    \n",
    "    def calculate_coefs(self):\n",
    "        self.X = np.c_[np.ones(self.X.shape[0]), self.X]\n",
    "        return ((np.linalg.inv(self.X.T @ self.X)) @ self.X.T) @ self.y\n",
    "    \n",
    "    def predict(self, X):\n",
    "        X = np.array(X)\n",
    "        return self._B_list.dot(X.T)"
   ]
  },
  {
   "cell_type": "code",
   "execution_count": 13,
   "metadata": {},
   "outputs": [],
   "source": [
    "model = MLR_matrix(X, y)"
   ]
  },
  {
   "cell_type": "code",
   "execution_count": 14,
   "metadata": {},
   "outputs": [
    {
     "data": {
      "text/plain": [
       "array([62.28587063, 42.81801725, 53.63991095])"
      ]
     },
     "execution_count": 14,
     "metadata": {},
     "output_type": "execute_result"
    }
   ],
   "source": [
    "model.coefs"
   ]
  },
  {
   "cell_type": "code",
   "execution_count": 15,
   "metadata": {},
   "outputs": [
    {
     "data": {
      "text/plain": [
       "0.009745316469865317"
      ]
     },
     "execution_count": 15,
     "metadata": {},
     "output_type": "execute_result"
    }
   ],
   "source": [
    "model.intercept"
   ]
  },
  {
   "cell_type": "markdown",
   "metadata": {},
   "source": [
    "# "
   ]
  },
  {
   "cell_type": "code",
   "execution_count": 17,
   "metadata": {},
   "outputs": [
    {
     "data": {
      "text/plain": [
       "LinearRegression()"
      ]
     },
     "execution_count": 17,
     "metadata": {},
     "output_type": "execute_result"
    }
   ],
   "source": [
    "model = LinearRegression()\n",
    "model.fit(X, y)"
   ]
  },
  {
   "cell_type": "code",
   "execution_count": 18,
   "metadata": {},
   "outputs": [
    {
     "data": {
      "text/plain": [
       "array([62.28587063, 42.81801725, 53.63991095])"
      ]
     },
     "execution_count": 18,
     "metadata": {},
     "output_type": "execute_result"
    }
   ],
   "source": [
    "model.coef_"
   ]
  },
  {
   "cell_type": "code",
   "execution_count": 19,
   "metadata": {},
   "outputs": [
    {
     "data": {
      "text/plain": [
       "0.009745316469865983"
      ]
     },
     "execution_count": 19,
     "metadata": {},
     "output_type": "execute_result"
    }
   ],
   "source": [
    "model.intercept_"
   ]
  },
  {
   "cell_type": "markdown",
   "metadata": {},
   "source": [
    "# "
   ]
  },
  {
   "cell_type": "markdown",
   "metadata": {},
   "source": [
    "Cool! "
   ]
  }
 ],
 "metadata": {
  "kernelspec": {
   "display_name": "Python 3",
   "language": "python",
   "name": "python3"
  },
  "language_info": {
   "codemirror_mode": {
    "name": "ipython",
    "version": 3
   },
   "file_extension": ".py",
   "mimetype": "text/x-python",
   "name": "python",
   "nbconvert_exporter": "python",
   "pygments_lexer": "ipython3",
   "version": "3.8.5"
  }
 },
 "nbformat": 4,
 "nbformat_minor": 4
}
