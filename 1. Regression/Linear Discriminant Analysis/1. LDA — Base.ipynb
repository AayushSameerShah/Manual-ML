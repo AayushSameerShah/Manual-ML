{
 "cells": [
  {
   "cell_type": "markdown",
   "metadata": {},
   "source": [
    "# LDA\n",
    "*(A new beast of classification)*"
   ]
  },
  {
   "cell_type": "markdown",
   "metadata": {},
   "source": [
    "## "
   ]
  },
  {
   "cell_type": "markdown",
   "metadata": {},
   "source": [
    "The thing, **Linear**: <br>\n",
    "How linear it is, or why it is. First thing, it uses *Bayes Theorem* to classify the classes from the inputs. And, how linear is it... is kind of weird—but let's believe that it is linear."
   ]
  },
  {
   "cell_type": "markdown",
   "metadata": {},
   "source": [
    "##### "
   ]
  },
  {
   "cell_type": "markdown",
   "metadata": {},
   "source": [
    "Second thing, **Types**:<br>\n",
    "There are multiple versions or alternatives or types (better word!) of LDA\n",
    "1. **QDA**: Quadratic Disc. Analysis\n",
    "2. **FDA**: Flexible Disc. Analysis\n",
    "3. **RDA**: Regularized Disc. Analysis\n",
    "\n",
    "And the one that we will be implementing is... LDA or **Fisher's Disc. Analysis**."
   ]
  },
  {
   "cell_type": "markdown",
   "metadata": {},
   "source": [
    "##### "
   ]
  },
  {
   "cell_type": "markdown",
   "metadata": {},
   "source": [
    "Why, **LDA**: <br>\n",
    "It is when the Logistic Regression fails. It fails in...\n",
    "1. Two Class problems\n",
    "2. Unstability in well Separated Classes (not know what is it)\n",
    "3. Unstable with Few Examples."
   ]
  },
  {
   "cell_type": "markdown",
   "metadata": {},
   "source": [
    "##### "
   ]
  },
  {
   "cell_type": "markdown",
   "metadata": {},
   "source": [
    "Any pre-processing before *LDA*?: <br>\n",
    "* Must be a classification problem (of course)\n",
    "* Performs well on Normal Distributions.\n",
    "    - If the features are not normally distributed. Make them by:\n",
    "        1. Root Transformation\n",
    "        2. Log Transformation\n",
    "        3. Exponential Transformation\n",
    "        4. Resiprocal Transformation\n",
    "        5. Box-Cox Transformation\n",
    "        6. Yeo-Johnson Transformation\n",
    "* The mean should be 0 and standard deviation should be 1"
   ]
  },
  {
   "cell_type": "markdown",
   "metadata": {},
   "source": [
    "# "
   ]
  },
  {
   "cell_type": "markdown",
   "metadata": {},
   "source": [
    "### Okay, enough theory...\n",
    "Let's look at the ruling functions."
   ]
  },
  {
   "cell_type": "markdown",
   "metadata": {},
   "source": [
    "# "
   ]
  },
  {
   "cell_type": "markdown",
   "metadata": {},
   "source": [
    "## There are `2` main functions\n",
    "But they both require some things, so there will be other functions.<br>\n",
    "*We will take start from top level*"
   ]
  },
  {
   "cell_type": "markdown",
   "metadata": {},
   "source": [
    "##### "
   ]
  },
  {
   "cell_type": "markdown",
   "metadata": {},
   "source": [
    "#### BAYES THEOREM"
   ]
  },
  {
   "cell_type": "markdown",
   "metadata": {},
   "source": [
    "# $$ P(y|x) = \\frac {P(y) \\times P(x|y)} {\\sum P(l) \\times P(x|l)} $$"
   ]
  },
  {
   "cell_type": "markdown",
   "metadata": {},
   "source": [
    "Where: <br>\n",
    "$ P(y|x) $ → Probability of *that* class *given* x as the inputs (which has to be found - and for each class) <br>\n",
    "$ P(y) $ → The general probability of *that* class (from all data) <br>\n",
    "$ P(x|y) $ → Probability of *those* inputs *when* there is *this* class. <br>\n",
    "$ l $ → $l$ is every other class *except* the current class. (And same terminology)"
   ]
  },
  {
   "cell_type": "markdown",
   "metadata": {},
   "source": [
    "#### "
   ]
  },
  {
   "cell_type": "markdown",
   "metadata": {},
   "source": [
    "#### DISCRIMINANT FUNCTION (looks comp) "
   ]
  },
  {
   "cell_type": "markdown",
   "metadata": {},
   "source": [
    "## $$ \\text{Discriminant}_k(x) = x \\times \\frac {\\bar x_k} {\\sigma^2_k} - \\frac {\\bar x^2_k} {2 \\times \\sigma^2_k} + ln(P(k)) $$ "
   ]
  },
  {
   "cell_type": "markdown",
   "metadata": {},
   "source": [
    "# "
   ]
  },
  {
   "cell_type": "markdown",
   "metadata": {},
   "source": [
    "#### DISCRIMINANT FUNCTION (looks smooth) "
   ]
  },
  {
   "cell_type": "markdown",
   "metadata": {},
   "source": [
    "## $$ \\text{Discriminant}_k(x) = x \\times \\frac {\\text{mean}_k} {\\text{variance}^2_k} - \\frac {\\text{mean}^2_k} {2 \\times \\text{variance}^2_k} + ln(P(k)) $$ "
   ]
  },
  {
   "cell_type": "markdown",
   "metadata": {},
   "source": [
    "# "
   ]
  },
  {
   "cell_type": "markdown",
   "metadata": {},
   "source": [
    "So, this makes clear that we have to find...\n",
    "1. Mean (for each class 'k')\n",
    "2. Variance (for each class 'k')\n",
    "3. Probability (for each class 'k')"
   ]
  },
  {
   "cell_type": "markdown",
   "metadata": {},
   "source": [
    "# "
   ]
  },
  {
   "cell_type": "markdown",
   "metadata": {},
   "source": [
    "### MEAN "
   ]
  },
  {
   "cell_type": "markdown",
   "metadata": {},
   "source": [
    "# $$ \\bar x_k = \\frac {\\sum x_{ik}} {n_k} $$"
   ]
  },
  {
   "cell_type": "markdown",
   "metadata": {},
   "source": [
    "### VARIANCE"
   ]
  },
  {
   "cell_type": "markdown",
   "metadata": {},
   "source": [
    "# $$ \\sigma^2_k = \\frac {\\sum (x_{ik} - \\bar x_k)^2} {n-k} $$"
   ]
  },
  {
   "cell_type": "markdown",
   "metadata": {},
   "source": [
    "$ k $ → Is the number classes (3 if there are Good, Better, Best)"
   ]
  },
  {
   "cell_type": "markdown",
   "metadata": {},
   "source": [
    "# "
   ]
  },
  {
   "cell_type": "markdown",
   "metadata": {},
   "source": [
    "### PROBABILITY"
   ]
  },
  {
   "cell_type": "markdown",
   "metadata": {},
   "source": [
    "# $$ P(y) = \\frac {count(y)} {n} $$"
   ]
  },
  {
   "cell_type": "markdown",
   "metadata": {},
   "source": [
    "# "
   ]
  },
  {
   "cell_type": "markdown",
   "metadata": {},
   "source": [
    "# "
   ]
  },
  {
   "cell_type": "markdown",
   "metadata": {},
   "source": [
    "# The gun is loaded. <br>Let's shoot.\n",
    "Of course in the next book."
   ]
  }
 ],
 "metadata": {
  "kernelspec": {
   "display_name": "Python 3 (ipykernel)",
   "language": "python",
   "name": "python3"
  },
  "language_info": {
   "codemirror_mode": {
    "name": "ipython",
    "version": 3
   },
   "file_extension": ".py",
   "mimetype": "text/x-python",
   "name": "python",
   "nbconvert_exporter": "python",
   "pygments_lexer": "ipython3",
   "version": "3.11.7"
  }
 },
 "nbformat": 4,
 "nbformat_minor": 4
}
