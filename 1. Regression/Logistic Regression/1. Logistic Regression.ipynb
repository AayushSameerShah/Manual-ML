{
 "cells": [
  {
   "cell_type": "markdown",
   "metadata": {},
   "source": [
    "# Hey!\n",
    "Like of linear regression, here too logistic has a couple of flavours."
   ]
  },
  {
   "cell_type": "markdown",
   "metadata": {},
   "source": [
    "### Intuation:\n",
    "    Basically logistic regression is used for Binary Classification. It is as easy to understand as the liner regression is.\n",
    "    There are some things to keep in mind but first let's see the types:\n",
    "    \n",
    "1. **Simple Logistic Regression** → Used for Binary Classification\n",
    "2. **Multinomial Logistic Regression** → Used for 3 or more classes UNORDERED\n",
    "3. **Ordinal Logistic Regression** → Used for 3 or more classes ORDERED"
   ]
  },
  {
   "cell_type": "markdown",
   "metadata": {},
   "source": [
    "### How:\n",
    "    \n",
    "    There is all theory on how it works. But here I will give a little info.\n",
    "    \n",
    " - Logistic Reg works on the logistic (sigmoid) function. Which transforms any value to 0 to 1\n",
    " - Logistic Reg is a linear function with a linear formula **BUT** unlike LR the values are not directly accessible.\n",
    " - Value returned by a linear formula has to be converted to 0 to 1 by NON-LINEAR formula.\n",
    " - There are multiple ways to search for coefficients $ \\beta_0, \\beta_1, \\beta_n $\n",
    "     - Maximum Likelyhood\n",
    "     - Quasi-Newton method\n",
    "     - Gredient Descent\n",
    " - Gredient Descent is (again) easy to implement so we will use it here."
   ]
  },
  {
   "cell_type": "markdown",
   "metadata": {},
   "source": [
    "— <br>Let's get it done."
   ]
  },
  {
   "cell_type": "markdown",
   "metadata": {},
   "source": [
    "# "
   ]
  },
  {
   "cell_type": "markdown",
   "metadata": {},
   "source": [
    "# "
   ]
  },
  {
   "cell_type": "markdown",
   "metadata": {},
   "source": [
    "### BASIC REGRESSION MODEL\n",
    "\n",
    "# $$ \\text{output} = \\beta_0 + \\beta_1X_1 + \\beta_2X_2 $$"
   ]
  },
  {
   "cell_type": "markdown",
   "metadata": {},
   "source": [
    "### LOGISTIC PART\n",
    "\n",
    "# $$ p(class) = \\frac {1} {1 + e^\\text{-output}} $$"
   ]
  },
  {
   "cell_type": "markdown",
   "metadata": {},
   "source": [
    "### THIS ALL BECOMES "
   ]
  },
  {
   "cell_type": "markdown",
   "metadata": {},
   "source": [
    "# $$ p(class) = \\frac {1} {1 + e^{-\\beta_0 + \\beta_1X_1 + \\beta_2X_2}} $$"
   ]
  },
  {
   "cell_type": "markdown",
   "metadata": {},
   "source": [
    "Seems so simple!"
   ]
  },
  {
   "cell_type": "markdown",
   "metadata": {},
   "source": [
    "# "
   ]
  },
  {
   "cell_type": "markdown",
   "metadata": {},
   "source": [
    "____"
   ]
  },
  {
   "cell_type": "markdown",
   "metadata": {},
   "source": [
    "### UPDATE WEIGHTS "
   ]
  },
  {
   "cell_type": "markdown",
   "metadata": {},
   "source": [
    "###### "
   ]
  },
  {
   "cell_type": "markdown",
   "metadata": {},
   "source": [
    "#### Formulae to update <u>coef</u> "
   ]
  },
  {
   "cell_type": "markdown",
   "metadata": {},
   "source": [
    "### $$ w = w + LearningRate \\times (y_i - prediction) \\times \\hat y_i \\times (1 - prediction) \\times x_i $$"
   ]
  },
  {
   "cell_type": "markdown",
   "metadata": {},
   "source": [
    "#### Formulae to update <u>intercept</u> "
   ]
  },
  {
   "cell_type": "markdown",
   "metadata": {},
   "source": [
    "### $$ w = w + LearningRate \\times (y_i - prediction) \\times \\hat y_i \\times (1 - prediction) $$"
   ]
  },
  {
   "cell_type": "markdown",
   "metadata": {},
   "source": [
    "____"
   ]
  },
  {
   "cell_type": "markdown",
   "metadata": {},
   "source": [
    "# "
   ]
  },
  {
   "cell_type": "markdown",
   "metadata": {},
   "source": [
    "As we are going to use the **SGD** to search for the coefs, let's check the steps:\n",
    "1. **Set** the B0, B1, Bn = 0\n",
    "2. **Plug** those values **in the equation** and get the prediction of a prime class\n",
    "3. Get the **new** value of **B0** by a function\n",
    "4. Plug the feature values (B1, B2, Bn) for n times in another equation to get new values of B1, B2, Bn\n",
    "5. **Repeat** steps *2nd to 4th* till the end of data\n",
    "6. **Repeat** the steps *2nd to 5th* for the desired epochs\n",
    "7. Done!"
   ]
  },
  {
   "cell_type": "markdown",
   "metadata": {},
   "source": [
    "# "
   ]
  },
  {
   "cell_type": "code",
   "execution_count": 1,
   "metadata": {},
   "outputs": [],
   "source": [
    "import pandas as pd\n",
    "import numpy as np\n",
    "import matplotlib.pyplot as plt"
   ]
  },
  {
   "cell_type": "markdown",
   "metadata": {},
   "source": [
    "Using the book values"
   ]
  },
  {
   "cell_type": "code",
   "execution_count": 2,
   "metadata": {},
   "outputs": [],
   "source": [
    "x1 = [2.78, 1.46, 3.36, 1.38, 3.06, 7.62, 5.33, 6.922,  8.67,  7.67]\n",
    "x2 = [2.55, 2.36,  4.4, 1.85,  3.0,  2.7,  2.08, 1.77, -0.24,   3.5]\n",
    "y =  [0   ,    0,    0,    0,    0,    1,     1,    1,     1,     1]"
   ]
  },
  {
   "cell_type": "code",
   "execution_count": 3,
   "metadata": {},
   "outputs": [
    {
     "data": {
      "text/html": [
       "<div>\n",
       "<style scoped>\n",
       "    .dataframe tbody tr th:only-of-type {\n",
       "        vertical-align: middle;\n",
       "    }\n",
       "\n",
       "    .dataframe tbody tr th {\n",
       "        vertical-align: top;\n",
       "    }\n",
       "\n",
       "    .dataframe thead th {\n",
       "        text-align: right;\n",
       "    }\n",
       "</style>\n",
       "<table border=\"1\" class=\"dataframe\">\n",
       "  <thead>\n",
       "    <tr style=\"text-align: right;\">\n",
       "      <th></th>\n",
       "      <th>x1</th>\n",
       "      <th>x2</th>\n",
       "      <th>y</th>\n",
       "    </tr>\n",
       "  </thead>\n",
       "  <tbody>\n",
       "    <tr>\n",
       "      <th>0</th>\n",
       "      <td>2.780</td>\n",
       "      <td>2.55</td>\n",
       "      <td>0</td>\n",
       "    </tr>\n",
       "    <tr>\n",
       "      <th>1</th>\n",
       "      <td>1.460</td>\n",
       "      <td>2.36</td>\n",
       "      <td>0</td>\n",
       "    </tr>\n",
       "    <tr>\n",
       "      <th>2</th>\n",
       "      <td>3.360</td>\n",
       "      <td>4.40</td>\n",
       "      <td>0</td>\n",
       "    </tr>\n",
       "    <tr>\n",
       "      <th>3</th>\n",
       "      <td>1.380</td>\n",
       "      <td>1.85</td>\n",
       "      <td>0</td>\n",
       "    </tr>\n",
       "    <tr>\n",
       "      <th>4</th>\n",
       "      <td>3.060</td>\n",
       "      <td>3.00</td>\n",
       "      <td>0</td>\n",
       "    </tr>\n",
       "    <tr>\n",
       "      <th>5</th>\n",
       "      <td>7.620</td>\n",
       "      <td>2.70</td>\n",
       "      <td>1</td>\n",
       "    </tr>\n",
       "    <tr>\n",
       "      <th>6</th>\n",
       "      <td>5.330</td>\n",
       "      <td>2.08</td>\n",
       "      <td>1</td>\n",
       "    </tr>\n",
       "    <tr>\n",
       "      <th>7</th>\n",
       "      <td>6.922</td>\n",
       "      <td>1.77</td>\n",
       "      <td>1</td>\n",
       "    </tr>\n",
       "    <tr>\n",
       "      <th>8</th>\n",
       "      <td>8.670</td>\n",
       "      <td>-0.24</td>\n",
       "      <td>1</td>\n",
       "    </tr>\n",
       "    <tr>\n",
       "      <th>9</th>\n",
       "      <td>7.670</td>\n",
       "      <td>3.50</td>\n",
       "      <td>1</td>\n",
       "    </tr>\n",
       "  </tbody>\n",
       "</table>\n",
       "</div>"
      ],
      "text/plain": [
       "      x1    x2  y\n",
       "0  2.780  2.55  0\n",
       "1  1.460  2.36  0\n",
       "2  3.360  4.40  0\n",
       "3  1.380  1.85  0\n",
       "4  3.060  3.00  0\n",
       "5  7.620  2.70  1\n",
       "6  5.330  2.08  1\n",
       "7  6.922  1.77  1\n",
       "8  8.670 -0.24  1\n",
       "9  7.670  3.50  1"
      ]
     },
     "execution_count": 3,
     "metadata": {},
     "output_type": "execute_result"
    }
   ],
   "source": [
    "data = pd.DataFrame({\"x1\": x1, \"x2\":x2, \"y\":y})\n",
    "data"
   ]
  },
  {
   "cell_type": "code",
   "execution_count": 5,
   "metadata": {},
   "outputs": [
    {
     "data": {
      "text/plain": [
       "<matplotlib.collections.PathCollection at 0x122cdbcd220>"
      ]
     },
     "execution_count": 5,
     "metadata": {},
     "output_type": "execute_result"
    },
    {
     "data": {
      "image/png": "[encoded data removed]",
      "text/plain": [
       "<Figure size 432x288 with 1 Axes>"
      ]
     },
     "metadata": {
      "needs_background": "light"
     },
     "output_type": "display_data"
    }
   ],
   "source": [
    "plt.scatter(data.x1, data.x2, c=y, cmap=\"rainbow\")"
   ]
  },
  {
   "cell_type": "markdown",
   "metadata": {},
   "source": [
    "## "
   ]
  },
  {
   "cell_type": "code",
   "execution_count": 44,
   "metadata": {},
   "outputs": [],
   "source": [
    "# Initialize the values\n",
    "B0 = B1 = B2 = 0.0"
   ]
  },
  {
   "cell_type": "code",
   "execution_count": 45,
   "metadata": {},
   "outputs": [],
   "source": [
    "# Making a model\n",
    "def model(xi1, xi2):\n",
    "    return 1 / (1 + np.exp(-(B0 + (B1 * xi1) + (B2 * xi2))))"
   ]
  },
  {
   "cell_type": "code",
   "execution_count": 46,
   "metadata": {},
   "outputs": [],
   "source": [
    "# Plug the values\n",
    "LearningRate = 0.3\n",
    "\n",
    "for epoch in range(10):\n",
    "    for xi1, xi2, yi in data.values:\n",
    "        prediction = model(xi1, xi2)\n",
    "        B0 = B0 + LearningRate * (yi - prediction) * prediction * (1 - prediction)\n",
    "        B1 = B1 + LearningRate * (yi - prediction) * prediction * (1 - prediction) * xi1\n",
    "        B2 = B2 + LearningRate * (yi - prediction) * prediction * (1 - prediction) * xi2"
   ]
  },
  {
   "cell_type": "code",
   "execution_count": 47,
   "metadata": {},
   "outputs": [
    {
     "data": {
      "text/plain": [
       "(-0.40309846604104965, 0.8509623907351939, -1.1067556419101996)"
      ]
     },
     "execution_count": 47,
     "metadata": {},
     "output_type": "execute_result"
    }
   ],
   "source": [
    "B0, B1, B2"
   ]
  },
  {
   "cell_type": "markdown",
   "metadata": {},
   "source": [
    "Correct."
   ]
  },
  {
   "cell_type": "markdown",
   "metadata": {},
   "source": [
    "# "
   ]
  },
  {
   "cell_type": "markdown",
   "metadata": {},
   "source": [
    "Now, once after each epoch, we can check the accuracy. \n",
    "### Accuracy\n",
    "\n",
    "# $$ accuracy = \\frac {\\text{Correct Preds}} {\\text{Total Values}} \\times 100 $$ "
   ]
  },
  {
   "cell_type": "code",
   "execution_count": 48,
   "metadata": {},
   "outputs": [],
   "source": [
    "preds = []\n",
    "for xi1, xi2 in data[[\"x1\", \"x2\"]].values:\n",
    "    preds.append(model(xi1, xi2))"
   ]
  },
  {
   "cell_type": "code",
   "execution_count": 49,
   "metadata": {},
   "outputs": [],
   "source": [
    "data[\"pred\"] = preds"
   ]
  },
  {
   "cell_type": "code",
   "execution_count": 50,
   "metadata": {},
   "outputs": [
    {
     "data": {
      "text/html": [
       "<div>\n",
       "<style scoped>\n",
       "    .dataframe tbody tr th:only-of-type {\n",
       "        vertical-align: middle;\n",
       "    }\n",
       "\n",
       "    .dataframe tbody tr th {\n",
       "        vertical-align: top;\n",
       "    }\n",
       "\n",
       "    .dataframe thead th {\n",
       "        text-align: right;\n",
       "    }\n",
       "</style>\n",
       "<table border=\"1\" class=\"dataframe\">\n",
       "  <thead>\n",
       "    <tr style=\"text-align: right;\">\n",
       "      <th></th>\n",
       "      <th>x1</th>\n",
       "      <th>x2</th>\n",
       "      <th>y</th>\n",
       "      <th>pred</th>\n",
       "    </tr>\n",
       "  </thead>\n",
       "  <tbody>\n",
       "    <tr>\n",
       "      <th>0</th>\n",
       "      <td>2.780</td>\n",
       "      <td>2.55</td>\n",
       "      <td>0</td>\n",
       "      <td>0.297412</td>\n",
       "    </tr>\n",
       "    <tr>\n",
       "      <th>1</th>\n",
       "      <td>1.460</td>\n",
       "      <td>2.36</td>\n",
       "      <td>0</td>\n",
       "      <td>0.145215</td>\n",
       "    </tr>\n",
       "    <tr>\n",
       "      <th>2</th>\n",
       "      <td>3.360</td>\n",
       "      <td>4.40</td>\n",
       "      <td>0</td>\n",
       "      <td>0.082142</td>\n",
       "    </tr>\n",
       "    <tr>\n",
       "      <th>3</th>\n",
       "      <td>1.380</td>\n",
       "      <td>1.85</td>\n",
       "      <td>0</td>\n",
       "      <td>0.218186</td>\n",
       "    </tr>\n",
       "    <tr>\n",
       "      <th>4</th>\n",
       "      <td>3.060</td>\n",
       "      <td>3.00</td>\n",
       "      <td>0</td>\n",
       "      <td>0.246119</td>\n",
       "    </tr>\n",
       "    <tr>\n",
       "      <th>5</th>\n",
       "      <td>7.620</td>\n",
       "      <td>2.70</td>\n",
       "      <td>1</td>\n",
       "      <td>0.956603</td>\n",
       "    </tr>\n",
       "    <tr>\n",
       "      <th>6</th>\n",
       "      <td>5.330</td>\n",
       "      <td>2.08</td>\n",
       "      <td>1</td>\n",
       "      <td>0.861819</td>\n",
       "    </tr>\n",
       "    <tr>\n",
       "      <th>7</th>\n",
       "      <td>6.922</td>\n",
       "      <td>1.77</td>\n",
       "      <td>1</td>\n",
       "      <td>0.971483</td>\n",
       "    </tr>\n",
       "    <tr>\n",
       "      <th>8</th>\n",
       "      <td>8.670</td>\n",
       "      <td>-0.24</td>\n",
       "      <td>1</td>\n",
       "      <td>0.999283</td>\n",
       "    </tr>\n",
       "    <tr>\n",
       "      <th>9</th>\n",
       "      <td>7.670</td>\n",
       "      <td>3.50</td>\n",
       "      <td>1</td>\n",
       "      <td>0.904662</td>\n",
       "    </tr>\n",
       "  </tbody>\n",
       "</table>\n",
       "</div>"
      ],
      "text/plain": [
       "      x1    x2  y      pred\n",
       "0  2.780  2.55  0  0.297412\n",
       "1  1.460  2.36  0  0.145215\n",
       "2  3.360  4.40  0  0.082142\n",
       "3  1.380  1.85  0  0.218186\n",
       "4  3.060  3.00  0  0.246119\n",
       "5  7.620  2.70  1  0.956603\n",
       "6  5.330  2.08  1  0.861819\n",
       "7  6.922  1.77  1  0.971483\n",
       "8  8.670 -0.24  1  0.999283\n",
       "9  7.670  3.50  1  0.904662"
      ]
     },
     "execution_count": 50,
     "metadata": {},
     "output_type": "execute_result"
    }
   ],
   "source": [
    "data"
   ]
  },
  {
   "cell_type": "markdown",
   "metadata": {},
   "source": [
    "### Filter\n",
    "```python\n",
    "if (prediction) > 0.5: \n",
    "    return 1\n",
    "else:\n",
    "    return 0\n",
    "```"
   ]
  },
  {
   "cell_type": "code",
   "execution_count": 51,
   "metadata": {},
   "outputs": [],
   "source": [
    "def crisp(pred):\n",
    "    return 1 if pred > 0.5 else 0"
   ]
  },
  {
   "cell_type": "code",
   "execution_count": 52,
   "metadata": {},
   "outputs": [],
   "source": [
    "pred_labels = []\n",
    "for pred in data.pred:\n",
    "    pred_labels.append(crisp(pred))"
   ]
  },
  {
   "cell_type": "code",
   "execution_count": 53,
   "metadata": {},
   "outputs": [],
   "source": [
    "data[\"predicted_labels\"] = pred_labels"
   ]
  },
  {
   "cell_type": "code",
   "execution_count": 54,
   "metadata": {},
   "outputs": [
    {
     "data": {
      "text/html": [
       "<div>\n",
       "<style scoped>\n",
       "    .dataframe tbody tr th:only-of-type {\n",
       "        vertical-align: middle;\n",
       "    }\n",
       "\n",
       "    .dataframe tbody tr th {\n",
       "        vertical-align: top;\n",
       "    }\n",
       "\n",
       "    .dataframe thead th {\n",
       "        text-align: right;\n",
       "    }\n",
       "</style>\n",
       "<table border=\"1\" class=\"dataframe\">\n",
       "  <thead>\n",
       "    <tr style=\"text-align: right;\">\n",
       "      <th></th>\n",
       "      <th>x1</th>\n",
       "      <th>x2</th>\n",
       "      <th>y</th>\n",
       "      <th>pred</th>\n",
       "      <th>predicted_labels</th>\n",
       "    </tr>\n",
       "  </thead>\n",
       "  <tbody>\n",
       "    <tr>\n",
       "      <th>0</th>\n",
       "      <td>2.780</td>\n",
       "      <td>2.55</td>\n",
       "      <td>0</td>\n",
       "      <td>0.297412</td>\n",
       "      <td>0</td>\n",
       "    </tr>\n",
       "    <tr>\n",
       "      <th>1</th>\n",
       "      <td>1.460</td>\n",
       "      <td>2.36</td>\n",
       "      <td>0</td>\n",
       "      <td>0.145215</td>\n",
       "      <td>0</td>\n",
       "    </tr>\n",
       "    <tr>\n",
       "      <th>2</th>\n",
       "      <td>3.360</td>\n",
       "      <td>4.40</td>\n",
       "      <td>0</td>\n",
       "      <td>0.082142</td>\n",
       "      <td>0</td>\n",
       "    </tr>\n",
       "    <tr>\n",
       "      <th>3</th>\n",
       "      <td>1.380</td>\n",
       "      <td>1.85</td>\n",
       "      <td>0</td>\n",
       "      <td>0.218186</td>\n",
       "      <td>0</td>\n",
       "    </tr>\n",
       "    <tr>\n",
       "      <th>4</th>\n",
       "      <td>3.060</td>\n",
       "      <td>3.00</td>\n",
       "      <td>0</td>\n",
       "      <td>0.246119</td>\n",
       "      <td>0</td>\n",
       "    </tr>\n",
       "    <tr>\n",
       "      <th>5</th>\n",
       "      <td>7.620</td>\n",
       "      <td>2.70</td>\n",
       "      <td>1</td>\n",
       "      <td>0.956603</td>\n",
       "      <td>1</td>\n",
       "    </tr>\n",
       "    <tr>\n",
       "      <th>6</th>\n",
       "      <td>5.330</td>\n",
       "      <td>2.08</td>\n",
       "      <td>1</td>\n",
       "      <td>0.861819</td>\n",
       "      <td>1</td>\n",
       "    </tr>\n",
       "    <tr>\n",
       "      <th>7</th>\n",
       "      <td>6.922</td>\n",
       "      <td>1.77</td>\n",
       "      <td>1</td>\n",
       "      <td>0.971483</td>\n",
       "      <td>1</td>\n",
       "    </tr>\n",
       "    <tr>\n",
       "      <th>8</th>\n",
       "      <td>8.670</td>\n",
       "      <td>-0.24</td>\n",
       "      <td>1</td>\n",
       "      <td>0.999283</td>\n",
       "      <td>1</td>\n",
       "    </tr>\n",
       "    <tr>\n",
       "      <th>9</th>\n",
       "      <td>7.670</td>\n",
       "      <td>3.50</td>\n",
       "      <td>1</td>\n",
       "      <td>0.904662</td>\n",
       "      <td>1</td>\n",
       "    </tr>\n",
       "  </tbody>\n",
       "</table>\n",
       "</div>"
      ],
      "text/plain": [
       "      x1    x2  y      pred  predicted_labels\n",
       "0  2.780  2.55  0  0.297412                 0\n",
       "1  1.460  2.36  0  0.145215                 0\n",
       "2  3.360  4.40  0  0.082142                 0\n",
       "3  1.380  1.85  0  0.218186                 0\n",
       "4  3.060  3.00  0  0.246119                 0\n",
       "5  7.620  2.70  1  0.956603                 1\n",
       "6  5.330  2.08  1  0.861819                 1\n",
       "7  6.922  1.77  1  0.971483                 1\n",
       "8  8.670 -0.24  1  0.999283                 1\n",
       "9  7.670  3.50  1  0.904662                 1"
      ]
     },
     "execution_count": 54,
     "metadata": {},
     "output_type": "execute_result"
    }
   ],
   "source": [
    "data"
   ]
  },
  {
   "cell_type": "markdown",
   "metadata": {},
   "source": [
    "### Accuracy"
   ]
  },
  {
   "cell_type": "code",
   "execution_count": 55,
   "metadata": {},
   "outputs": [
    {
     "data": {
      "text/plain": [
       "100.0"
      ]
     },
     "execution_count": 55,
     "metadata": {},
     "output_type": "execute_result"
    }
   ],
   "source": [
    "total_right = (data.y == data.predicted_labels).sum()\n",
    "total_values = data.shape[0]\n",
    "accuracy = (total_right / total_values) * 100\n",
    "\n",
    "accuracy"
   ]
  },
  {
   "cell_type": "markdown",
   "metadata": {},
   "source": [
    "# "
   ]
  },
  {
   "cell_type": "markdown",
   "metadata": {},
   "source": [
    "# Now, let's\n",
    "Visualize the accuray while learning!"
   ]
  },
  {
   "cell_type": "code",
   "execution_count": 61,
   "metadata": {},
   "outputs": [
    {
     "data": {
      "text/html": [
       "<div>\n",
       "<style scoped>\n",
       "    .dataframe tbody tr th:only-of-type {\n",
       "        vertical-align: middle;\n",
       "    }\n",
       "\n",
       "    .dataframe tbody tr th {\n",
       "        vertical-align: top;\n",
       "    }\n",
       "\n",
       "    .dataframe thead th {\n",
       "        text-align: right;\n",
       "    }\n",
       "</style>\n",
       "<table border=\"1\" class=\"dataframe\">\n",
       "  <thead>\n",
       "    <tr style=\"text-align: right;\">\n",
       "      <th></th>\n",
       "      <th>x1</th>\n",
       "      <th>x2</th>\n",
       "      <th>y</th>\n",
       "    </tr>\n",
       "  </thead>\n",
       "  <tbody>\n",
       "    <tr>\n",
       "      <th>0</th>\n",
       "      <td>2.780</td>\n",
       "      <td>2.55</td>\n",
       "      <td>0</td>\n",
       "    </tr>\n",
       "    <tr>\n",
       "      <th>1</th>\n",
       "      <td>1.460</td>\n",
       "      <td>2.36</td>\n",
       "      <td>0</td>\n",
       "    </tr>\n",
       "    <tr>\n",
       "      <th>2</th>\n",
       "      <td>3.360</td>\n",
       "      <td>4.40</td>\n",
       "      <td>0</td>\n",
       "    </tr>\n",
       "    <tr>\n",
       "      <th>3</th>\n",
       "      <td>1.380</td>\n",
       "      <td>1.85</td>\n",
       "      <td>0</td>\n",
       "    </tr>\n",
       "    <tr>\n",
       "      <th>4</th>\n",
       "      <td>3.060</td>\n",
       "      <td>3.00</td>\n",
       "      <td>0</td>\n",
       "    </tr>\n",
       "    <tr>\n",
       "      <th>5</th>\n",
       "      <td>7.620</td>\n",
       "      <td>2.70</td>\n",
       "      <td>1</td>\n",
       "    </tr>\n",
       "    <tr>\n",
       "      <th>6</th>\n",
       "      <td>5.330</td>\n",
       "      <td>2.08</td>\n",
       "      <td>1</td>\n",
       "    </tr>\n",
       "    <tr>\n",
       "      <th>7</th>\n",
       "      <td>6.922</td>\n",
       "      <td>1.77</td>\n",
       "      <td>1</td>\n",
       "    </tr>\n",
       "    <tr>\n",
       "      <th>8</th>\n",
       "      <td>8.670</td>\n",
       "      <td>-0.24</td>\n",
       "      <td>1</td>\n",
       "    </tr>\n",
       "    <tr>\n",
       "      <th>9</th>\n",
       "      <td>7.670</td>\n",
       "      <td>3.50</td>\n",
       "      <td>1</td>\n",
       "    </tr>\n",
       "  </tbody>\n",
       "</table>\n",
       "</div>"
      ],
      "text/plain": [
       "      x1    x2  y\n",
       "0  2.780  2.55  0\n",
       "1  1.460  2.36  0\n",
       "2  3.360  4.40  0\n",
       "3  1.380  1.85  0\n",
       "4  3.060  3.00  0\n",
       "5  7.620  2.70  1\n",
       "6  5.330  2.08  1\n",
       "7  6.922  1.77  1\n",
       "8  8.670 -0.24  1\n",
       "9  7.670  3.50  1"
      ]
     },
     "execution_count": 61,
     "metadata": {},
     "output_type": "execute_result"
    }
   ],
   "source": [
    "data = pd.DataFrame({\"x1\": x1, \"x2\":x2, \"y\":y})\n",
    "data"
   ]
  },
  {
   "cell_type": "code",
   "execution_count": 44,
   "metadata": {},
   "outputs": [],
   "source": [
    "def model(xi1, xi2):\n",
    "    return 1 / (1 + np.exp(-(B0 + (B1 * xi1) + (B2 * xi2))))\n",
    "\n",
    "def crisp(pred):\n",
    "    return 1 if pred > 0.5 else 0\n",
    "\n",
    "def get_accuracy(preds):\n",
    "    total_right = sum(preds)\n",
    "    total_values = len(preds)\n",
    "    return (total_right / total_values) * 100"
   ]
  },
  {
   "cell_type": "code",
   "execution_count": 45,
   "metadata": {},
   "outputs": [],
   "source": [
    "B0 = B1 = B2 = 0.0\n",
    "LearningRate = 0.3\n",
    "epochs = 10\n",
    "\n",
    "accuracies = []\n",
    "for epoch in range(epochs):\n",
    "    for xi1, xi2, yi in data.values:\n",
    "        prediction = model(xi1, xi2)\n",
    "        B0 = B0 + LearningRate * (yi - prediction) * prediction * (1 - prediction)\n",
    "        B1 = B1 + LearningRate * (yi - prediction) * prediction * (1 - prediction) * xi1\n",
    "        B2 = B2 + LearningRate * (yi - prediction) * prediction * (1 - prediction) * xi2\n",
    "    \n",
    "    preds = []\n",
    "    for xi1, xi2, yi in data.values:\n",
    "        y_hat = model(xi1, xi2)\n",
    "        preds.append(yi == crisp(y_hat))\n",
    "        \n",
    "    accuracies.append(get_accuracy(preds))"
   ]
  },
  {
   "cell_type": "code",
   "execution_count": 46,
   "metadata": {},
   "outputs": [
    {
     "data": {
      "image/png": "[encoded data removed]",
      "text/plain": [
       "<Figure size 432x288 with 1 Axes>"
      ]
     },
     "metadata": {
      "needs_background": "light"
     },
     "output_type": "display_data"
    }
   ],
   "source": [
    "plt.plot(accuracies)\n",
    "plt.title(\"Epochwise accuracy\")\n",
    "plt.xlabel(\"← Ecpoch →\")\n",
    "plt.ylabel(\"← Accuracy →\");"
   ]
  },
  {
   "cell_type": "markdown",
   "metadata": {},
   "source": [
    "### TO DRAW A DECISION BOUNDRY\n",
    "\n",
    "# $$ -( \\beta_0 + \\beta_1 * x ) / \\beta_2 $$"
   ]
  },
  {
   "cell_type": "code",
   "execution_count": 89,
   "metadata": {},
   "outputs": [],
   "source": [
    "def get_x2(x1):\n",
    "    return -(B0 + B1 * x1) / B2"
   ]
  },
  {
   "cell_type": "code",
   "execution_count": 100,
   "metadata": {},
   "outputs": [
    {
     "data": {
      "text/plain": [
       "[<matplotlib.lines.Line2D at 0x122d209d5b0>]"
      ]
     },
     "execution_count": 100,
     "metadata": {},
     "output_type": "execute_result"
    },
    {
     "data": {
      "image/png": "[encoded data removed]",
      "text/plain": [
       "<Figure size 432x288 with 1 Axes>"
      ]
     },
     "metadata": {
      "needs_background": "light"
     },
     "output_type": "display_data"
    }
   ],
   "source": [
    "plt.scatter(data.x1, data.x2, c=y, cmap=\"rainbow\")\n",
    "plt.plot(data.x1, get_x2(data.x1))"
   ]
  },
  {
   "cell_type": "markdown",
   "metadata": {},
   "source": [
    "### or\n",
    "*for clarity ↓*"
   ]
  },
  {
   "cell_type": "code",
   "execution_count": 97,
   "metadata": {},
   "outputs": [],
   "source": [
    "x1_min = data.x1.min()\n",
    "x1_max = data.x1.max()\n",
    "x2_min = get_x2(x1_min)\n",
    "x2_max = get_x2(x1_max)"
   ]
  },
  {
   "cell_type": "code",
   "execution_count": 99,
   "metadata": {},
   "outputs": [
    {
     "data": {
      "text/plain": [
       "[<matplotlib.lines.Line2D at 0x122d20e4310>]"
      ]
     },
     "execution_count": 99,
     "metadata": {},
     "output_type": "execute_result"
    },
    {
     "data": {
      "image/png": "[encoded data removed]",
      "text/plain": [
       "<Figure size 432x288 with 1 Axes>"
      ]
     },
     "metadata": {
      "needs_background": "light"
     },
     "output_type": "display_data"
    }
   ],
   "source": [
    "plt.scatter(data.x1, data.x2, c=y, cmap=\"rainbow\")\n",
    "plt.plot([x1_min, x1_max], [x2_min, x2_max])"
   ]
  },
  {
   "cell_type": "markdown",
   "metadata": {},
   "source": [
    "# "
   ]
  },
  {
   "cell_type": "markdown",
   "metadata": {},
   "source": [
    "## Great! We have made our own Logistic Regression!! "
   ]
  },
  {
   "cell_type": "markdown",
   "metadata": {},
   "source": [
    "    Now, I am trying to make a class for LogRegression wich can be called from other\n",
    "    files as we can in the SLR."
   ]
  },
  {
   "cell_type": "code",
   "execution_count": 286,
   "metadata": {},
   "outputs": [],
   "source": [
    "# %%writefile logistic_reg.py\n",
    "import numpy as np\n",
    "\n",
    "class LogisticRegression():\n",
    "    '''\n",
    "    This is a Logistic Regression from scratch!\n",
    "    Very easy to use and implement.\n",
    "    \n",
    "    Features\n",
    "    --------\n",
    "    → It has ability to expand to many features at once. \n",
    "      That means, is you can pass n number of features \n",
    "      as 2D array and it will work.\n",
    "      \n",
    "    → Built in `predict` method that gives predicted labels\n",
    "    → Built in `accuracies` that will keep track of accuracies\n",
    "      on each epoch\n",
    "    → Easy syntax with documentation\n",
    "    \n",
    "    How to\n",
    "    ------\n",
    "    >>> model = LogisticRegression()\n",
    "    >>> model.train(epochs=10, learning_rate=0.3)\n",
    "    >>> model.intercept\n",
    "    >>> model.coefs\n",
    "    >>> model.predict(new_x)\n",
    "    >>> plt.plot(model.accuracies)\n",
    "    \n",
    "    Note\n",
    "    ----\n",
    "    The model requires data X data in 2D array. Otherwise \n",
    "    you will face an error!\n",
    "    \n",
    "    '''\n",
    "    def __init__(self, x, y):\n",
    "        self.x = np.array(x)\n",
    "        self.y = np.array(y)\n",
    "        \n",
    "        if self.x.ndim  == 1:\n",
    "            raise ValueError('''Hey! Please insert 2D list / array.\n",
    "            It's really awkward to work with 1D.\n",
    "            \n",
    "            Hint: Use `arr[:, np.newaxis]` to make it 2D if its 1D.''')\n",
    "        \n",
    "        if x.shape[0] != len(y):\n",
    "            raise NotImplementedError(''' Hey! The data length is not matching!!! Kindly match it!''')\n",
    "        self.intercept = 0.0\n",
    "        self.coefs = np.zeros(self.x.shape[-1], dtype=np.float32)\n",
    "    \n",
    "    def train(self, epochs, learning_rate=0.01):\n",
    "        self.accuracies = []\n",
    "        for epoch in range(epochs):\n",
    "            for X, y in zip(self.x, self.y):\n",
    "                prediction = self._model(X)\n",
    "                self.intercept = self.intercept + learning_rate * (y - prediction) * prediction * (1 - prediction)\n",
    "                for i in range(len(self.coefs)):\n",
    "                    self.coefs[i] = self.coefs[i] + learning_rate * (y - prediction) * prediction * (1 - prediction) * X[i]\n",
    "\n",
    "            preds = []\n",
    "            for X, y in zip(self.x, self.y):\n",
    "                prediction = self._model(X)\n",
    "                preds.append(y == self._crisp(prediction))\n",
    "            self.accuracies.append(self._get_accuracy(preds))\n",
    "    \n",
    "    def _model(self, X):\n",
    "        coefs_add = 0\n",
    "        for coef, xi in zip(self.coefs, X):\n",
    "            coefs_add += coef * xi\n",
    "        return 1 / (1 + np.exp(-(self.intercept + coefs_add)))\n",
    "    \n",
    "    def predict(self, new_x):\n",
    "        new_x = np.array(new_x)\n",
    "        assert new_x.ndim != 1, \"Please insert 2D array\"\n",
    "        assert new_x.shape[-1] == len(self.coefs), \"The data is mis-matched.\"\n",
    "        labels = []\n",
    "        for xi in new_x: \n",
    "            pred = self._model(xi)\n",
    "            label = self._crisp(pred)\n",
    "            labels.append(label)\n",
    "        return labels\n",
    "        \n",
    "    @staticmethod\n",
    "    def _crisp(pred):\n",
    "        return 1 if pred > 0.5 else 0\n",
    "    \n",
    "    @staticmethod\n",
    "    def _get_accuracy(preds):\n",
    "        total_right = sum(preds)\n",
    "        total_values = len(preds)\n",
    "        return (total_right / total_values) * 100"
   ]
  },
  {
   "cell_type": "code",
   "execution_count": 264,
   "metadata": {},
   "outputs": [],
   "source": [
    "model = LogisticRegression(data[[\"x1\", \"x2\"]], data.y)"
   ]
  },
  {
   "cell_type": "code",
   "execution_count": 265,
   "metadata": {},
   "outputs": [],
   "source": [
    "model.train(epochs=10, learning_rate=0.3)"
   ]
  },
  {
   "cell_type": "code",
   "execution_count": 266,
   "metadata": {},
   "outputs": [
    {
     "data": {
      "text/plain": [
       "-0.40309844410280826"
      ]
     },
     "execution_count": 266,
     "metadata": {},
     "output_type": "execute_result"
    }
   ],
   "source": [
    "model.intercept"
   ]
  },
  {
   "cell_type": "code",
   "execution_count": 267,
   "metadata": {},
   "outputs": [
    {
     "data": {
      "text/plain": [
       "array([ 0.8509623, -1.1067555], dtype=float32)"
      ]
     },
     "execution_count": 267,
     "metadata": {},
     "output_type": "execute_result"
    }
   ],
   "source": [
    "model.coefs"
   ]
  },
  {
   "cell_type": "code",
   "execution_count": 268,
   "metadata": {},
   "outputs": [
    {
     "data": {
      "text/plain": [
       "[0, 0, 0, 0, 0, 1, 1, 1, 1, 1]"
      ]
     },
     "execution_count": 268,
     "metadata": {},
     "output_type": "execute_result"
    }
   ],
   "source": [
    "model.predict(data[[\"x1\", \"x2\"]])"
   ]
  },
  {
   "cell_type": "markdown",
   "metadata": {},
   "source": [
    "# "
   ]
  },
  {
   "cell_type": "markdown",
   "metadata": {},
   "source": [
    "## Checking with another dataset "
   ]
  },
  {
   "cell_type": "code",
   "execution_count": 99,
   "metadata": {},
   "outputs": [],
   "source": [
    "from sklearn.datasets import make_blobs"
   ]
  },
  {
   "cell_type": "code",
   "execution_count": 237,
   "metadata": {},
   "outputs": [],
   "source": [
    "X, y = make_blobs(n_samples=100, n_features=2, cluster_std=2, centers=2)"
   ]
  },
  {
   "cell_type": "code",
   "execution_count": 269,
   "metadata": {},
   "outputs": [
    {
     "data": {
      "text/plain": [
       "<matplotlib.collections.PathCollection at 0x24c6a0af130>"
      ]
     },
     "execution_count": 269,
     "metadata": {},
     "output_type": "execute_result"
    },
    {
     "data": {
      "image/png": "[encoded data removed]",
      "text/plain": [
       "<Figure size 432x288 with 1 Axes>"
      ]
     },
     "metadata": {
      "needs_background": "light"
     },
     "output_type": "display_data"
    }
   ],
   "source": [
    "plt.scatter(X[:, 0], X[:, 1], c=y)"
   ]
  },
  {
   "cell_type": "code",
   "execution_count": 270,
   "metadata": {},
   "outputs": [],
   "source": [
    "model = LogisticRegression(X, y)"
   ]
  },
  {
   "cell_type": "code",
   "execution_count": 271,
   "metadata": {},
   "outputs": [],
   "source": [
    "model.train(epochs=10, learning_rate=0.3)"
   ]
  },
  {
   "cell_type": "code",
   "execution_count": 272,
   "metadata": {},
   "outputs": [
    {
     "data": {
      "text/plain": [
       "[<matplotlib.lines.Line2D at 0x24c69e2c310>]"
      ]
     },
     "execution_count": 272,
     "metadata": {},
     "output_type": "execute_result"
    },
    {
     "data": {
      "image/png": "[encoded data removed]",
      "text/plain": [
       "<Figure size 432x288 with 1 Axes>"
      ]
     },
     "metadata": {
      "needs_background": "light"
     },
     "output_type": "display_data"
    }
   ],
   "source": [
    "plt.plot(model.accuracies)"
   ]
  },
  {
   "cell_type": "code",
   "execution_count": 273,
   "metadata": {},
   "outputs": [
    {
     "data": {
      "text/plain": [
       "array([1.7693759, 0.8232419], dtype=float32)"
      ]
     },
     "execution_count": 273,
     "metadata": {},
     "output_type": "execute_result"
    }
   ],
   "source": [
    "model.coefs"
   ]
  },
  {
   "cell_type": "code",
   "execution_count": 274,
   "metadata": {},
   "outputs": [
    {
     "data": {
      "text/plain": [
       "-0.18693731648249087"
      ]
     },
     "execution_count": 274,
     "metadata": {},
     "output_type": "execute_result"
    }
   ],
   "source": [
    "model.intercept"
   ]
  },
  {
   "cell_type": "code",
   "execution_count": 275,
   "metadata": {},
   "outputs": [
    {
     "data": {
      "text/plain": [
       "array([0, 0, 0, 0, 0, 1, 0, 1, 0, 0, 1, 0, 1, 1, 1, 1, 0, 0, 1, 0, 0, 1,\n",
       "       0, 1, 1, 0, 0, 0, 1, 1, 1, 0, 1, 1, 0, 1, 1, 0, 0, 0, 1, 1, 1, 1,\n",
       "       0, 1, 0, 0, 0, 0, 0, 1, 0, 0, 1, 1, 0, 1, 0, 1, 1, 1, 0, 1, 1, 1,\n",
       "       0, 1, 1, 1, 0, 0, 1, 0, 0, 0, 0, 1, 0, 0, 0, 1, 0, 1, 1, 1, 0, 1,\n",
       "       1, 1, 0, 1, 0, 1, 0, 0, 1, 0, 1, 1])"
      ]
     },
     "execution_count": 275,
     "metadata": {},
     "output_type": "execute_result"
    }
   ],
   "source": [
    "a = np.array(model.predict(X))\n",
    "a"
   ]
  },
  {
   "cell_type": "markdown",
   "metadata": {},
   "source": [
    "# "
   ]
  },
  {
   "cell_type": "markdown",
   "metadata": {},
   "source": [
    "Trying with sklearn's method"
   ]
  },
  {
   "cell_type": "code",
   "execution_count": 276,
   "metadata": {},
   "outputs": [],
   "source": [
    "import sklearn.linear_model as lm"
   ]
  },
  {
   "cell_type": "code",
   "execution_count": 277,
   "metadata": {},
   "outputs": [],
   "source": [
    "model = lm.LogisticRegression()"
   ]
  },
  {
   "cell_type": "code",
   "execution_count": 278,
   "metadata": {},
   "outputs": [
    {
     "data": {
      "text/plain": [
       "LogisticRegression()"
      ]
     },
     "execution_count": 278,
     "metadata": {},
     "output_type": "execute_result"
    }
   ],
   "source": [
    "model.fit(X, y)"
   ]
  },
  {
   "cell_type": "code",
   "execution_count": 279,
   "metadata": {},
   "outputs": [
    {
     "data": {
      "text/plain": [
       "array([-1.21362136])"
      ]
     },
     "execution_count": 279,
     "metadata": {},
     "output_type": "execute_result"
    }
   ],
   "source": [
    "model.intercept_"
   ]
  },
  {
   "cell_type": "code",
   "execution_count": 280,
   "metadata": {},
   "outputs": [
    {
     "data": {
      "text/plain": [
       "array([[1.65240953, 0.63323431]])"
      ]
     },
     "execution_count": 280,
     "metadata": {},
     "output_type": "execute_result"
    }
   ],
   "source": [
    "model.coef_"
   ]
  },
  {
   "cell_type": "code",
   "execution_count": 281,
   "metadata": {},
   "outputs": [
    {
     "data": {
      "text/plain": [
       "array([0, 0, 0, 0, 0, 1, 0, 1, 0, 0, 1, 0, 1, 1, 1, 1, 0, 0, 1, 0, 0, 1,\n",
       "       0, 1, 1, 0, 0, 0, 1, 1, 1, 0, 1, 1, 0, 1, 1, 0, 0, 0, 1, 1, 1, 1,\n",
       "       0, 1, 0, 0, 0, 0, 0, 1, 0, 0, 1, 1, 0, 1, 0, 1, 1, 1, 0, 1, 1, 1,\n",
       "       0, 1, 1, 1, 0, 0, 1, 0, 0, 0, 0, 1, 0, 0, 0, 1, 0, 1, 1, 1, 0, 1,\n",
       "       1, 1, 0, 1, 0, 1, 0, 0, 1, 0, 1, 1])"
      ]
     },
     "execution_count": 281,
     "metadata": {},
     "output_type": "execute_result"
    }
   ],
   "source": [
    "b = model.predict(X)\n",
    "b"
   ]
  },
  {
   "cell_type": "code",
   "execution_count": 282,
   "metadata": {},
   "outputs": [
    {
     "data": {
      "text/plain": [
       "array([ True,  True,  True,  True,  True,  True,  True,  True,  True,\n",
       "        True,  True,  True,  True,  True,  True,  True,  True,  True,\n",
       "        True,  True,  True,  True,  True,  True,  True,  True,  True,\n",
       "        True,  True,  True,  True,  True,  True,  True,  True,  True,\n",
       "        True,  True,  True,  True,  True,  True,  True,  True,  True,\n",
       "        True,  True,  True,  True,  True,  True,  True,  True,  True,\n",
       "        True,  True,  True,  True,  True,  True,  True,  True,  True,\n",
       "        True,  True,  True,  True,  True,  True,  True,  True,  True,\n",
       "        True,  True,  True,  True,  True,  True,  True,  True,  True,\n",
       "        True,  True,  True,  True,  True,  True,  True,  True,  True,\n",
       "        True,  True,  True,  True,  True,  True,  True,  True,  True,\n",
       "        True])"
      ]
     },
     "execution_count": 282,
     "metadata": {},
     "output_type": "execute_result"
    }
   ],
   "source": [
    "a == b"
   ]
  },
  {
   "cell_type": "markdown",
   "metadata": {},
   "source": [
    "Amazing!!!"
   ]
  },
  {
   "cell_type": "markdown",
   "metadata": {},
   "source": [
    "## "
   ]
  },
  {
   "cell_type": "markdown",
   "metadata": {},
   "source": [
    "# That's it for Logistic Regression!\n",
    "Next up, we will take a look at new ML algorithm, called: Linear Discriminant Analysis."
   ]
  }
 ],
 "metadata": {
  "kernelspec": {
   "display_name": "Python 3 (ipykernel)",
   "language": "python",
   "name": "python3"
  },
  "language_info": {
   "codemirror_mode": {
    "name": "ipython",
    "version": 3
   },
   "file_extension": ".py",
   "mimetype": "text/x-python",
   "name": "python",
   "nbconvert_exporter": "python",
   "pygments_lexer": "ipython3",
   "version": "3.11.7"
  }
 },
 "nbformat": 4,
 "nbformat_minor": 4
}
