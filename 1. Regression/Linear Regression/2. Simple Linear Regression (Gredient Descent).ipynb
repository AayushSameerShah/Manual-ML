{
 "cells": [
  {
   "cell_type": "markdown",
   "metadata": {},
   "source": [
    "# Hey there!\n",
    "Previously we talked about the SLR with the old method, well which was fast but was limited to a single input X."
   ]
  },
  {
   "cell_type": "markdown",
   "metadata": {},
   "source": [
    "**Now** we will try implementing the Gredient Descent which is the searching method to find the coefs / model parameters faster. \n",
    "\n",
    "And one of the optimization techniques...\n",
    "1. Combination optimization — **Greedy Search** \n",
    "2. Convex optimization — **Gredient Descent**\n",
    "3. Constrained Optimization — **Linear Programming**"
   ]
  },
  {
   "cell_type": "markdown",
   "metadata": {},
   "source": [
    "# "
   ]
  },
  {
   "cell_type": "markdown",
   "metadata": {},
   "source": [
    "There is the theory and types of Gredient Descent (I will call it GD). But here as ususal we won't discuss here. "
   ]
  },
  {
   "cell_type": "markdown",
   "metadata": {},
   "source": [
    "Let's jump right into the implementation of **SLR**"
   ]
  },
  {
   "cell_type": "markdown",
   "metadata": {},
   "source": [
    "# "
   ]
  },
  {
   "cell_type": "markdown",
   "metadata": {},
   "source": [
    "# Our implementation "
   ]
  },
  {
   "cell_type": "markdown",
   "metadata": {},
   "source": [
    "> The thing is: Model and Algoritham is **EVEN *simpler*** than the 11th method. "
   ]
  },
  {
   "cell_type": "markdown",
   "metadata": {},
   "source": [
    "    Here we only have to \"try\" different values and till we reach the minimum error rate. "
   ]
  },
  {
   "cell_type": "markdown",
   "metadata": {},
   "source": [
    "# Some Formulas to consider "
   ]
  },
  {
   "cell_type": "markdown",
   "metadata": {},
   "source": [
    "—"
   ]
  },
  {
   "cell_type": "markdown",
   "metadata": {},
   "source": [
    "##### Model"
   ]
  },
  {
   "cell_type": "markdown",
   "metadata": {},
   "source": [
    "# $$ \\hat y = \\beta_0 + \\beta_1 x_i $$"
   ]
  },
  {
   "cell_type": "markdown",
   "metadata": {},
   "source": [
    "##### Formulae to update <u>intercept</u>"
   ]
  },
  {
   "cell_type": "markdown",
   "metadata": {},
   "source": [
    "# $$ \\beta_0 = \\beta_0 - LearningRate \\times error $$"
   ]
  },
  {
   "cell_type": "markdown",
   "metadata": {},
   "source": [
    "##### Formulae to update <u>coef</u>"
   ]
  },
  {
   "cell_type": "markdown",
   "metadata": {},
   "source": [
    "# $$ \\beta_1 = \\beta_1 - LearningRate \\times error \\times x_i$$"
   ]
  },
  {
   "cell_type": "markdown",
   "metadata": {},
   "source": [
    "    You may be wondering... why? (about xi)                             ↑\n",
    "    —                                                                   |\n",
    "    The answer is that, if we see the function of the LR, the coef is   |\n",
    "    only parameter which is related to xi. So we need to give the       |\n",
    "    effect.                                                             |\n",
    "                                                                        |\n",
    "    Otherwise the formula for B0 and B1 are the same.                   |\n",
    "    —                                                                   |\n",
    "    An also. See that as it is `Stochastic GD` there will the values    |\n",
    "    be updated on EACH iteration. So xi will be each value.             |"
   ]
  },
  {
   "cell_type": "markdown",
   "metadata": {},
   "source": [
    "##### Formulae to calculate <u>error</u>"
   ]
  },
  {
   "cell_type": "markdown",
   "metadata": {},
   "source": [
    "# $$ error = \\hat y - y $$"
   ]
  },
  {
   "cell_type": "markdown",
   "metadata": {},
   "source": [
    "# "
   ]
  },
  {
   "cell_type": "markdown",
   "metadata": {},
   "source": [
    "# "
   ]
  },
  {
   "cell_type": "markdown",
   "metadata": {},
   "source": [
    "Now, I will make a simple algorithm to get you going."
   ]
  },
  {
   "cell_type": "markdown",
   "metadata": {},
   "source": [
    "1. Initialize B0, B1 to 0.0\n",
    "2. Run the MODEL with B0 and B1 values\n",
    "3. Calculate the error\n",
    "4. Update value B0\n",
    "5. Update value B1\n",
    "6. Update value Bi (if not SLR model)\n",
    "7. Repeat 2-6 till the required number of iteration is reached."
   ]
  },
  {
   "cell_type": "markdown",
   "metadata": {},
   "source": [
    "# "
   ]
  },
  {
   "cell_type": "code",
   "execution_count": 1,
   "metadata": {},
   "outputs": [],
   "source": [
    "import pandas, numpy, matplotlib.pyplot as plt"
   ]
  },
  {
   "cell_type": "markdown",
   "metadata": {},
   "source": [
    "###### This ↑ is not a good style to import. But I am trying."
   ]
  },
  {
   "cell_type": "markdown",
   "metadata": {},
   "source": [
    "# "
   ]
  },
  {
   "cell_type": "code",
   "execution_count": 2,
   "metadata": {},
   "outputs": [],
   "source": [
    "# Taking the same data\n",
    "x = numpy.array([1, 2, 4, 3, 5])\n",
    "y = numpy.array([1, 3, 3, 2, 5])"
   ]
  },
  {
   "cell_type": "code",
   "execution_count": 3,
   "metadata": {},
   "outputs": [],
   "source": [
    "# Initializing 0.0\n",
    "B0 = B1 = 0.0"
   ]
  },
  {
   "cell_type": "code",
   "execution_count": 4,
   "metadata": {},
   "outputs": [],
   "source": [
    "# Making a linear model\n",
    "model = lambda B0, B1, xi: B0 + B1 * xi"
   ]
  },
  {
   "cell_type": "code",
   "execution_count": 5,
   "metadata": {},
   "outputs": [],
   "source": [
    "# It is a STOCHASTIC GD, so for each xi will do the update\n",
    "\n",
    "learning_rate = 0.01\n",
    "B0s = []; B1s = []; errors = [];\n",
    "\n",
    "for xi, yi in zip(x, y):\n",
    "    pred = model(B0, B1, xi)\n",
    "    error = pred - yi\n",
    "    \n",
    "    B0 = B0 - learning_rate * error\n",
    "    B1 = B1 - learning_rate * error * xi\n",
    "    \n",
    "    B0s.append(B0); B1s.append(B1); errors.append(error)"
   ]
  },
  {
   "cell_type": "code",
   "execution_count": 6,
   "metadata": {},
   "outputs": [
    {
     "data": {
      "text/html": [
       "<div>\n",
       "<style scoped>\n",
       "    .dataframe tbody tr th:only-of-type {\n",
       "        vertical-align: middle;\n",
       "    }\n",
       "\n",
       "    .dataframe tbody tr th {\n",
       "        vertical-align: top;\n",
       "    }\n",
       "\n",
       "    .dataframe thead th {\n",
       "        text-align: right;\n",
       "    }\n",
       "</style>\n",
       "<table border=\"1\" class=\"dataframe\">\n",
       "  <thead>\n",
       "    <tr style=\"text-align: right;\">\n",
       "      <th></th>\n",
       "      <th>B0</th>\n",
       "      <th>B1</th>\n",
       "      <th>errors</th>\n",
       "    </tr>\n",
       "  </thead>\n",
       "  <tbody>\n",
       "    <tr>\n",
       "      <th>0</th>\n",
       "      <td>0.010000</td>\n",
       "      <td>0.010000</td>\n",
       "      <td>-1.000000</td>\n",
       "    </tr>\n",
       "    <tr>\n",
       "      <th>1</th>\n",
       "      <td>0.039700</td>\n",
       "      <td>0.069400</td>\n",
       "      <td>-2.970000</td>\n",
       "    </tr>\n",
       "    <tr>\n",
       "      <th>2</th>\n",
       "      <td>0.066527</td>\n",
       "      <td>0.176708</td>\n",
       "      <td>-2.682700</td>\n",
       "    </tr>\n",
       "    <tr>\n",
       "      <th>3</th>\n",
       "      <td>0.080560</td>\n",
       "      <td>0.218808</td>\n",
       "      <td>-1.403349</td>\n",
       "    </tr>\n",
       "    <tr>\n",
       "      <th>4</th>\n",
       "      <td>0.118814</td>\n",
       "      <td>0.410078</td>\n",
       "      <td>-3.825397</td>\n",
       "    </tr>\n",
       "  </tbody>\n",
       "</table>\n",
       "</div>"
      ],
      "text/plain": [
       "         B0        B1    errors\n",
       "0  0.010000  0.010000 -1.000000\n",
       "1  0.039700  0.069400 -2.970000\n",
       "2  0.066527  0.176708 -2.682700\n",
       "3  0.080560  0.218808 -1.403349\n",
       "4  0.118814  0.410078 -3.825397"
      ]
     },
     "execution_count": 6,
     "metadata": {},
     "output_type": "execute_result"
    }
   ],
   "source": [
    "pandas.DataFrame({\"B0\": B0s, \"B1\": B1s, \"errors\": errors})"
   ]
  },
  {
   "cell_type": "markdown",
   "metadata": {},
   "source": [
    "Now you see... at the end of first epoch, we have error quite high. I agreed."
   ]
  },
  {
   "cell_type": "markdown",
   "metadata": {},
   "source": [
    "We just need some more iterations. Let's go for 4 epochs. (As in the book)"
   ]
  },
  {
   "cell_type": "code",
   "execution_count": 7,
   "metadata": {},
   "outputs": [
    {
     "data": {
      "text/html": [
       "<div>\n",
       "<style scoped>\n",
       "    .dataframe tbody tr th:only-of-type {\n",
       "        vertical-align: middle;\n",
       "    }\n",
       "\n",
       "    .dataframe tbody tr th {\n",
       "        vertical-align: top;\n",
       "    }\n",
       "\n",
       "    .dataframe thead th {\n",
       "        text-align: right;\n",
       "    }\n",
       "</style>\n",
       "<table border=\"1\" class=\"dataframe\">\n",
       "  <thead>\n",
       "    <tr style=\"text-align: right;\">\n",
       "      <th></th>\n",
       "      <th>B0</th>\n",
       "      <th>B1</th>\n",
       "      <th>errors</th>\n",
       "    </tr>\n",
       "  </thead>\n",
       "  <tbody>\n",
       "    <tr>\n",
       "      <th>0</th>\n",
       "      <td>0.010000</td>\n",
       "      <td>0.010000</td>\n",
       "      <td>-1.000000</td>\n",
       "    </tr>\n",
       "    <tr>\n",
       "      <th>1</th>\n",
       "      <td>0.039700</td>\n",
       "      <td>0.069400</td>\n",
       "      <td>-2.970000</td>\n",
       "    </tr>\n",
       "    <tr>\n",
       "      <th>2</th>\n",
       "      <td>0.066527</td>\n",
       "      <td>0.176708</td>\n",
       "      <td>-2.682700</td>\n",
       "    </tr>\n",
       "    <tr>\n",
       "      <th>3</th>\n",
       "      <td>0.080560</td>\n",
       "      <td>0.218808</td>\n",
       "      <td>-1.403349</td>\n",
       "    </tr>\n",
       "    <tr>\n",
       "      <th>4</th>\n",
       "      <td>0.118814</td>\n",
       "      <td>0.410078</td>\n",
       "      <td>-3.825397</td>\n",
       "    </tr>\n",
       "    <tr>\n",
       "      <th>5</th>\n",
       "      <td>0.123526</td>\n",
       "      <td>0.414789</td>\n",
       "      <td>-0.471107</td>\n",
       "    </tr>\n",
       "    <tr>\n",
       "      <th>6</th>\n",
       "      <td>0.143994</td>\n",
       "      <td>0.455727</td>\n",
       "      <td>-2.046896</td>\n",
       "    </tr>\n",
       "    <tr>\n",
       "      <th>7</th>\n",
       "      <td>0.154325</td>\n",
       "      <td>0.497051</td>\n",
       "      <td>-1.033096</td>\n",
       "    </tr>\n",
       "    <tr>\n",
       "      <th>8</th>\n",
       "      <td>0.157871</td>\n",
       "      <td>0.507687</td>\n",
       "      <td>-0.354521</td>\n",
       "    </tr>\n",
       "    <tr>\n",
       "      <th>9</th>\n",
       "      <td>0.180908</td>\n",
       "      <td>0.622872</td>\n",
       "      <td>-2.303695</td>\n",
       "    </tr>\n",
       "    <tr>\n",
       "      <th>10</th>\n",
       "      <td>0.182870</td>\n",
       "      <td>0.624834</td>\n",
       "      <td>-0.196221</td>\n",
       "    </tr>\n",
       "    <tr>\n",
       "      <th>11</th>\n",
       "      <td>0.198544</td>\n",
       "      <td>0.656183</td>\n",
       "      <td>-1.567463</td>\n",
       "    </tr>\n",
       "    <tr>\n",
       "      <th>12</th>\n",
       "      <td>0.200312</td>\n",
       "      <td>0.663252</td>\n",
       "      <td>-0.176723</td>\n",
       "    </tr>\n",
       "    <tr>\n",
       "      <th>13</th>\n",
       "      <td>0.198411</td>\n",
       "      <td>0.657550</td>\n",
       "      <td>0.190068</td>\n",
       "    </tr>\n",
       "    <tr>\n",
       "      <th>14</th>\n",
       "      <td>0.213549</td>\n",
       "      <td>0.733242</td>\n",
       "      <td>-1.513839</td>\n",
       "    </tr>\n",
       "    <tr>\n",
       "      <th>15</th>\n",
       "      <td>0.214081</td>\n",
       "      <td>0.733774</td>\n",
       "      <td>-0.053209</td>\n",
       "    </tr>\n",
       "    <tr>\n",
       "      <th>16</th>\n",
       "      <td>0.227265</td>\n",
       "      <td>0.760141</td>\n",
       "      <td>-1.318371</td>\n",
       "    </tr>\n",
       "    <tr>\n",
       "      <th>17</th>\n",
       "      <td>0.224587</td>\n",
       "      <td>0.749428</td>\n",
       "      <td>0.267831</td>\n",
       "    </tr>\n",
       "    <tr>\n",
       "      <th>18</th>\n",
       "      <td>0.219858</td>\n",
       "      <td>0.735242</td>\n",
       "      <td>0.472871</td>\n",
       "    </tr>\n",
       "    <tr>\n",
       "      <th>19</th>\n",
       "      <td>0.230897</td>\n",
       "      <td>0.790439</td>\n",
       "      <td>-1.103932</td>\n",
       "    </tr>\n",
       "  </tbody>\n",
       "</table>\n",
       "</div>"
      ],
      "text/plain": [
       "          B0        B1    errors\n",
       "0   0.010000  0.010000 -1.000000\n",
       "1   0.039700  0.069400 -2.970000\n",
       "2   0.066527  0.176708 -2.682700\n",
       "3   0.080560  0.218808 -1.403349\n",
       "4   0.118814  0.410078 -3.825397\n",
       "5   0.123526  0.414789 -0.471107\n",
       "6   0.143994  0.455727 -2.046896\n",
       "7   0.154325  0.497051 -1.033096\n",
       "8   0.157871  0.507687 -0.354521\n",
       "9   0.180908  0.622872 -2.303695\n",
       "10  0.182870  0.624834 -0.196221\n",
       "11  0.198544  0.656183 -1.567463\n",
       "12  0.200312  0.663252 -0.176723\n",
       "13  0.198411  0.657550  0.190068\n",
       "14  0.213549  0.733242 -1.513839\n",
       "15  0.214081  0.733774 -0.053209\n",
       "16  0.227265  0.760141 -1.318371\n",
       "17  0.224587  0.749428  0.267831\n",
       "18  0.219858  0.735242  0.472871\n",
       "19  0.230897  0.790439 -1.103932"
      ]
     },
     "execution_count": 7,
     "metadata": {},
     "output_type": "execute_result"
    }
   ],
   "source": [
    "B0 = B1 = 0.0\n",
    "learning_rate = 0.01\n",
    "model = lambda B0, B1, xi: B0 + B1 * xi\n",
    "B0s = []; B1s = []; errors = [];\n",
    "\n",
    "for i in range(4):\n",
    "    for xi, yi in zip(x, y):\n",
    "        pred = model(B0, B1, xi)\n",
    "        error = pred - yi\n",
    "\n",
    "        B0 = B0 - learning_rate * error\n",
    "        B1 = B1 - learning_rate * error * xi\n",
    "\n",
    "        B0s.append(B0); B1s.append(B1); errors.append(error)\n",
    "        \n",
    "results = pandas.DataFrame({\"B0\": B0s, \"B1\": B1s, \"errors\": errors})\n",
    "results"
   ]
  },
  {
   "cell_type": "code",
   "execution_count": 8,
   "metadata": {},
   "outputs": [
    {
     "data": {
      "text/plain": [
       "<AxesSubplot:>"
      ]
     },
     "execution_count": 8,
     "metadata": {},
     "output_type": "execute_result"
    },
    {
     "data": {
      "image/png": "[encoded data removed]",
      "text/plain": [
       "<Figure size 432x288 with 1 Axes>"
      ]
     },
     "metadata": {
      "needs_background": "light"
     },
     "output_type": "display_data"
    }
   ],
   "source": [
    "results.errors.plot(xticks=range(0, 20))"
   ]
  },
  {
   "cell_type": "markdown",
   "metadata": {},
   "source": [
    "It is quite seeable, that in the 18th iteration, we reached at the close to 0 error. \n",
    "\n",
    "**And also the B0 = `0.22` and B1 = `0.749`** which are close to the ones which we got in 11th formula. (0.33 and 0.8)"
   ]
  },
  {
   "cell_type": "markdown",
   "metadata": {},
   "source": [
    "### Running for 50 epochs "
   ]
  },
  {
   "cell_type": "code",
   "execution_count": 9,
   "metadata": {},
   "outputs": [
    {
     "data": {
      "text/plain": [
       "<AxesSubplot:>"
      ]
     },
     "execution_count": 9,
     "metadata": {},
     "output_type": "execute_result"
    },
    {
     "data": {
      "image/png": "[encoded data removed]",
      "text/plain": [
       "<Figure size 432x288 with 1 Axes>"
      ]
     },
     "metadata": {
      "needs_background": "light"
     },
     "output_type": "display_data"
    }
   ],
   "source": [
    "epochs = 50\n",
    "B0 = B1 = 0.0\n",
    "learning_rate = 0.01\n",
    "model = lambda B0, B1, xi: B0 + B1 * xi\n",
    "B0s = []; B1s = []; errors = [];\n",
    "\n",
    "for i in range(epochs):\n",
    "    for xi, yi in zip(x, y):\n",
    "        pred = model(B0, B1, xi)\n",
    "        error = pred - yi\n",
    "\n",
    "        B0 = B0 - learning_rate * error\n",
    "        B1 = B1 - learning_rate * error * xi\n",
    "\n",
    "        B0s.append(B0); B1s.append(B1); errors.append(error)\n",
    "        \n",
    "results = pandas.DataFrame({\"B0\": B0s, \"B1\": B1s, \"errors\": errors})\n",
    "results.errors.plot()"
   ]
  },
  {
   "cell_type": "markdown",
   "metadata": {},
   "source": [
    "So Frekin' weird!"
   ]
  },
  {
   "cell_type": "markdown",
   "metadata": {},
   "source": [
    "It repeats after certain number... "
   ]
  },
  {
   "cell_type": "markdown",
   "metadata": {},
   "source": [
    "I think it is like a hill... goes up and lowest and then up... don't know why. In such cases we should have the Batch GD. "
   ]
  },
  {
   "cell_type": "code",
   "execution_count": 10,
   "metadata": {},
   "outputs": [],
   "source": [
    "# Plugging the number 17th row B0 and B1 which gave the lowest error."
   ]
  },
  {
   "cell_type": "code",
   "execution_count": 11,
   "metadata": {},
   "outputs": [
    {
     "data": {
      "text/plain": [
       "B0        0.224587\n",
       "B1        0.749428\n",
       "errors    0.267831\n",
       "Name: 17, dtype: float64"
      ]
     },
     "execution_count": 11,
     "metadata": {},
     "output_type": "execute_result"
    }
   ],
   "source": [
    "results.iloc[17]"
   ]
  },
  {
   "cell_type": "code",
   "execution_count": 12,
   "metadata": {},
   "outputs": [],
   "source": [
    "y_hats = []\n",
    "for xi in x: y_hats.append(model(results.B0[17], results.B1[17], xi))"
   ]
  },
  {
   "cell_type": "code",
   "execution_count": 13,
   "metadata": {},
   "outputs": [
    {
     "data": {
      "text/plain": [
       "<matplotlib.collections.PathCollection at 0x1a75e589d0>"
      ]
     },
     "execution_count": 13,
     "metadata": {},
     "output_type": "execute_result"
    },
    {
     "data": {
      "image/png": "[encoded data removed]",
      "text/plain": [
       "<Figure size 432x288 with 1 Axes>"
      ]
     },
     "metadata": {
      "needs_background": "light"
     },
     "output_type": "display_data"
    }
   ],
   "source": [
    "plt.scatter(x, y)\n",
    "plt.scatter(x, y_hats)"
   ]
  },
  {
   "cell_type": "markdown",
   "metadata": {},
   "source": [
    "# "
   ]
  },
  {
   "cell_type": "markdown",
   "metadata": {},
   "source": [
    "# Great stuff. "
   ]
  },
  {
   "cell_type": "code",
   "execution_count": 16,
   "metadata": {},
   "outputs": [],
   "source": [
    "# %%writefile SLR_GD.py\n",
    "import numpy, pandas\n",
    "\n",
    "class SLR_GD:\n",
    "    \"\"\"\n",
    "    This SLR class uses Stochastic GD to\n",
    "    determine the values of B0 and B1.\n",
    "    \n",
    "    I know GD should not be used here, but \n",
    "    just to learn - how it works, I did.\n",
    "    \n",
    "    This is just for single X and Y.\n",
    "    \n",
    "    Example\n",
    "    -------\n",
    "    >>> model = SLR_GD(x, y)\n",
    "    >>> model.calculate(epochs=20, learning_rate=0.001)\n",
    "    >>> model.coef\n",
    "    >>> model.intecept\n",
    "    >>> model.predict(x)\n",
    "    \n",
    "    \"\"\"\n",
    "    def __init__(self, x, y):\n",
    "        self.x = numpy.array(x)\n",
    "        self.y = numpy.array(y)\n",
    "        self.model = lambda B0, B1, xi: B0 + B1 * xi\n",
    "        \n",
    "    def calculate(self, epochs: int, learning_rate: float):\n",
    "        epochs = epochs\n",
    "        B0 = B1 = 0.0\n",
    "        learning_rate = learning_rate\n",
    "        \n",
    "        self._B0s = []; self._B1s = []; self.errors = []\n",
    "        for i in range(epochs):\n",
    "            for xi, yi in zip(x, y):\n",
    "                pred = self.model(B0, B1, xi)\n",
    "                error = pred - yi\n",
    "                B0 = B0 - learning_rate * error\n",
    "                B1 = B1 - learning_rate * error * xi\n",
    "                \n",
    "                self._B0s.append(B0)\n",
    "                self._B1s.append(B1)\n",
    "                self.errors.append(error)\n",
    "        \n",
    "        self.results = pandas.DataFrame({\"B0\": self._B0s,\n",
    "                                    \"B1\": self._B1s,\n",
    "                                    \"errors\": self.errors})\n",
    "        \n",
    "        min_id = self.results.errors.apply(abs).idxmin()\n",
    "        self.intercept = self.results.iloc[min_id].B0\n",
    "        self.coef = self.results.iloc[min_id].B1\n",
    "                \n",
    "    def predict(self, x):\n",
    "        try:\n",
    "            y_hat = []\n",
    "            for xi in x:\n",
    "                y_hat.append(self.model(self.intercept, self.coef, xi))\n",
    "            return y_hat\n",
    "        except ValueError:\n",
    "            raise Exception(\"Please run `calculate` method first - then predict\")"
   ]
  },
  {
   "cell_type": "code",
   "execution_count": 17,
   "metadata": {},
   "outputs": [],
   "source": [
    "model = SLR_GD(x, y)"
   ]
  },
  {
   "cell_type": "code",
   "execution_count": 18,
   "metadata": {},
   "outputs": [],
   "source": [
    "model.calculate(20, 0.01)"
   ]
  },
  {
   "cell_type": "code",
   "execution_count": 19,
   "metadata": {},
   "outputs": [
    {
     "data": {
      "text/plain": [
       "0.7902252491671318"
      ]
     },
     "execution_count": 19,
     "metadata": {},
     "output_type": "execute_result"
    }
   ],
   "source": [
    "model.coef"
   ]
  },
  {
   "cell_type": "code",
   "execution_count": 20,
   "metadata": {},
   "outputs": [
    {
     "data": {
      "text/plain": [
       "0.23068413003585025"
      ]
     },
     "execution_count": 20,
     "metadata": {},
     "output_type": "execute_result"
    }
   ],
   "source": [
    "model.intercept"
   ]
  },
  {
   "cell_type": "code",
   "execution_count": 21,
   "metadata": {},
   "outputs": [
    {
     "data": {
      "text/plain": [
       "[1.020909379202982,\n",
       " 1.8111346283701137,\n",
       " 3.3915851267043773,\n",
       " 2.6013598775372455,\n",
       " 4.1818103758715095]"
      ]
     },
     "execution_count": 21,
     "metadata": {},
     "output_type": "execute_result"
    }
   ],
   "source": [
    "model.predict(x)"
   ]
  },
  {
   "cell_type": "markdown",
   "metadata": {},
   "source": [
    "# "
   ]
  },
  {
   "cell_type": "markdown",
   "metadata": {},
   "source": [
    "# That's it!\n",
    "Next up, we will check the results of 11th method and SGD."
   ]
  }
 ],
 "metadata": {
  "kernelspec": {
   "display_name": "Python 3 (ipykernel)",
   "language": "python",
   "name": "python3"
  },
  "language_info": {
   "codemirror_mode": {
    "name": "ipython",
    "version": 3
   },
   "file_extension": ".py",
   "mimetype": "text/x-python",
   "name": "python",
   "nbconvert_exporter": "python",
   "pygments_lexer": "ipython3",
   "version": "3.11.7"
  }
 },
 "nbformat": 4,
 "nbformat_minor": 4
}
