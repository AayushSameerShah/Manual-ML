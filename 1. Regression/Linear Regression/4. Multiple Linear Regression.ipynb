{
 "cells": [
  {
   "cell_type": "markdown",
   "metadata": {},
   "source": [
    "# You mean really?\n",
    "*Are we gonna implement the MLR??*"
   ]
  },
  {
   "cell_type": "markdown",
   "metadata": {},
   "source": [
    "*NOTE*: The implementation is not stated in the book, but from the lectures that I am taking from the GRRAS have taught how to... there are 2 methods (Not with Gredient Descent)\n",
    "1. With the formula\n",
    "2. Metrix Method\n",
    "\n",
    "Here we will implement the 1st method and then in the next book, we will get the 2nd done. <br>\n",
    "**The most exciting** part here is that, **we are implementing MLR WITH THE 11th formula!!**"
   ]
  },
  {
   "cell_type": "markdown",
   "metadata": {},
   "source": [
    "## "
   ]
  },
  {
   "cell_type": "code",
   "execution_count": 1,
   "metadata": {},
   "outputs": [],
   "source": [
    "import pandas as pd\n",
    "import numpy as np\n",
    "import matplotlib.pyplot as plt"
   ]
  },
  {
   "cell_type": "markdown",
   "metadata": {},
   "source": [
    "# Theory\n",
    "—\n",
    "### How?\n",
    "The technique is simple, there is not a big change in the 11th formula... just that is that, **we need to find `coefs` for each features** by applying the same 11th formula to the individual columns.\n",
    "\n",
    "Then, we will calculate the B0 `intercept` only once (of course) from all the pairs of coefs and means of x.\n",
    "\n",
    "### Here's more How.\n",
    "# \n",
    "##### COEFS (individual)\n",
    "## $$ \\beta_n = \\frac {\\sum (x_{ni} - \\bar x_n)(y_{i} - \\bar y)} {\\sum(x_{ni} - \\bar x_n)^2} $$"
   ]
  },
  {
   "cell_type": "markdown",
   "metadata": {},
   "source": [
    "##### INTERCEPT (for all)\n",
    "## $$ \\beta_0 = \\bar y - \\beta_1 \\bar x_1 + \\beta_2 \\bar x_2 +  ...  +\\beta_n \\bar x_n $$"
   ]
  },
  {
   "cell_type": "markdown",
   "metadata": {},
   "source": [
    "# "
   ]
  },
  {
   "cell_type": "markdown",
   "metadata": {},
   "source": [
    "Are you ready? Let's go."
   ]
  },
  {
   "cell_type": "code",
   "execution_count": 9,
   "metadata": {},
   "outputs": [],
   "source": [
    "df = pd.DataFrame(np.random.randint(0, 100, (10, 3)), columns=[\"x1\", \"x2\", \"x3\"])"
   ]
  },
  {
   "cell_type": "code",
   "execution_count": 10,
   "metadata": {},
   "outputs": [
    {
     "data": {
      "text/html": [
       "<div>\n",
       "<style scoped>\n",
       "    .dataframe tbody tr th:only-of-type {\n",
       "        vertical-align: middle;\n",
       "    }\n",
       "\n",
       "    .dataframe tbody tr th {\n",
       "        vertical-align: top;\n",
       "    }\n",
       "\n",
       "    .dataframe thead th {\n",
       "        text-align: right;\n",
       "    }\n",
       "</style>\n",
       "<table border=\"1\" class=\"dataframe\">\n",
       "  <thead>\n",
       "    <tr style=\"text-align: right;\">\n",
       "      <th></th>\n",
       "      <th>x1</th>\n",
       "      <th>x2</th>\n",
       "      <th>x3</th>\n",
       "      <th>y</th>\n",
       "    </tr>\n",
       "  </thead>\n",
       "  <tbody>\n",
       "    <tr>\n",
       "      <th>0</th>\n",
       "      <td>36</td>\n",
       "      <td>93</td>\n",
       "      <td>59</td>\n",
       "      <td>586</td>\n",
       "    </tr>\n",
       "    <tr>\n",
       "      <th>1</th>\n",
       "      <td>87</td>\n",
       "      <td>55</td>\n",
       "      <td>32</td>\n",
       "      <td>630</td>\n",
       "    </tr>\n",
       "    <tr>\n",
       "      <th>2</th>\n",
       "      <td>33</td>\n",
       "      <td>40</td>\n",
       "      <td>88</td>\n",
       "      <td>580</td>\n",
       "    </tr>\n",
       "    <tr>\n",
       "      <th>3</th>\n",
       "      <td>8</td>\n",
       "      <td>30</td>\n",
       "      <td>15</td>\n",
       "      <td>217</td>\n",
       "    </tr>\n",
       "    <tr>\n",
       "      <th>4</th>\n",
       "      <td>74</td>\n",
       "      <td>6</td>\n",
       "      <td>47</td>\n",
       "      <td>380</td>\n",
       "    </tr>\n",
       "    <tr>\n",
       "      <th>5</th>\n",
       "      <td>95</td>\n",
       "      <td>71</td>\n",
       "      <td>49</td>\n",
       "      <td>559</td>\n",
       "    </tr>\n",
       "    <tr>\n",
       "      <th>6</th>\n",
       "      <td>55</td>\n",
       "      <td>16</td>\n",
       "      <td>85</td>\n",
       "      <td>564</td>\n",
       "    </tr>\n",
       "    <tr>\n",
       "      <th>7</th>\n",
       "      <td>8</td>\n",
       "      <td>83</td>\n",
       "      <td>7</td>\n",
       "      <td>301</td>\n",
       "    </tr>\n",
       "    <tr>\n",
       "      <th>8</th>\n",
       "      <td>96</td>\n",
       "      <td>72</td>\n",
       "      <td>74</td>\n",
       "      <td>745</td>\n",
       "    </tr>\n",
       "    <tr>\n",
       "      <th>9</th>\n",
       "      <td>48</td>\n",
       "      <td>48</td>\n",
       "      <td>13</td>\n",
       "      <td>428</td>\n",
       "    </tr>\n",
       "  </tbody>\n",
       "</table>\n",
       "</div>"
      ],
      "text/plain": [
       "   x1  x2  x3    y\n",
       "0  36  93  59  586\n",
       "1  87  55  32  630\n",
       "2  33  40  88  580\n",
       "3   8  30  15  217\n",
       "4  74   6  47  380\n",
       "5  95  71  49  559\n",
       "6  55  16  85  564\n",
       "7   8  83   7  301\n",
       "8  96  72  74  745\n",
       "9  48  48  13  428"
      ]
     },
     "execution_count": 10,
     "metadata": {},
     "output_type": "execute_result"
    }
   ],
   "source": [
    "df[\"y\"] = (2 * df + np.random.randint(0, 100, (10, 1))).sum(1)\n",
    "df"
   ]
  },
  {
   "cell_type": "markdown",
   "metadata": {},
   "source": [
    "Great. Now, we have the ready data. Let's check how can we do it."
   ]
  },
  {
   "cell_type": "markdown",
   "metadata": {},
   "source": [
    "# "
   ]
  },
  {
   "cell_type": "code",
   "execution_count": 81,
   "metadata": {},
   "outputs": [],
   "source": [
    "class MLR_11th:\n",
    "    def __init__(self, X: np.ndarray, y: np.ndarray):\n",
    "        self.x = np.array(X)\n",
    "        self.y = np.array(y)\n",
    "        \n",
    "        if self.x.ndim == 1:\n",
    "            raise NotImplementedError(\"\"\"X must not be 1D.\n",
    "            Hint: Use X[:, np.newaxis] to make it 2D.\"\"\")\n",
    "        elif (len(self.x) != len(y)) or (y.ndim != 1):\n",
    "            raise NotImplementedError(\"\"\"Y must have same length\n",
    "            as the feature does and also it has to be 1D.\"\"\")\n",
    "        else:\n",
    "            self.coefs = self.calculate_coefs()\n",
    "            self.intercept = self.calculate_intercept()\n",
    "\n",
    "    def calculate_coefs(self):\n",
    "        coefs = []\n",
    "        self.means = []\n",
    "        self.y_mean = self.y.mean()\n",
    "        \n",
    "        for i in range(self.x.shape[1]):\n",
    "            xn = self.x[:, i]\n",
    "            xn_mean = xn.mean()\n",
    "            self.means.append(xn_mean)\n",
    "            \n",
    "            coef = sum((xn - xn_mean) * (self.y - self.y_mean)) / sum((xn - xn_mean) ** 2)\n",
    "            coefs.append(coef)\n",
    "        return coefs    \n",
    "    \n",
    "    def calculate_intercept(self):\n",
    "        coef_into_mean = 0\n",
    "        for coef, mean in zip(self.coefs, self.means):\n",
    "            coef_into_mean += coef * mean\n",
    "        return self.y_mean - coef_into_mean\n",
    "    \n",
    "    def predict(self, X):\n",
    "        X = X.values\n",
    "        predict = []\n",
    "        \n",
    "        for record in X:\n",
    "            coefn_into_xn = 0\n",
    "            for coef, xn in zip(self.coefs, record):\n",
    "                coefn_into_xn += coef * xn\n",
    "            predict.append(self.intercept + coefn_into_xn )\n",
    "        return predict"
   ]
  },
  {
   "cell_type": "code",
   "execution_count": 73,
   "metadata": {},
   "outputs": [],
   "source": [
    "model = MLR_11th(df.iloc[:, :-1], df.y)"
   ]
  },
  {
   "cell_type": "code",
   "execution_count": 74,
   "metadata": {},
   "outputs": [
    {
     "data": {
      "text/plain": [
       "[3.414827447833066, 1.6789025239804938, 3.870411769848505]"
      ]
     },
     "execution_count": 74,
     "metadata": {},
     "output_type": "execute_result"
    }
   ],
   "source": [
    "model.coefs"
   ]
  },
  {
   "cell_type": "code",
   "execution_count": 75,
   "metadata": {},
   "outputs": [
    {
     "data": {
      "text/plain": [
       "46.78141607852217"
      ]
     },
     "execution_count": 75,
     "metadata": {},
     "output_type": "execute_result"
    }
   ],
   "source": [
    "model.intercept"
   ]
  },
  {
   "cell_type": "markdown",
   "metadata": {},
   "source": [
    "# "
   ]
  },
  {
   "cell_type": "markdown",
   "metadata": {},
   "source": [
    "## Trying with `sklearn`"
   ]
  },
  {
   "cell_type": "code",
   "execution_count": 40,
   "metadata": {},
   "outputs": [],
   "source": [
    "from sklearn.linear_model import LinearRegression"
   ]
  },
  {
   "cell_type": "code",
   "execution_count": 61,
   "metadata": {},
   "outputs": [
    {
     "data": {
      "text/plain": [
       "LinearRegression()"
      ]
     },
     "execution_count": 61,
     "metadata": {},
     "output_type": "execute_result"
    }
   ],
   "source": [
    "model = LinearRegression()\n",
    "model.fit(df.iloc[:, :-1], df.y)"
   ]
  },
  {
   "cell_type": "code",
   "execution_count": 62,
   "metadata": {},
   "outputs": [
    {
     "data": {
      "text/plain": [
       "array([2.39399049, 2.25548065, 3.26229756])"
      ]
     },
     "execution_count": 62,
     "metadata": {},
     "output_type": "execute_result"
    }
   ],
   "source": [
    "model.coef_"
   ]
  },
  {
   "cell_type": "code",
   "execution_count": 63,
   "metadata": {},
   "outputs": [
    {
     "data": {
      "text/plain": [
       "100.79105261984853"
      ]
     },
     "execution_count": 63,
     "metadata": {},
     "output_type": "execute_result"
    }
   ],
   "source": [
    "model.intercept_"
   ]
  },
  {
   "cell_type": "markdown",
   "metadata": {},
   "source": [
    "**Nah!!** The result is not the same... let's test on the same data and then check the r2 score."
   ]
  },
  {
   "cell_type": "markdown",
   "metadata": {},
   "source": [
    "# "
   ]
  },
  {
   "cell_type": "markdown",
   "metadata": {},
   "source": [
    "# Checking for $R^2$ "
   ]
  },
  {
   "cell_type": "markdown",
   "metadata": {},
   "source": [
    "Our model"
   ]
  },
  {
   "cell_type": "code",
   "execution_count": 86,
   "metadata": {},
   "outputs": [],
   "source": [
    "model = MLR_11th(df.iloc[:, :-1], df.y)"
   ]
  },
  {
   "cell_type": "code",
   "execution_count": 87,
   "metadata": {},
   "outputs": [
    {
     "data": {
      "text/plain": [
       "[554.2074333517603,\n",
       " 560.0642194940782,\n",
       " 567.2230585629015,\n",
       " 182.5232879283291,\n",
       " 491.4614155449318,\n",
       " 680.0422795478553,\n",
       " 590.4443665301517,\n",
       " 240.5418275405072,\n",
       " 781.8963037658815,\n",
       " 341.59580773360364]"
      ]
     },
     "execution_count": 87,
     "metadata": {},
     "output_type": "execute_result"
    }
   ],
   "source": [
    "pred_1 = model.predict(df.iloc[:, :-1])\n",
    "pred_1"
   ]
  },
  {
   "cell_type": "markdown",
   "metadata": {},
   "source": [
    "##### "
   ]
  },
  {
   "cell_type": "markdown",
   "metadata": {},
   "source": [
    "Their model"
   ]
  },
  {
   "cell_type": "code",
   "execution_count": 88,
   "metadata": {},
   "outputs": [
    {
     "data": {
      "text/plain": [
       "LinearRegression()"
      ]
     },
     "execution_count": 88,
     "metadata": {},
     "output_type": "execute_result"
    }
   ],
   "source": [
    "model = LinearRegression()\n",
    "model.fit(df.iloc[:, :-1], df.y)"
   ]
  },
  {
   "cell_type": "code",
   "execution_count": 90,
   "metadata": {},
   "outputs": [
    {
     "data": {
      "text/plain": [
       "array([589.20996672, 537.51318294, 557.09414984, 236.54185944,\n",
       "       444.80721798, 648.21185575, 545.84351232, 329.98395353,\n",
       "       734.4187658 , 366.37553568])"
      ]
     },
     "execution_count": 90,
     "metadata": {},
     "output_type": "execute_result"
    }
   ],
   "source": [
    "pred_2 = model.predict(df.iloc[:, :-1])\n",
    "pred_2"
   ]
  },
  {
   "cell_type": "markdown",
   "metadata": {},
   "source": [
    "# "
   ]
  },
  {
   "cell_type": "markdown",
   "metadata": {},
   "source": [
    "Checking..."
   ]
  },
  {
   "cell_type": "code",
   "execution_count": 91,
   "metadata": {},
   "outputs": [],
   "source": [
    "from sklearn.metrics import r2_score"
   ]
  },
  {
   "cell_type": "code",
   "execution_count": 92,
   "metadata": {},
   "outputs": [
    {
     "data": {
      "text/plain": [
       "0.800009799541376"
      ]
     },
     "execution_count": 92,
     "metadata": {},
     "output_type": "execute_result"
    }
   ],
   "source": [
    "r2_score(df.y, pred_1)"
   ]
  },
  {
   "cell_type": "code",
   "execution_count": 93,
   "metadata": {},
   "outputs": [
    {
     "data": {
      "text/plain": [
       "0.8875717796036926"
      ]
     },
     "execution_count": 93,
     "metadata": {},
     "output_type": "execute_result"
    }
   ],
   "source": [
    "r2_score(df.y, pred_2)"
   ]
  },
  {
   "cell_type": "markdown",
   "metadata": {},
   "source": [
    "# "
   ]
  },
  {
   "cell_type": "markdown",
   "metadata": {},
   "source": [
    "sklearn's does better... why?"
   ]
  }
 ],
 "metadata": {
  "kernelspec": {
   "display_name": "Python 3 (ipykernel)",
   "language": "python",
   "name": "python3"
  },
  "language_info": {
   "codemirror_mode": {
    "name": "ipython",
    "version": 3
   },
   "file_extension": ".py",
   "mimetype": "text/x-python",
   "name": "python",
   "nbconvert_exporter": "python",
   "pygments_lexer": "ipython3",
   "version": "3.11.7"
  }
 },
 "nbformat": 4,
 "nbformat_minor": 4
}
