{
 "cells": [
  {
   "cell_type": "markdown",
   "metadata": {},
   "source": [
    "# So, **ensamble** right? "
   ]
  },
  {
   "cell_type": "markdown",
   "metadata": {},
   "source": [
    "Hey Aayush! This part of the ML algorithms is so awsome and powerful. The models that we are going to see are:\n",
    "1. Random Forest\n",
    "2. AdaBoost\n",
    "\n",
    "These two models are of course so powerful and advanced. Now as you know these models primiarily use the *Decision Tree* as its internal models. And then from... wait I will talk about the process later. But for now let me be clear.\n",
    "\n",
    "***NOTE***: <br>\n",
    "- **I might not be going to implement the Random Forest from scratch** in the following notebooks as it uses the decision trees inside. Decision trees are amaizing. I have also tried to implement them. But you can see we were having some *stopping* problem. That's why we left it there. In the book, the author has provided only \"Decision Stumps\" ie. only one level or one split pointed decision tree. Which I don't like. And I should not also use the built in `sklearn`'s decision trees and ensamble them to make the random forest, you know this whole thing is about the \"Manual ML\".\n",
    "\n",
    "- **I will give the walk through** that how things work internally showing the formulaes and steps. And this time I am planning to be more comprehensive as possible. So that will be a plus side.\n",
    "\n",
    "- **Secondly**, in the AdaBoost part, **I might implement** some model. AdaBoost is best when it is used with decision trees though, but it can also be used to increase the power of other algorithms as well. So, I might implement it with other model instead of decision trees.\n",
    "\n",
    "- **And also** I will provide the comprehensive guide as well for AdaBoost.\n",
    "\n",
    "So let's get started!"
   ]
  }
 ],
 "metadata": {
  "kernelspec": {
   "display_name": "Python 3",
   "language": "python",
   "name": "python3"
  },
  "language_info": {
   "codemirror_mode": {
    "name": "ipython",
    "version": 3
   },
   "file_extension": ".py",
   "mimetype": "text/x-python",
   "name": "python",
   "nbconvert_exporter": "python",
   "pygments_lexer": "ipython3",
   "version": "3.8.5"
  }
 },
 "nbformat": 4,
 "nbformat_minor": 4
}
