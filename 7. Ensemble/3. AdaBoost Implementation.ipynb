{
 "cells": [
  {
   "cell_type": "markdown",
   "metadata": {},
   "source": [
    "#  Implementation"
   ]
  },
  {
   "cell_type": "markdown",
   "metadata": {},
   "source": [
    "Now, here - instead of taking the example from the book (as we are not going to use the decision tree) I will take some another dataset. Or will generate one. \n",
    "\n",
    "This notebook might not include much explanation - let's go ∞"
   ]
  },
  {
   "cell_type": "code",
   "execution_count": 105,
   "metadata": {},
   "outputs": [],
   "source": [
    "# Accient inputs\n",
    "import numpy as np\n",
    "import pandas as pd\n",
    "\n",
    "# To generate data\n",
    "from sklearn.datasets import make_classification\n",
    "\n",
    "# To see the data\n",
    "import matplotlib.pyplot as plt\n",
    "\n",
    "# To split the data\n",
    "from sklearn.model_selection import train_test_split"
   ]
  },
  {
   "cell_type": "code",
   "execution_count": 106,
   "metadata": {},
   "outputs": [
    {
     "data": {
      "text/plain": [
       "<matplotlib.collections.PathCollection at 0x1dda085eee0>"
      ]
     },
     "execution_count": 106,
     "metadata": {},
     "output_type": "execute_result"
    },
    {
     "data": {
      "image/png": "[encoded data removed]",
      "text/plain": [
       "<Figure size 432x288 with 1 Axes>"
      ]
     },
     "metadata": {
      "needs_background": "light"
     },
     "output_type": "display_data"
    }
   ],
   "source": [
    "X, y = make_classification()\n",
    "plt.scatter(X[:, 0], X[:, 1], c=y)"
   ]
  },
  {
   "cell_type": "markdown",
   "metadata": {},
   "source": [
    "#### Weight initializtion\n",
    "#### $ w = \\frac {1} {n}$"
   ]
  },
  {
   "cell_type": "code",
   "execution_count": 107,
   "metadata": {},
   "outputs": [],
   "source": [
    "weights = 1 / len(X)"
   ]
  },
  {
   "cell_type": "code",
   "execution_count": 108,
   "metadata": {},
   "outputs": [],
   "source": [
    "df = pd.DataFrame({\"x1\": X[:, 0], \n",
    "                   \"x2\": X[:, 1],\n",
    "                   \"y\": y,\n",
    "                   \"w\": weights})"
   ]
  },
  {
   "cell_type": "code",
   "execution_count": 109,
   "metadata": {},
   "outputs": [
    {
     "data": {
      "text/html": [
       "<div>\n",
       "<style scoped>\n",
       "    .dataframe tbody tr th:only-of-type {\n",
       "        vertical-align: middle;\n",
       "    }\n",
       "\n",
       "    .dataframe tbody tr th {\n",
       "        vertical-align: top;\n",
       "    }\n",
       "\n",
       "    .dataframe thead th {\n",
       "        text-align: right;\n",
       "    }\n",
       "</style>\n",
       "<table border=\"1\" class=\"dataframe\">\n",
       "  <thead>\n",
       "    <tr style=\"text-align: right;\">\n",
       "      <th></th>\n",
       "      <th>x1</th>\n",
       "      <th>x2</th>\n",
       "      <th>y</th>\n",
       "      <th>w</th>\n",
       "    </tr>\n",
       "  </thead>\n",
       "  <tbody>\n",
       "    <tr>\n",
       "      <th>0</th>\n",
       "      <td>0.021675</td>\n",
       "      <td>1.263972</td>\n",
       "      <td>1</td>\n",
       "      <td>0.01</td>\n",
       "    </tr>\n",
       "    <tr>\n",
       "      <th>1</th>\n",
       "      <td>1.021335</td>\n",
       "      <td>-0.251317</td>\n",
       "      <td>1</td>\n",
       "      <td>0.01</td>\n",
       "    </tr>\n",
       "    <tr>\n",
       "      <th>2</th>\n",
       "      <td>-1.746219</td>\n",
       "      <td>2.287903</td>\n",
       "      <td>0</td>\n",
       "      <td>0.01</td>\n",
       "    </tr>\n",
       "    <tr>\n",
       "      <th>3</th>\n",
       "      <td>-0.671020</td>\n",
       "      <td>-0.208818</td>\n",
       "      <td>0</td>\n",
       "      <td>0.01</td>\n",
       "    </tr>\n",
       "    <tr>\n",
       "      <th>4</th>\n",
       "      <td>0.782022</td>\n",
       "      <td>0.185823</td>\n",
       "      <td>1</td>\n",
       "      <td>0.01</td>\n",
       "    </tr>\n",
       "    <tr>\n",
       "      <th>...</th>\n",
       "      <td>...</td>\n",
       "      <td>...</td>\n",
       "      <td>...</td>\n",
       "      <td>...</td>\n",
       "    </tr>\n",
       "    <tr>\n",
       "      <th>95</th>\n",
       "      <td>-2.023212</td>\n",
       "      <td>1.547519</td>\n",
       "      <td>0</td>\n",
       "      <td>0.01</td>\n",
       "    </tr>\n",
       "    <tr>\n",
       "      <th>96</th>\n",
       "      <td>-0.130777</td>\n",
       "      <td>0.486632</td>\n",
       "      <td>1</td>\n",
       "      <td>0.01</td>\n",
       "    </tr>\n",
       "    <tr>\n",
       "      <th>97</th>\n",
       "      <td>-1.310812</td>\n",
       "      <td>-1.332639</td>\n",
       "      <td>0</td>\n",
       "      <td>0.01</td>\n",
       "    </tr>\n",
       "    <tr>\n",
       "      <th>98</th>\n",
       "      <td>-0.297337</td>\n",
       "      <td>0.391477</td>\n",
       "      <td>0</td>\n",
       "      <td>0.01</td>\n",
       "    </tr>\n",
       "    <tr>\n",
       "      <th>99</th>\n",
       "      <td>-1.258230</td>\n",
       "      <td>0.638234</td>\n",
       "      <td>0</td>\n",
       "      <td>0.01</td>\n",
       "    </tr>\n",
       "  </tbody>\n",
       "</table>\n",
       "<p>100 rows × 4 columns</p>\n",
       "</div>"
      ],
      "text/plain": [
       "          x1        x2  y     w\n",
       "0   0.021675  1.263972  1  0.01\n",
       "1   1.021335 -0.251317  1  0.01\n",
       "2  -1.746219  2.287903  0  0.01\n",
       "3  -0.671020 -0.208818  0  0.01\n",
       "4   0.782022  0.185823  1  0.01\n",
       "..       ...       ... ..   ...\n",
       "95 -2.023212  1.547519  0  0.01\n",
       "96 -0.130777  0.486632  1  0.01\n",
       "97 -1.310812 -1.332639  0  0.01\n",
       "98 -0.297337  0.391477  0  0.01\n",
       "99 -1.258230  0.638234  0  0.01\n",
       "\n",
       "[100 rows x 4 columns]"
      ]
     },
     "execution_count": 109,
     "metadata": {},
     "output_type": "execute_result"
    }
   ],
   "source": [
    "df"
   ]
  },
  {
   "cell_type": "markdown",
   "metadata": {},
   "source": [
    "*(We will not feed the ↑ df. Insead we will keep the track of weights seperately)*"
   ]
  },
  {
   "cell_type": "markdown",
   "metadata": {},
   "source": [
    "###### "
   ]
  },
  {
   "cell_type": "markdown",
   "metadata": {},
   "source": [
    "For, now we will be creating `3` models of KNN. The reason for choosing KNN is that, in KNN we have the `k` hyperparameter to set, which will let us make 3 different models (k=1, 4, 6).\n",
    "\n",
    "***REMEMBER***: Like Bootstrap method, we will not be creating sub-samples here. The *whole* data will be fed to the algorithms (of course with changed weights). And the ***weights will not affect the learning***. So everytime all models will give the **same predictions** because the data is same. (And that is the reason why we choose to work with decision trees in AdaBoost) so, to make different model in each step, we will change the value of `k` which will endup in the different model."
   ]
  },
  {
   "cell_type": "markdown",
   "metadata": {},
   "source": [
    "# "
   ]
  },
  {
   "cell_type": "markdown",
   "metadata": {},
   "source": [
    "## Splitting the data "
   ]
  },
  {
   "cell_type": "code",
   "execution_count": 120,
   "metadata": {},
   "outputs": [],
   "source": [
    "X = df.drop(\"y\", axis=1)\n",
    "y = df[\"y\"]"
   ]
  },
  {
   "cell_type": "code",
   "execution_count": 121,
   "metadata": {},
   "outputs": [],
   "source": [
    "Xtrain, Xtest, ytrain, ytest = train_test_split(X, y, test_size=.33)"
   ]
  },
  {
   "cell_type": "code",
   "execution_count": 122,
   "metadata": {},
   "outputs": [],
   "source": [
    "weights = Xtrain.iloc[:, -1]\n",
    "Xtrain = Xtrain.iloc[:, :-1]\n",
    "Xtest = Xtest.iloc[:, :-1]"
   ]
  },
  {
   "cell_type": "markdown",
   "metadata": {},
   "source": [
    "Of course, there will be weights for only Training data. (Don't worry we won't always have to do this manually)"
   ]
  },
  {
   "cell_type": "markdown",
   "metadata": {},
   "source": [
    "###### "
   ]
  },
  {
   "cell_type": "markdown",
   "metadata": {},
   "source": [
    "#### 1. Make the model "
   ]
  },
  {
   "cell_type": "code",
   "execution_count": 124,
   "metadata": {},
   "outputs": [],
   "source": [
    "# Our model >_•\n",
    "import KNN"
   ]
  },
  {
   "cell_type": "code",
   "execution_count": 125,
   "metadata": {},
   "outputs": [],
   "source": [
    "model_1 = KNN.KNN(Xtrain, ytrain)"
   ]
  },
  {
   "cell_type": "markdown",
   "metadata": {},
   "source": [
    "#### 2. Prediction"
   ]
  },
  {
   "cell_type": "code",
   "execution_count": 126,
   "metadata": {},
   "outputs": [],
   "source": [
    "pred_1 = model_1.predict(Xtrain, k = 5)"
   ]
  },
  {
   "cell_type": "markdown",
   "metadata": {},
   "source": [
    "#### 3. Get the `perror` "
   ]
  },
  {
   "cell_type": "code",
   "execution_count": 136,
   "metadata": {},
   "outputs": [
    {
     "data": {
      "text/plain": [
       "array([0, 0, 0, 1, 0, 0, 0, 0, 0, 0, 0, 0, 0, 0, 0, 0, 1, 0, 0, 0, 0, 0,\n",
       "       0, 0, 0, 0, 0, 0, 0, 0, 0, 0, 0, 0, 0, 0, 0, 0, 0, 0, 0, 0, 0, 0,\n",
       "       0, 0, 0, 0, 0, 0, 0, 0, 0, 1, 0, 0, 0, 1, 0, 0, 0, 0, 0, 0, 0, 1,\n",
       "       1])"
      ]
     },
     "execution_count": 136,
     "metadata": {},
     "output_type": "execute_result"
    }
   ],
   "source": [
    "perror_1 = np.where(pred_1 == ytrain, 0, 1)\n",
    "perror_1"
   ]
  },
  {
   "cell_type": "markdown",
   "metadata": {},
   "source": [
    "#### 4. Calculate Misclassification Rate "
   ]
  },
  {
   "cell_type": "code",
   "execution_count": 137,
   "metadata": {},
   "outputs": [],
   "source": [
    "def MissClf_Rate(weights, perrors):\n",
    "    return (weights * perrors).sum() / weights.sum()"
   ]
  },
  {
   "cell_type": "code",
   "execution_count": 138,
   "metadata": {},
   "outputs": [
    {
     "data": {
      "text/plain": [
       "0.08955223880597014"
      ]
     },
     "execution_count": 138,
     "metadata": {},
     "output_type": "execute_result"
    }
   ],
   "source": [
    "misrate = MissClf_Rate(weights, perror_1)\n",
    "misrate"
   ]
  },
  {
   "cell_type": "markdown",
   "metadata": {},
   "source": [
    "####  5. Calculate the *stage* value"
   ]
  },
  {
   "cell_type": "code",
   "execution_count": 139,
   "metadata": {},
   "outputs": [],
   "source": [
    "def stage(MisClfRate):\n",
    "    return np.log((1 - MisClfRate) / MisClfRate) / 2"
   ]
  },
  {
   "cell_type": "code",
   "execution_count": 140,
   "metadata": {},
   "outputs": [
    {
     "data": {
      "text/plain": [
       "1.1595571974726282"
      ]
     },
     "execution_count": 140,
     "metadata": {},
     "output_type": "execute_result"
    }
   ],
   "source": [
    "stage_1 = stage(misrate)\n",
    "stage_1"
   ]
  },
  {
   "cell_type": "markdown",
   "metadata": {},
   "source": [
    "#### 6. Update weights"
   ]
  },
  {
   "cell_type": "markdown",
   "metadata": {},
   "source": [
    "#### $ w_i = w_i \\times e^{\\text{stage} \\times \\text{perror}_i}$"
   ]
  },
  {
   "cell_type": "code",
   "execution_count": 142,
   "metadata": {},
   "outputs": [],
   "source": [
    "def update_weights(weights, stage, perror):\n",
    "    return weights * np.exp(stage * perror)"
   ]
  },
  {
   "cell_type": "code",
   "execution_count": 144,
   "metadata": {},
   "outputs": [
    {
     "data": {
      "text/plain": [
       "27    0.010000\n",
       "90    0.010000\n",
       "43    0.010000\n",
       "93    0.031885\n",
       "26    0.010000\n",
       "        ...   \n",
       "64    0.010000\n",
       "76    0.010000\n",
       "41    0.010000\n",
       "98    0.031885\n",
       "49    0.031885\n",
       "Name: w, Length: 67, dtype: float64"
      ]
     },
     "execution_count": 144,
     "metadata": {},
     "output_type": "execute_result"
    }
   ],
   "source": [
    "weights = update_weights(weights, stage_1, perror_1)\n",
    "weights"
   ]
  },
  {
   "cell_type": "markdown",
   "metadata": {},
   "source": [
    "See? Now our weights have been updated. Those rows, which were correctly identified got less weights and those which were misclassified got high weight than before. "
   ]
  },
  {
   "cell_type": "markdown",
   "metadata": {},
   "source": [
    "#### 7. Make new model (model 2)"
   ]
  },
  {
   "cell_type": "code",
   "execution_count": 151,
   "metadata": {},
   "outputs": [
    {
     "data": {
      "text/plain": [
       "0.15916516932980598"
      ]
     },
     "execution_count": 151,
     "metadata": {},
     "output_type": "execute_result"
    }
   ],
   "source": [
    "# New model\n",
    "model_2 = KNN.KNN(Xtrain, ytrain)\n",
    "\n",
    "# Predicion\n",
    "pred_2 = model_2.predict(Xtrain, k = 10)\n",
    "\n",
    "# Perror\n",
    "perror_2 = np.where(pred_2 == ytrain, 0, 1)\n",
    "\n",
    "# Misclf rate\n",
    "misrate = MissClf_Rate(weights, perror_2)\n",
    "misrate"
   ]
  },
  {
   "cell_type": "code",
   "execution_count": 152,
   "metadata": {},
   "outputs": [
    {
     "data": {
      "text/plain": [
       "0.8322263902394424"
      ]
     },
     "execution_count": 152,
     "metadata": {},
     "output_type": "execute_result"
    }
   ],
   "source": [
    "# Stage value for 2nd model\n",
    "stage_2 = stage(misrate)\n",
    "stage_2"
   ]
  },
  {
   "cell_type": "code",
   "execution_count": 155,
   "metadata": {},
   "outputs": [
    {
     "data": {
      "text/plain": [
       "27    0.010000\n",
       "90    0.010000\n",
       "43    0.010000\n",
       "93    0.031885\n",
       "26    0.010000\n",
       "        ...   \n",
       "64    0.010000\n",
       "76    0.010000\n",
       "41    0.010000\n",
       "98    0.073286\n",
       "49    0.031885\n",
       "Name: w, Length: 67, dtype: float64"
      ]
     },
     "execution_count": 155,
     "metadata": {},
     "output_type": "execute_result"
    }
   ],
   "source": [
    "# New weights \n",
    "weights = update_weights(weights, stage_2, perror_2)\n",
    "weights"
   ]
  },
  {
   "cell_type": "markdown",
   "metadata": {},
   "source": [
    "#### 7. Make new model (model 3)"
   ]
  },
  {
   "cell_type": "code",
   "execution_count": 156,
   "metadata": {},
   "outputs": [
    {
     "data": {
      "text/plain": [
       "0.20329815764056813"
      ]
     },
     "execution_count": 156,
     "metadata": {},
     "output_type": "execute_result"
    }
   ],
   "source": [
    "# New model\n",
    "model_3 = KNN.KNN(Xtrain, ytrain)\n",
    "\n",
    "# Predicion\n",
    "pred_3 = model_3.predict(Xtrain, k = 15)\n",
    "\n",
    "# Perror\n",
    "perror_3 = np.where(pred_3 == ytrain, 0, 1)\n",
    "\n",
    "# Misclf rate\n",
    "misrate = MissClf_Rate(weights, perror_3)\n",
    "misrate"
   ]
  },
  {
   "cell_type": "code",
   "execution_count": 157,
   "metadata": {},
   "outputs": [
    {
     "data": {
      "text/plain": [
       "0.6829034252742107"
      ]
     },
     "execution_count": 157,
     "metadata": {},
     "output_type": "execute_result"
    }
   ],
   "source": [
    "# Stage value for 2nd model\n",
    "stage_3 = stage(misrate)\n",
    "stage_3"
   ]
  },
  {
   "cell_type": "code",
   "execution_count": 158,
   "metadata": {},
   "outputs": [
    {
     "data": {
      "text/plain": [
       "27    0.010000\n",
       "90    0.010000\n",
       "43    0.010000\n",
       "93    0.031885\n",
       "26    0.010000\n",
       "        ...   \n",
       "64    0.019796\n",
       "76    0.010000\n",
       "41    0.010000\n",
       "98    0.073286\n",
       "49    0.031885\n",
       "Name: w, Length: 67, dtype: float64"
      ]
     },
     "execution_count": 158,
     "metadata": {},
     "output_type": "execute_result"
    }
   ],
   "source": [
    "# New weights \n",
    "weights = update_weights(weights, stage_3, perror_3)\n",
    "weights"
   ]
  },
  {
   "cell_type": "markdown",
   "metadata": {},
   "source": [
    "So, now finally we have the updated weights, stages and models.\n",
    "\n",
    "It is not enough, but later when we will make the class out of it, we will automate the repetated stuff."
   ]
  },
  {
   "cell_type": "markdown",
   "metadata": {},
   "source": [
    "## Prediction<br>—\n",
    "Prediction will be done with the `predicted output (0 or 1)` and the `stage` values of each models. We will multiply the predicted output with the satage values and then add them up. If the final vlaue is less than 0 (negative) then it will belong to the 1st class otherwie 2nd.\n",
    "\n",
    "Easy! And that will look like this ↓\n",
    "\n",
    "    Individual Preds   = -1   1   1  -1   1  -1  -1   1\n",
    "    Individual Stage   = .4  .1  .3  .2  .3  .2  .2  .4\n",
    "    \n",
    "    Final Pred         = (-1 x .4) + (1 x .1) + ... + (1 x .4)\n",
    "    \n",
    "    If Final Pred < 0 THEN predict -1\n",
    "    Else predict 1"
   ]
  },
  {
   "cell_type": "code",
   "execution_count": 211,
   "metadata": {},
   "outputs": [],
   "source": [
    "# Here we will have to only pass the stages and models. But I will pass ks too\n",
    "# because you see all the models are same just while predicting we need to pass\n",
    "# k which will make difference. So for the sake of redability I am not passing \n",
    "# ks as the 3rd argument.\n",
    "\n",
    "# Things will be more clear when we will build the class.\n",
    "\n",
    "\n",
    "stages = [stage_1, stage_2, stage_3]\n",
    "models = [model_1, model_2, model_3]\n",
    "ks = [5, 10, 15]\n",
    "\n",
    "def prediction(stages, models):\n",
    "    preds = None\n",
    "    for stage, model, k in zip(stages, models, ks):\n",
    "        pred = model.predict(Xtrain, k=k)\n",
    "        if preds is None:    \n",
    "            preds = np.array(pred)\n",
    "        else:\n",
    "            preds = np.c_[preds, pred]\n",
    "    return preds"
   ]
  },
  {
   "cell_type": "code",
   "execution_count": 212,
   "metadata": {},
   "outputs": [],
   "source": [
    "preds = prediction(stages, models)"
   ]
  },
  {
   "cell_type": "code",
   "execution_count": 213,
   "metadata": {},
   "outputs": [
    {
     "data": {
      "text/plain": [
       "array([[1, 1, 1],\n",
       "       [0, 0, 0],\n",
       "       [1, 1, 1]])"
      ]
     },
     "execution_count": 213,
     "metadata": {},
     "output_type": "execute_result"
    }
   ],
   "source": [
    "preds[:3]"
   ]
  },
  {
   "cell_type": "code",
   "execution_count": 214,
   "metadata": {},
   "outputs": [],
   "source": [
    "MAIN_PRED = np.where((stages * preds).sum(1) <= 0, 0, 1)"
   ]
  },
  {
   "cell_type": "code",
   "execution_count": 215,
   "metadata": {},
   "outputs": [
    {
     "data": {
      "text/plain": [
       "0.9104477611940298"
      ]
     },
     "execution_count": 215,
     "metadata": {},
     "output_type": "execute_result"
    }
   ],
   "source": [
    "(MAIN_PRED == ytrain).sum() / len(ytrain)"
   ]
  },
  {
   "cell_type": "markdown",
   "metadata": {},
   "source": [
    "Okay! We are achieving `91%` accuracy! Not bad. So, let's get into tha coding."
   ]
  },
  {
   "cell_type": "markdown",
   "metadata": {},
   "source": [
    "# "
   ]
  },
  {
   "cell_type": "code",
   "execution_count": 279,
   "metadata": {},
   "outputs": [],
   "source": [
    "class AdaBoost:\n",
    "    def __init__(self, X, y, model, model_init_args={}, model_predict_args=[], n_models=5):\n",
    "        X = np.array(X)\n",
    "        y = np.array(y)\n",
    "        if X.ndim != 2:\n",
    "            raise NotImplementedError(\"The X must be 2D\")\n",
    "        if len(X) != len(y):\n",
    "            raise NotImplementedError(\"The length mismatched\")\n",
    "            \n",
    "        self.X = X\n",
    "        self.y = y\n",
    "        self.model = model\n",
    "        self.model_init_args = model_init_args\n",
    "        self.model_pred_args = model_predict_args\n",
    "        self.weights = np.full(len(X), 1 / len(X))\n",
    "        \n",
    "        stages = []\n",
    "        models = []\n",
    "        for th_model in range(n_models):\n",
    "            pred_arg = {}\n",
    "            if self.model_pred_args:\n",
    "                pred_arg = self.model_pred_args[th_model]\n",
    "            stage, new_model = self.create_and_stage_model(pred_arg)\n",
    "            stages.append(stage)\n",
    "            models.append(new_model)\n",
    "        self.stages = stages\n",
    "        self.models = models\n",
    "            \n",
    "    def create_and_stage_model(self, pred_arg):\n",
    "        model = self.model(self.X, self.y, **self.model_init_args)\n",
    "        # Pred\n",
    "        pred = model.predict(self.X, **pred_arg)\n",
    "        # Perror\n",
    "        perror = np.where(pred == self.y, 0, 1)\n",
    "        # Mclf Rate\n",
    "        misrate = MissClf_Rate(self.weights, perror)\n",
    "        # Stage\n",
    "        stage = self.get_stage(misrate)\n",
    "        # New Weights\n",
    "        self.weights = self.update_weights(stage, perror)\n",
    "        return stage, model\n",
    "        \n",
    "    def MissClf_Rate(self, perror):\n",
    "        return (self.weights * perror).sum() / self.weights.sum()\n",
    "    \n",
    "    def get_stage(self, MisClfRate):\n",
    "        return np.log((1 - MisClfRate) / MisClfRate)\n",
    "    \n",
    "    def update_weights(self, stage, perror):\n",
    "        return self.weights * np.exp(stage * perror)\n",
    "    \n",
    "    def predict(self, X):\n",
    "        preds = None\n",
    "        if self.model_pred_args:\n",
    "            for stage, model, args in zip(self.stages, self.models, self.model_pred_args):\n",
    "                pred = model.predict(X, **args)\n",
    "                if preds is None:    \n",
    "                    preds = np.array(pred)\n",
    "                else:\n",
    "                    preds = np.c_[preds, pred]\n",
    "        else:\n",
    "            for stage, model in zip(self.stages, self.models):\n",
    "                pred = model.predict(X)\n",
    "                if preds is None:    \n",
    "                    preds = np.array(pred)\n",
    "                else:\n",
    "                    preds = np.c_[preds, pred]\n",
    "        MAIN_PRED = np.where((self.stages * preds).sum(1) <= 0, 0, 1)\n",
    "        return MAIN_PRED"
   ]
  },
  {
   "cell_type": "code",
   "execution_count": 296,
   "metadata": {},
   "outputs": [],
   "source": [
    "model = AdaBoost(X.iloc[:, :-1], y, KNN.KNN, model_predict_args=[{\"k\": k} for k in np.random.randint(1, 20, 5)])"
   ]
  },
  {
   "cell_type": "code",
   "execution_count": 297,
   "metadata": {},
   "outputs": [],
   "source": [
    "pred = model.predict(X.iloc[:, :-1])"
   ]
  },
  {
   "cell_type": "code",
   "execution_count": 298,
   "metadata": {},
   "outputs": [
    {
     "data": {
      "text/plain": [
       "0.93"
      ]
     },
     "execution_count": 298,
     "metadata": {},
     "output_type": "execute_result"
    }
   ],
   "source": [
    "(pred == y).sum() / len(y)"
   ]
  },
  {
   "cell_type": "markdown",
   "metadata": {},
   "source": [
    "###### "
   ]
  },
  {
   "cell_type": "markdown",
   "metadata": {},
   "source": [
    "## I think done.\n",
    "Hah! Of course, it is not the perfect implementation of the AdaBoost, but you know, we worked through it. Now, we know how it works. \n",
    "\n",
    "Great! I think this is the end of the book. And there will be the notes on completing this book in the main folder. So, see you there Aayush ∞"
   ]
  }
 ],
 "metadata": {
  "kernelspec": {
   "display_name": "Python 3",
   "language": "python",
   "name": "python3"
  },
  "language_info": {
   "codemirror_mode": {
    "name": "ipython",
    "version": 3
   },
   "file_extension": ".py",
   "mimetype": "text/x-python",
   "name": "python",
   "nbconvert_exporter": "python",
   "pygments_lexer": "ipython3",
   "version": "3.8.5"
  }
 },
 "nbformat": 4,
 "nbformat_minor": 4
}
