{
 "cells": [
  {
   "cell_type": "markdown",
   "metadata": {},
   "source": [
    "# How SVM works?"
   ]
  },
  {
   "cell_type": "markdown",
   "metadata": {},
   "source": [
    "# "
   ]
  },
  {
   "cell_type": "markdown",
   "metadata": {},
   "source": [
    "See, here SVMs are *needed* to be **understood mathematically**. The example given in the book is so **simple** and it **doesn't even involve the kernel trick** at all!\n",
    "\n",
    "And he (the guy who wrote the book) **removed the `B0`** (intercept) from the example saying \"to make the tutorial simpler\". Now, it was on me to search the stuff. When I searched, it looked much more **mathematically heavy** than I *expected*. Now, I am following the *book's example* as it is — and then if it sounds good to move ahead, I will try.\n",
    "\n",
    "But for now, <br>\n",
    "Let's get started **∞**"
   ]
  },
  {
   "cell_type": "markdown",
   "metadata": {},
   "source": [
    "# "
   ]
  },
  {
   "cell_type": "code",
   "execution_count": 1,
   "metadata": {},
   "outputs": [],
   "source": [
    "# Regualr imports\n",
    "import numpy as np\n",
    "import pandas as pd\n",
    "import matplotlib.pyplot as plt"
   ]
  },
  {
   "cell_type": "code",
   "execution_count": 10,
   "metadata": {},
   "outputs": [],
   "source": [
    "# Getting the same example data\n",
    "X1 = [2.327868056, 3.032830419, 4.485465382, 3.684815246, \n",
    "      2.283558563, 7.807521179, 6.132998136, 7.514829366,\n",
    "      5.502385039, 7.432932365]\n",
    "X2 = [2.458016525, 3.170770366, 3.696728111, 3.846846973,\n",
    "      1.853215997, 3.290132136, 2.140563087, 2.107056961,\n",
    "      1.404002608, 4.236232628]\n",
    "y = [-1] * 5 + [1] * 5"
   ]
  },
  {
   "cell_type": "code",
   "execution_count": 11,
   "metadata": {},
   "outputs": [
    {
     "data": {
      "image/png": "[encoded data removed]",
      "text/plain": [
       "<Figure size 432x288 with 1 Axes>"
      ]
     },
     "metadata": {
      "needs_background": "light"
     },
     "output_type": "display_data"
    }
   ],
   "source": [
    "plt.scatter(X1, X2, c=y, cmap=\"coolwarm\")\n",
    "plt.ylim(0, 5)\n",
    "plt.xlim(0, 9);"
   ]
  },
  {
   "cell_type": "markdown",
   "metadata": {},
   "source": [
    "Now, let's recall our main formula for the threshold line...\n",
    "\n",
    "#### A Line\n",
    "\n",
    "# $$ \\beta_0 + \\beta_1 x_1 + \\beta_2 x_2 = 0 $$"
   ]
  },
  {
   "cell_type": "markdown",
   "metadata": {},
   "source": [
    "Here, the author thinks that the problem *is easy* so we will remove the $ \\beta_0 $ from the equation which means that the intercept will be removed and the **line will start from the (0, 0)** coordinates by default. We can add (which we have to) later.\n",
    "\n",
    "For now, I am continuing the same as the book does."
   ]
  },
  {
   "cell_type": "markdown",
   "metadata": {},
   "source": [
    "###### "
   ]
  },
  {
   "cell_type": "markdown",
   "metadata": {},
   "source": [
    "#### An Updated Line\n",
    "\n",
    "# $$ \\beta_1 x_1 + \\beta_2 x_2 = 0 $$"
   ]
  },
  {
   "cell_type": "markdown",
   "metadata": {},
   "source": [
    "We will use the *sub-GD* method to find the parameters. So, let's start the coding."
   ]
  },
  {
   "cell_type": "markdown",
   "metadata": {},
   "source": [
    "The simple pseudo code:\n",
    "1. **Initialize** the coefs\n",
    "2. Make **prediction** with first instance\n",
    "3. Get **\"output\"**\n",
    "4. If output is **more than** 1 apply 1st formulae (means the data point is ***not*** capable to be a support vector)\n",
    "5. If output is **less than** 1 apply 2nd formulae (means the data point ***is*** capable to be a support vector)\n",
    "6. **Repeat** steps 2 to 5 for desired epochs\n",
    "7. After that, our model will be **stable** and the output will be either greater than 0 or less than that.\n",
    "8. Make **crisp prediction** if it is less than 0 then class 1 else class 0. (Or reverse)\n",
    "9. Get accuracy.\n",
    "10. We can also **track the accuray** on each epoch."
   ]
  },
  {
   "cell_type": "code",
   "execution_count": 14,
   "metadata": {},
   "outputs": [],
   "source": [
    "# Step 1. Initialization\n",
    "\n",
    "B1 = 0.0\n",
    "B2 = 0.0\n",
    "Bi = np.array([B1, B2])"
   ]
  },
  {
   "cell_type": "code",
   "execution_count": 27,
   "metadata": {},
   "outputs": [],
   "source": [
    "# Step 2. Make prediction\n",
    "output = lambda X, y, Bi : y * (Bi * X).sum()"
   ]
  },
  {
   "cell_type": "code",
   "execution_count": 16,
   "metadata": {},
   "outputs": [
    {
     "data": {
      "text/html": [
       "<div>\n",
       "<style scoped>\n",
       "    .dataframe tbody tr th:only-of-type {\n",
       "        vertical-align: middle;\n",
       "    }\n",
       "\n",
       "    .dataframe tbody tr th {\n",
       "        vertical-align: top;\n",
       "    }\n",
       "\n",
       "    .dataframe thead th {\n",
       "        text-align: right;\n",
       "    }\n",
       "</style>\n",
       "<table border=\"1\" class=\"dataframe\">\n",
       "  <thead>\n",
       "    <tr style=\"text-align: right;\">\n",
       "      <th></th>\n",
       "      <th>x1</th>\n",
       "      <th>x2</th>\n",
       "      <th>y</th>\n",
       "    </tr>\n",
       "  </thead>\n",
       "  <tbody>\n",
       "    <tr>\n",
       "      <th>0</th>\n",
       "      <td>2.327868</td>\n",
       "      <td>2.458017</td>\n",
       "      <td>-1</td>\n",
       "    </tr>\n",
       "    <tr>\n",
       "      <th>1</th>\n",
       "      <td>3.032830</td>\n",
       "      <td>3.170770</td>\n",
       "      <td>-1</td>\n",
       "    </tr>\n",
       "    <tr>\n",
       "      <th>2</th>\n",
       "      <td>4.485465</td>\n",
       "      <td>3.696728</td>\n",
       "      <td>-1</td>\n",
       "    </tr>\n",
       "    <tr>\n",
       "      <th>3</th>\n",
       "      <td>3.684815</td>\n",
       "      <td>3.846847</td>\n",
       "      <td>-1</td>\n",
       "    </tr>\n",
       "    <tr>\n",
       "      <th>4</th>\n",
       "      <td>2.283559</td>\n",
       "      <td>1.853216</td>\n",
       "      <td>-1</td>\n",
       "    </tr>\n",
       "    <tr>\n",
       "      <th>5</th>\n",
       "      <td>7.807521</td>\n",
       "      <td>3.290132</td>\n",
       "      <td>1</td>\n",
       "    </tr>\n",
       "    <tr>\n",
       "      <th>6</th>\n",
       "      <td>6.132998</td>\n",
       "      <td>2.140563</td>\n",
       "      <td>1</td>\n",
       "    </tr>\n",
       "    <tr>\n",
       "      <th>7</th>\n",
       "      <td>7.514829</td>\n",
       "      <td>2.107057</td>\n",
       "      <td>1</td>\n",
       "    </tr>\n",
       "    <tr>\n",
       "      <th>8</th>\n",
       "      <td>5.502385</td>\n",
       "      <td>1.404003</td>\n",
       "      <td>1</td>\n",
       "    </tr>\n",
       "    <tr>\n",
       "      <th>9</th>\n",
       "      <td>7.432932</td>\n",
       "      <td>4.236233</td>\n",
       "      <td>1</td>\n",
       "    </tr>\n",
       "  </tbody>\n",
       "</table>\n",
       "</div>"
      ],
      "text/plain": [
       "         x1        x2  y\n",
       "0  2.327868  2.458017 -1\n",
       "1  3.032830  3.170770 -1\n",
       "2  4.485465  3.696728 -1\n",
       "3  3.684815  3.846847 -1\n",
       "4  2.283559  1.853216 -1\n",
       "5  7.807521  3.290132  1\n",
       "6  6.132998  2.140563  1\n",
       "7  7.514829  2.107057  1\n",
       "8  5.502385  1.404003  1\n",
       "9  7.432932  4.236233  1"
      ]
     },
     "execution_count": 16,
     "metadata": {},
     "output_type": "execute_result"
    }
   ],
   "source": [
    "df = pd.DataFrame({\"x1\": X1, \n",
    "                   \"x2\": X2,\n",
    "                   \"y\": y})\n",
    "df"
   ]
  },
  {
   "cell_type": "code",
   "execution_count": 19,
   "metadata": {},
   "outputs": [],
   "source": [
    "X = df[[\"x1\", \"x2\"]].values\n",
    "y = df[\"y\"].values"
   ]
  },
  {
   "cell_type": "code",
   "execution_count": 28,
   "metadata": {},
   "outputs": [
    {
     "data": {
      "text/plain": [
       "-0.0"
      ]
     },
     "execution_count": 28,
     "metadata": {},
     "output_type": "execute_result"
    }
   ],
   "source": [
    "# Step 3. Get output\n",
    "output(X[0], y[0], Bi)"
   ]
  },
  {
   "cell_type": "markdown",
   "metadata": {},
   "source": [
    "Now, our output is `0.0` which is less than `1`. So we will use ↓\n",
    "\n",
    "### $ \\beta_i = \\left(1 - \\frac{1} {t}\\right) \\times \\beta_i +  \\frac {1} {\\text{LearningRate} \\times t} \\times (y \\times x) $"
   ]
  },
  {
   "cell_type": "code",
   "execution_count": 116,
   "metadata": {},
   "outputs": [],
   "source": [
    "# Step 4. or 5. If less than or greater than 1\n",
    "\n",
    "LearningRate = 0.45\n",
    "\n",
    "def output_less_than_1(th, Bi, LearningRate, y, x):\n",
    "    return ((1 - (1 / th)) * Bi + (1 / (LearningRate * th)) * (y * x))"
   ]
  },
  {
   "cell_type": "code",
   "execution_count": 117,
   "metadata": {},
   "outputs": [
    {
     "data": {
      "text/plain": [
       "array([-5.17304012, -5.46225894])"
      ]
     },
     "execution_count": 117,
     "metadata": {},
     "output_type": "execute_result"
    }
   ],
   "source": [
    "Bi = output_less_than_1(1, Bi, LearningRate, y[0], X[0])\n",
    "Bi"
   ]
  },
  {
   "cell_type": "markdown",
   "metadata": {},
   "source": [
    "Now, our updated B1 and B2 are ↑"
   ]
  },
  {
   "cell_type": "code",
   "execution_count": 118,
   "metadata": {},
   "outputs": [
    {
     "data": {
      "text/plain": [
       "33.00852224058554"
      ]
     },
     "execution_count": 118,
     "metadata": {},
     "output_type": "execute_result"
    }
   ],
   "source": [
    "# Step 6. Repeat 2 to 5\n",
    "output(X[1], y[1], Bi)"
   ]
  },
  {
   "cell_type": "markdown",
   "metadata": {},
   "source": [
    "The output is greater than 1 so we will use ↓"
   ]
  },
  {
   "cell_type": "markdown",
   "metadata": {},
   "source": [
    "### $ \\beta_i = \\left(1 - \\frac{1} {t}\\right) \\times \\beta_i $"
   ]
  },
  {
   "cell_type": "code",
   "execution_count": 119,
   "metadata": {},
   "outputs": [],
   "source": [
    "def output_greater_than_1(th, Bi, y, x):\n",
    "    return (1 - (1 / th)) * Bi"
   ]
  },
  {
   "cell_type": "code",
   "execution_count": 120,
   "metadata": {},
   "outputs": [
    {
     "data": {
      "text/plain": [
       "array([-2.58652006, -2.73112947])"
      ]
     },
     "execution_count": 120,
     "metadata": {},
     "output_type": "execute_result"
    }
   ],
   "source": [
    "Bi = output_greater_than_1(2, Bi, y[1], X[1])\n",
    "Bi"
   ]
  },
  {
   "cell_type": "markdown",
   "metadata": {},
   "source": [
    "After 2nd iteration our updated B1 and B2 are ↑"
   ]
  },
  {
   "cell_type": "markdown",
   "metadata": {},
   "source": [
    "###### —"
   ]
  },
  {
   "cell_type": "markdown",
   "metadata": {},
   "source": [
    "Now, we will do this for 16 Epochs. <br>\n",
    "*For the sake of simplicity, we will re-initialize the B1 and B2 and start from first iteration*"
   ]
  },
  {
   "cell_type": "code",
   "execution_count": 127,
   "metadata": {},
   "outputs": [],
   "source": [
    "B1 = 0.0\n",
    "B2 = 0.0\n",
    "Bi = np.array([B1, B2])\n",
    "LearningRate = 0.45\n",
    "\n",
    "th = 1\n",
    "for th_epoch in range(16):\n",
    "    for th_row in range(len(X)):\n",
    "        otpt = output(X[th_row], y[th_row], Bi)\n",
    "        if otpt > 1:\n",
    "            Bi = output_greater_than_1(th, Bi, y[th_row], X[th_row])\n",
    "        else:\n",
    "            Bi = output_less_than_1(th, Bi, LearningRate, y[th_row], X[th_row])\n",
    "        th += 1"
   ]
  },
  {
   "cell_type": "code",
   "execution_count": 128,
   "metadata": {},
   "outputs": [
    {
     "data": {
      "text/plain": [
       "array([ 0.55239176, -0.72453359])"
      ]
     },
     "execution_count": 128,
     "metadata": {},
     "output_type": "execute_result"
    }
   ],
   "source": [
    "Bi"
   ]
  },
  {
   "cell_type": "markdown",
   "metadata": {},
   "source": [
    "Amazing. The **thing to note here** is: \n",
    "> The `th` value is global. Which means if I am running first epoch and first row, then the th will be 1. Then after first epoch iterating over 10 rows, in the next epoch's first row the th will **not** be 1 again. It will be 11. That's how `th` is global.  "
   ]
  },
  {
   "cell_type": "markdown",
   "metadata": {},
   "source": [
    "Now, after each epoch we can also check for the accuracy. But first let's discuss how to get accuracy and how to predict."
   ]
  },
  {
   "cell_type": "code",
   "execution_count": 143,
   "metadata": {},
   "outputs": [],
   "source": [
    "# Step 8. Make crisp prediction\n",
    "def crisp(outputs):\n",
    "    pred = []\n",
    "    for output in outputs:\n",
    "        if output < 0:\n",
    "            pred.append(-1)\n",
    "        else: pred.append(1)\n",
    "    return pred"
   ]
  },
  {
   "cell_type": "code",
   "execution_count": 144,
   "metadata": {},
   "outputs": [
    {
     "data": {
      "text/plain": [
       "array([-0.4950204 , -0.6220191 , -0.20066956, -0.75170826, -0.0812983 ,\n",
       "        1.92899915,  1.8369078 ,  2.62449631,  2.02222513,  1.03659778])"
      ]
     },
     "execution_count": 144,
     "metadata": {},
     "output_type": "execute_result"
    }
   ],
   "source": [
    "# Step 9. Predict and get accuracy\n",
    "prediction = lambda Bi, X : (Bi * X).sum(1)\n",
    "outputs = prediction(Bi, X)\n",
    "outputs"
   ]
  },
  {
   "cell_type": "code",
   "execution_count": 145,
   "metadata": {},
   "outputs": [
    {
     "data": {
      "text/plain": [
       "[-1, -1, -1, -1, -1, 1, 1, 1, 1, 1]"
      ]
     },
     "execution_count": 145,
     "metadata": {},
     "output_type": "execute_result"
    }
   ],
   "source": [
    "crisp(outputs)"
   ]
  },
  {
   "cell_type": "markdown",
   "metadata": {},
   "source": [
    "## Amazing! "
   ]
  },
  {
   "cell_type": "markdown",
   "metadata": {},
   "source": [
    "# "
   ]
  },
  {
   "cell_type": "markdown",
   "metadata": {},
   "source": [
    "Now, let's give it a try to make it more flexible and able to worke on large dataset."
   ]
  },
  {
   "cell_type": "code",
   "execution_count": 186,
   "metadata": {},
   "outputs": [],
   "source": [
    "class SVM_out:\n",
    "    \"\"\"\n",
    "    This class implement WITHOUT B0\n",
    "    The final implementation will be later in this book.\n",
    "    \"\"\"\n",
    "    \n",
    "    def __init__(self, X, y, learning_rate=0.001, epochs=10, acc_per_epoch=False):\n",
    "        self.X = np.array(X)\n",
    "        self.y = np.array(y)\n",
    "        if self.X.ndim != 2:\n",
    "            raise NotImplementedError(\"The features must be 2D\")\n",
    "        if len(self.X) != len(self.y):\n",
    "            raise NotImplementedError(\"Please! Come on!\")\n",
    "        self.Bi = np.array([0.0] * self.X.shape[1])\n",
    "        self.learning_rate = learning_rate\n",
    "        self.epochs = epochs\n",
    "        \n",
    "        self.accuracies = []\n",
    "        th_iteration = 1\n",
    "        for th_epoch in range(self.epochs):\n",
    "            for th_row in range(len(self.X)):\n",
    "                otpt = self.output(th_row)\n",
    "                if otpt > 1:\n",
    "                    self.Bi = self.output_greater_than_1(th_iteration)\n",
    "                else:\n",
    "                    self.Bi = self.output_less_than_1(th_iteration, th_row)\n",
    "                th_iteration += 1\n",
    "            \n",
    "            if acc_per_epoch:\n",
    "                outputs = self.predict(self.X)\n",
    "                acc = (self.y == self.crisp(outputs)).sum() / len(self.y)\n",
    "                self.accuracies.append(acc)\n",
    "    \n",
    "    def output(self, th_row):\n",
    "        return self.y[th_row] * (self.Bi * self.X[th_row]).sum()\n",
    "    \n",
    "    \n",
    "    def output_less_than_1(self, th_iteration, th_row):\n",
    "        return ((1 - (1 / th_iteration)) * self.Bi + (1 / (self.learning_rate * th_iteration)) * (self.y[th_row] * self.X[th_row]))\n",
    "    \n",
    "    \n",
    "    def output_greater_than_1(self, th_iteration):\n",
    "        return (1 - (1 / th_iteration)) * self.Bi\n",
    "    \n",
    "    \n",
    "    def predict(self, X):\n",
    "        return (self.Bi * X).sum(1)\n",
    "    \n",
    "    def crisp(self, outputs):\n",
    "        pred = []\n",
    "        for output in outputs:\n",
    "            if output < 0:\n",
    "                pred.append(-1)\n",
    "            else: pred.append(1)\n",
    "        return pred"
   ]
  },
  {
   "cell_type": "code",
   "execution_count": 175,
   "metadata": {},
   "outputs": [],
   "source": [
    "model = SVM(X, y, learning_rate=0.45, epochs=16, acc_per_epoch=True)"
   ]
  },
  {
   "cell_type": "code",
   "execution_count": 180,
   "metadata": {},
   "outputs": [
    {
     "data": {
      "image/png": "[encoded data removed]",
      "text/plain": [
       "<Figure size 432x288 with 1 Axes>"
      ]
     },
     "metadata": {
      "needs_background": "light"
     },
     "output_type": "display_data"
    }
   ],
   "source": [
    "plt.plot(model.accuracies)\n",
    "plt.ylim(0, 1.5);"
   ]
  },
  {
   "cell_type": "code",
   "execution_count": 185,
   "metadata": {},
   "outputs": [],
   "source": [
    "class SVM_with:\n",
    "    \"\"\"\n",
    "    This class implement WITH B0\n",
    "    The final implementation will be later in this book.\n",
    "    \"\"\"\n",
    "    \n",
    "    def __init__(self, X, y, learning_rate=0.001, epochs=10, acc_per_epoch=False):\n",
    "        self.X = np.array(X)\n",
    "        self.y = np.array(y)\n",
    "        if self.X.ndim != 2:\n",
    "            raise NotImplementedError(\"The features must be 2D\")\n",
    "        if len(self.X) != len(self.y):\n",
    "            raise NotImplementedError(\"Please! Come on!\")\n",
    "        self.Bi = np.array([0.0] * self.X.shape[1])\n",
    "        self.B0 = 0.0\n",
    "        self.learning_rate = learning_rate\n",
    "        self.epochs = epochs\n",
    "        \n",
    "        self.accuracies = []\n",
    "        th_iteration = 1\n",
    "        for th_epoch in range(self.epochs):\n",
    "            for th_row in range(len(self.X)):\n",
    "                otpt = self.output(th_row)\n",
    "                if otpt > 1:\n",
    "                    self.Bi = self.output_greater_than_1_Bi(th_iteration)\n",
    "                    self.B0 = self.output_greater_than_1_B0(th_iteration)\n",
    "\n",
    "                else:\n",
    "                    self.Bi = self.output_less_than_1_Bi(th_iteration, th_row)\n",
    "                    self.B0 = self.output_less_than_1_B0(th_iteration, th_row)\n",
    "                th_iteration += 1\n",
    "            \n",
    "            if acc_per_epoch:\n",
    "                outputs = self.predict(self.X)\n",
    "                acc = (self.y == self.crisp(outputs)).sum() / len(self.y)\n",
    "                self.accuracies.append(acc)\n",
    "    \n",
    "    def output(self, th_row):\n",
    "        return self.y[th_row] * (self.Bi * self.X[th_row]).sum() + self.B0\n",
    "    \n",
    "    \n",
    "    def output_less_than_1_Bi(self, th_iteration, th_row):\n",
    "        return ((1 - (1 / th_iteration)) * self.Bi + (1 / (self.learning_rate * th_iteration)) * (self.y[th_row] * self.X[th_row]))\n",
    "    \n",
    "    \n",
    "    def output_greater_than_1_Bi(self, th_iteration):\n",
    "        return (1 - (1 / th_iteration)) * self.Bi\n",
    "    \n",
    "    \n",
    "    def output_less_than_1_B0(self, th_iteration, th_row):\n",
    "        return ((1 - (1 / th_iteration)) * self.B0 + (1 / (self.learning_rate * th_iteration)) * (self.y[th_row]))\n",
    "    \n",
    "    \n",
    "    def output_greater_than_1_B0(self, th_iteration):\n",
    "        return (1 - (1 / th_iteration)) * self.B0\n",
    "    \n",
    "    \n",
    "    def predict(self, X):\n",
    "        return self.B0 + (self.Bi * X).sum(1)\n",
    "    \n",
    "    def crisp(self, outputs):\n",
    "        pred = []\n",
    "        for output in outputs:\n",
    "            if output < 0:\n",
    "                pred.append(-1)\n",
    "            else: pred.append(1)\n",
    "        return pred"
   ]
  },
  {
   "cell_type": "code",
   "execution_count": 182,
   "metadata": {},
   "outputs": [],
   "source": [
    "model = SVM(X, y, learning_rate=0.45, epochs=16, acc_per_epoch=True)"
   ]
  },
  {
   "cell_type": "code",
   "execution_count": 184,
   "metadata": {},
   "outputs": [
    {
     "data": {
      "image/png": "[encoded data removed]",
      "text/plain": [
       "<Figure size 432x288 with 1 Axes>"
      ]
     },
     "metadata": {
      "needs_background": "light"
     },
     "output_type": "display_data"
    }
   ],
   "source": [
    "plt.plot(model.accuracies)\n",
    "plt.ylim(0, 1.5);"
   ]
  },
  {
   "cell_type": "code",
   "execution_count": 187,
   "metadata": {},
   "outputs": [],
   "source": [
    "import seaborn as sns"
   ]
  },
  {
   "cell_type": "code",
   "execution_count": 188,
   "metadata": {},
   "outputs": [],
   "source": [
    "iris = sns.load_dataset(\"iris\")"
   ]
  },
  {
   "cell_type": "code",
   "execution_count": 192,
   "metadata": {},
   "outputs": [
    {
     "data": {
      "text/plain": [
       "<AxesSubplot:xlabel='sepal_length', ylabel='petal_length'>"
      ]
     },
     "execution_count": 192,
     "metadata": {},
     "output_type": "execute_result"
    },
    {
     "data": {
      "image/png": "[encoded data removed]",
      "text/plain": [
       "<Figure size 432x288 with 1 Axes>"
      ]
     },
     "metadata": {
      "needs_background": "light"
     },
     "output_type": "display_data"
    }
   ],
   "source": [
    "sns.scatterplot(x=\"sepal_length\", y=\"petal_length\", data=iris, hue=iris.species)"
   ]
  },
  {
   "cell_type": "markdown",
   "metadata": {},
   "source": [
    "Now making it binary classification."
   ]
  },
  {
   "cell_type": "code",
   "execution_count": 204,
   "metadata": {},
   "outputs": [],
   "source": [
    "iris.iloc[iris[iris[\"species\"] == \"versicolor\"].index, -1] = \"virginica\""
   ]
  },
  {
   "cell_type": "code",
   "execution_count": 206,
   "metadata": {},
   "outputs": [
    {
     "data": {
      "text/plain": [
       "<AxesSubplot:xlabel='sepal_length', ylabel='petal_length'>"
      ]
     },
     "execution_count": 206,
     "metadata": {},
     "output_type": "execute_result"
    },
    {
     "data": {
      "image/png": "[encoded data removed]",
      "text/plain": [
       "<Figure size 432x288 with 1 Axes>"
      ]
     },
     "metadata": {
      "needs_background": "light"
     },
     "output_type": "display_data"
    }
   ],
   "source": [
    "sns.scatterplot(x=\"sepal_length\", y=\"petal_length\", data=iris, hue=iris.species)"
   ]
  },
  {
   "cell_type": "code",
   "execution_count": 210,
   "metadata": {},
   "outputs": [],
   "source": [
    "iris.species = iris.species.map({\"setosa\":-1, \"virginica\":1})"
   ]
  },
  {
   "cell_type": "code",
   "execution_count": 211,
   "metadata": {},
   "outputs": [],
   "source": [
    "X = iris.drop(\"species\", axis=1)\n",
    "y = iris[\"species\"]"
   ]
  },
  {
   "cell_type": "code",
   "execution_count": 214,
   "metadata": {},
   "outputs": [],
   "source": [
    "model = SVM_out(X, y, epochs=100, acc_per_epoch=True)"
   ]
  },
  {
   "cell_type": "code",
   "execution_count": 215,
   "metadata": {},
   "outputs": [
    {
     "data": {
      "image/png": "[encoded data removed]",
      "text/plain": [
       "<Figure size 432x288 with 1 Axes>"
      ]
     },
     "metadata": {
      "needs_background": "light"
     },
     "output_type": "display_data"
    }
   ],
   "source": [
    "plt.plot(model.accuracies)\n",
    "plt.ylim(0, 1.5);"
   ]
  },
  {
   "cell_type": "code",
   "execution_count": 216,
   "metadata": {},
   "outputs": [],
   "source": [
    "model = SVM_with(X, y, epochs=100, acc_per_epoch=True)"
   ]
  },
  {
   "cell_type": "code",
   "execution_count": 217,
   "metadata": {},
   "outputs": [
    {
     "data": {
      "image/png": "[encoded data removed]",
      "text/plain": [
       "<Figure size 432x288 with 1 Axes>"
      ]
     },
     "metadata": {
      "needs_background": "light"
     },
     "output_type": "display_data"
    }
   ],
   "source": [
    "plt.plot(model.accuracies)\n",
    "plt.ylim(0, 1.5);"
   ]
  },
  {
   "cell_type": "code",
   "execution_count": 218,
   "metadata": {},
   "outputs": [
    {
     "data": {
      "text/plain": [
       "-0.19999999999999896"
      ]
     },
     "execution_count": 218,
     "metadata": {},
     "output_type": "execute_result"
    }
   ],
   "source": [
    "model.B0"
   ]
  },
  {
   "cell_type": "markdown",
   "metadata": {},
   "source": [
    "## One more try... "
   ]
  },
  {
   "cell_type": "code",
   "execution_count": 252,
   "metadata": {},
   "outputs": [],
   "source": [
    "from sklearn.datasets import make_blobs"
   ]
  },
  {
   "cell_type": "code",
   "execution_count": 300,
   "metadata": {},
   "outputs": [],
   "source": [
    "X, y = make_blobs(n_features=2, centers=2, n_samples=1000, cluster_std=5)"
   ]
  },
  {
   "cell_type": "code",
   "execution_count": 301,
   "metadata": {},
   "outputs": [],
   "source": [
    "y = np.where(y == 0, -1, 1)"
   ]
  },
  {
   "cell_type": "code",
   "execution_count": 302,
   "metadata": {},
   "outputs": [
    {
     "data": {
      "text/plain": [
       "<matplotlib.collections.PathCollection at 0x246ca804b50>"
      ]
     },
     "execution_count": 302,
     "metadata": {},
     "output_type": "execute_result"
    },
    {
     "data": {
      "image/png": "[encoded data removed]",
      "text/plain": [
       "<Figure size 432x288 with 1 Axes>"
      ]
     },
     "metadata": {
      "needs_background": "light"
     },
     "output_type": "display_data"
    }
   ],
   "source": [
    "plt.scatter(X[:, 0], X[:, 1], c=y)"
   ]
  },
  {
   "cell_type": "code",
   "execution_count": 307,
   "metadata": {},
   "outputs": [],
   "source": [
    "model = SVM_out(X, y, epochs=300, acc_per_epoch=True)"
   ]
  },
  {
   "cell_type": "code",
   "execution_count": 308,
   "metadata": {},
   "outputs": [
    {
     "data": {
      "image/png": "[encoded data removed]",
      "text/plain": [
       "<Figure size 432x288 with 1 Axes>"
      ]
     },
     "metadata": {
      "needs_background": "light"
     },
     "output_type": "display_data"
    }
   ],
   "source": [
    "plt.plot(model.accuracies)\n",
    "plt.ylim(0, 1.5);"
   ]
  },
  {
   "cell_type": "code",
   "execution_count": 311,
   "metadata": {},
   "outputs": [],
   "source": [
    "model = SVM_with(X, y, epochs=300, acc_per_epoch=True)"
   ]
  },
  {
   "cell_type": "code",
   "execution_count": 312,
   "metadata": {},
   "outputs": [
    {
     "data": {
      "image/png": "[encoded data removed]",
      "text/plain": [
       "<Figure size 432x288 with 1 Axes>"
      ]
     },
     "metadata": {
      "needs_background": "light"
     },
     "output_type": "display_data"
    }
   ],
   "source": [
    "plt.plot(model.accuracies)\n",
    "plt.ylim(0, 1.5);"
   ]
  },
  {
   "cell_type": "markdown",
   "metadata": {},
   "source": [
    "This seems with B0, we are working poorly... but I don't know! Really I am not much satisfied with this SVM implementation. I want to implement `c` parameter, kernels and more... but this just feels like we are training a regression model with just classification!\n",
    "\n",
    "Okay!"
   ]
  },
  {
   "cell_type": "code",
   "execution_count": 313,
   "metadata": {},
   "outputs": [
    {
     "name": "stdout",
     "output_type": "stream",
     "text": [
      "Writing SVM.py\n"
     ]
    }
   ],
   "source": [
    "%%writefile SVM.py\n",
    "import numpy as np\n",
    "\n",
    "class SVM:\n",
    "    \"\"\"\n",
    "    This class implement WITH B0\n",
    "    \n",
    "    How To\n",
    "    ------\n",
    "        # Prepare X and y\n",
    "    >>> X = df[[\"x1\", \"x2\"]]\n",
    "    ... y = df[\"y\"]\n",
    "    \n",
    "        # Train\n",
    "    >>> model = SVM(X, y, learning_rate=0.5, acc_per_epoch=True)\n",
    "    >>> model.accuracies\n",
    "\n",
    "    \"\"\"\n",
    "    \n",
    "    def __init__(self, X, y, learning_rate=0.001, epochs=10, acc_per_epoch=False):\n",
    "        # Normal conversion\n",
    "        self.X = np.array(X)\n",
    "        self.y = np.array(y)\n",
    "        \n",
    "        # Usual Checking\n",
    "        if self.X.ndim != 2:\n",
    "            raise NotImplementedError(\"The features must be 2D\")\n",
    "        if len(self.X) != len(self.y):\n",
    "            raise NotImplementedError(\"Please! Come on!\")\n",
    "            \n",
    "        # Initialization of Betas\n",
    "        self.Bi = np.array([0.0] * self.X.shape[1])\n",
    "        self.B0 = 0.0\n",
    "        \n",
    "        # The learning rate and epoch setting\n",
    "        self.learning_rate = learning_rate\n",
    "        self.epochs = epochs\n",
    "        \n",
    "        # This ↓ will contain the accuracies if it has to be\n",
    "        # found with `acc_per_epoch=True`.\n",
    "        self.accuracies = []\n",
    "        \n",
    "        # | keeps track of th iteration \n",
    "        # ↓ which will be passed in the formulae\n",
    "        th_iteration = 1\n",
    "        \n",
    "        # For each th epoch\n",
    "        for th_epoch in range(self.epochs):\n",
    "            # for each individual row\n",
    "            for th_row in range(len(self.X)):\n",
    "                # first we will calculate the initial output\n",
    "                otpt = self.output(th_row)\n",
    "                # 2 different functions to update weights\n",
    "                if otpt > 1:\n",
    "                    self.Bi = self.output_greater_than_1_Bi(th_iteration) # for Bi\n",
    "                    self.B0 = self.output_greater_than_1_B0(th_iteration) # for B0\n",
    "\n",
    "                else:\n",
    "                    self.Bi = self.output_less_than_1_Bi(th_iteration, th_row) # for Bi\n",
    "                    self.B0 = self.output_less_than_1_B0(th_iteration, th_row) # for B0\n",
    "                th_iteration += 1\n",
    "            \n",
    "            # If we are told to find the accuracies\n",
    "            if acc_per_epoch:\n",
    "                outputs = self.predict(self.X)\n",
    "                acc = (self.y == self.crisp(outputs)).sum() / len(self.y)\n",
    "                self.accuracies.append(acc)\n",
    "    \n",
    "    # Will return the value which then will be checked \n",
    "    def output(self, th_row):\n",
    "        return self.y[th_row] * (self.Bi * self.X[th_row]).sum() + self.B0\n",
    "    \n",
    "    \n",
    "    def output_less_than_1_Bi(self, th_iteration, th_row):\n",
    "        return ((1 - (1 / th_iteration)) * self.Bi + (1 / (self.learning_rate * th_iteration)) * (self.y[th_row] * self.X[th_row]))\n",
    "    \n",
    "    \n",
    "    def output_greater_than_1_Bi(self, th_iteration):\n",
    "        return (1 - (1 / th_iteration)) * self.Bi\n",
    "    \n",
    "    \n",
    "    def output_less_than_1_B0(self, th_iteration, th_row):\n",
    "        return ((1 - (1 / th_iteration)) * self.B0 + (1 / (self.learning_rate * th_iteration)) * (self.y[th_row]))\n",
    "    \n",
    "    \n",
    "    def output_greater_than_1_B0(self, th_iteration):\n",
    "        return (1 - (1 / th_iteration)) * self.B0\n",
    "    \n",
    "    \n",
    "    def predict(self, X):\n",
    "        return self.B0 + (self.Bi * X).sum(1)\n",
    "    \n",
    "    def crisp(self, outputs):\n",
    "        pred = []\n",
    "        for output in outputs:\n",
    "            if output < 0:\n",
    "                pred.append(-1)\n",
    "            else: pred.append(1)\n",
    "        return pred"
   ]
  },
  {
   "cell_type": "markdown",
   "metadata": {},
   "source": [
    "# "
   ]
  },
  {
   "cell_type": "markdown",
   "metadata": {},
   "source": [
    "# Thanks!\n",
    "Next up, we will look for the random forst!"
   ]
  },
  {
   "cell_type": "markdown",
   "metadata": {},
   "source": [
    "# "
   ]
  }
 ],
 "metadata": {
  "kernelspec": {
   "display_name": "Python 3",
   "language": "python",
   "name": "python3"
  },
  "language_info": {
   "codemirror_mode": {
    "name": "ipython",
    "version": 3
   },
   "file_extension": ".py",
   "mimetype": "text/x-python",
   "name": "python",
   "nbconvert_exporter": "python",
   "pygments_lexer": "ipython3",
   "version": "3.8.5"
  }
 },
 "nbformat": 4,
 "nbformat_minor": 4
}
