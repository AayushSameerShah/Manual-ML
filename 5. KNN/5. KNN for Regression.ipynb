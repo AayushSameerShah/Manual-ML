{
 "cells": [
  {
   "cell_type": "markdown",
   "metadata": {},
   "source": [
    "# KNN for regression "
   ]
  },
  {
   "cell_type": "markdown",
   "metadata": {},
   "source": [
    "Yes, you have herd it right. We can also use KNN for regression and it works **often amazingly** over the standard regression models like *SGDREgressor* or *LinearRegression*. \n",
    "\n",
    "**2 Advantages** to use KNN:\n",
    "1. Amazingly simple to understand and implement\n",
    "2. Even works of the nonlinear data\n",
    "\n",
    "Both of them are so cool! Ain't they?"
   ]
  },
  {
   "cell_type": "markdown",
   "metadata": {},
   "source": [
    "## Intuation<br>—\n",
    "In this method, we work to find the `k` neighbors as we do in the classification problem (which we have done in 2nd notebook) but here, in stead of ***counting*** the votes, we will use ***mean*** of the neighours. Which will help us to find the value of dependent variable.\n",
    "\n",
    "***NOTE***: This method is not shown in the book, I am implementing myself from my understanding."
   ]
  },
  {
   "cell_type": "code",
   "execution_count": 2,
   "metadata": {},
   "outputs": [],
   "source": [
    "# Usual imports \n",
    "import numpy as np, pandas as pd\n",
    "import matplotlib.pyplot as plt\n",
    "\n",
    "# Dataset\n",
    "import seaborn as sns\n",
    "mpg = sns.load_dataset(\"mpg\")"
   ]
  },
  {
   "cell_type": "markdown",
   "metadata": {},
   "source": [
    "In the mpg dataset we can use the relationship of `horsepower` and `mpg`. Where horsepower will be `X` and mpg will be `y`."
   ]
  },
  {
   "cell_type": "code",
   "execution_count": 8,
   "metadata": {},
   "outputs": [
    {
     "data": {
      "image/png": "[encoded data removed]",
      "text/plain": [
       "<Figure size 432x288 with 1 Axes>"
      ]
     },
     "metadata": {
      "needs_background": "light"
     },
     "output_type": "display_data"
    }
   ],
   "source": [
    "plt.scatter(mpg.horsepower, mpg.mpg)\n",
    "plt.xlabel(\"← Horsepower →\", labelpad=20)\n",
    "plt.ylabel(\"← MPG →\", labelpad=20);"
   ]
  },
  {
   "cell_type": "code",
   "execution_count": 35,
   "metadata": {},
   "outputs": [],
   "source": [
    "mpg = mpg.dropna()"
   ]
  },
  {
   "cell_type": "code",
   "execution_count": 36,
   "metadata": {},
   "outputs": [],
   "source": [
    "X = mpg[\"horsepower\"]\n",
    "y = mpg[\"mpg\"]"
   ]
  },
  {
   "cell_type": "code",
   "execution_count": 78,
   "metadata": {},
   "outputs": [
    {
     "name": "stdout",
     "output_type": "stream",
     "text": [
      "Writing KNN_Reg.py\n"
     ]
    }
   ],
   "source": [
    "%%writefile KNN_Reg.py\n",
    "import numpy as np\n",
    "\n",
    "class KNN_Reg:\n",
    "    \"\"\"\n",
    "    This model is so great. It also can work on 4 different\n",
    "    types of distance metrics.\n",
    "    \n",
    "    First time, I tried to make a model entirely in numpy.\n",
    "    Haven't used a single bit of pandas. It makes numpy stronger\n",
    "    and calculation faster.\n",
    "    \n",
    "    THIS IS FOR REGRESSION\n",
    "    \n",
    "    How To\n",
    "    ------\n",
    "    \n",
    "    >>> model = KNN(X, y)\n",
    "    >>> pred = model.predict(X, k=3, dis_type=\"euclidean\")\n",
    "    \"\"\"\n",
    "    def __init__(self, X: np.ndarray, y: list):\n",
    "        X = np.array(X)\n",
    "        y = np.array(y)\n",
    "        if X.ndim != 2:\n",
    "            raise NotImplementedError(\\\n",
    "            \"\"\"\n",
    "            The dimention of the features \n",
    "            must be 2D.\n",
    "            \"\"\")\n",
    "        if (len(X) != len(y)) or (y.ndim != 1):\n",
    "            raise NotImplementedError(\\\n",
    "            \"\"\"\n",
    "            The length of features \n",
    "            and target mismatched.\n",
    "            \"\"\")\n",
    "        self.stored_X = X\n",
    "        self.stored_y = y\n",
    "        \n",
    "    \n",
    "    def predict(self, X: np.ndarray, k: int, dis_type=\"euclidean\", p=None):\n",
    "        X = np.array(X)\n",
    "        self.dis_type = dis_type\n",
    "        if (self.dis_type == \"minkowaski\") and (p == None):\n",
    "            raise NotImplementedError(\"Please provide `p` value.\")\n",
    "        self.p = p    \n",
    "        if X.ndim != 2:\n",
    "            raise NotImplementedError(\\\n",
    "            \"\"\"\n",
    "            The dimention of the features \n",
    "            must be 2D.\n",
    "            \"\"\")\n",
    "        pred_values = []\n",
    "        for each_row in X:\n",
    "            distance = self.get_distance(row=each_row)\n",
    "            sorted_k_indexes = np.argsort(distance)[:k]\n",
    "            pred_value = self.stored_y[sorted_k_indexes].mean()  # JUST ← this line changed!\n",
    "            pred_values.append(pred_value)\n",
    "        return pred_values\n",
    "    \n",
    "    def get_distance(self, row):\n",
    "        if self.dis_type == \"euclidean\":\n",
    "            return ((row - self.stored_X) ** 2).sum(1) ** 0.5\n",
    "        elif self.dis_type == \"manhattan\":\n",
    "            return abs((row - self.stored_X)).sum(1)\n",
    "        elif self.dis_type == \"hamming\":\n",
    "            return abs(row - self.stored_X).sum(1) / len(row)\n",
    "        elif self.dis_type == \"minkowaski\":\n",
    "            return (abs(row - self.stored_X) ** self.p).sum(1) ** (1 / self.p)\n",
    "        else:\n",
    "            raise NotImplementedError(\\\n",
    "            f\"\"\"\n",
    "            The distance type chosen is `{self.dis_type}`.\n",
    "            Please choose from: \n",
    "            • euclidean\n",
    "            • manhattan\n",
    "            • hamming\n",
    "            • minkowaski\n",
    "            \"\"\")\n"
   ]
  },
  {
   "cell_type": "code",
   "execution_count": 23,
   "metadata": {},
   "outputs": [],
   "source": [
    "from sklearn.metrics import r2_score"
   ]
  },
  {
   "cell_type": "markdown",
   "metadata": {},
   "source": [
    "## Performance On **OUR** model"
   ]
  },
  {
   "cell_type": "code",
   "execution_count": 61,
   "metadata": {},
   "outputs": [],
   "source": [
    "ks = []\n",
    "model = KNN_Reg(X.values[:, np.newaxis], y)\n",
    "for k in range(1, 100):\n",
    "    pred = model.predict(X.values[:, np.newaxis], k=k)\n",
    "    ks.append(r2_score(y, pred))"
   ]
  },
  {
   "cell_type": "code",
   "execution_count": 62,
   "metadata": {},
   "outputs": [
    {
     "data": {
      "image/png": "[encoded data removed]",
      "text/plain": [
       "<Figure size 432x288 with 1 Axes>"
      ]
     },
     "metadata": {
      "needs_background": "light"
     },
     "output_type": "display_data"
    }
   ],
   "source": [
    "plt.plot(ks)\n",
    "plt.ylim([0.6, .8]);"
   ]
  },
  {
   "cell_type": "markdown",
   "metadata": {},
   "source": [
    "###### "
   ]
  },
  {
   "cell_type": "markdown",
   "metadata": {},
   "source": [
    "## Performance On **sklearn** model"
   ]
  },
  {
   "cell_type": "code",
   "execution_count": 53,
   "metadata": {},
   "outputs": [],
   "source": [
    "from sklearn.neighbors import KNeighborsRegressor"
   ]
  },
  {
   "cell_type": "code",
   "execution_count": 54,
   "metadata": {},
   "outputs": [],
   "source": [
    "ks = []\n",
    "for k in range(1, 100):\n",
    "    model = KNeighborsRegressor(n_neighbors=k)\n",
    "    model.fit(X.values[:, np.newaxis], y)\n",
    "    pred = model.predict(X.values[:, np.newaxis])\n",
    "    ks.append(r2_score(y, pred))"
   ]
  },
  {
   "cell_type": "code",
   "execution_count": 63,
   "metadata": {},
   "outputs": [
    {
     "data": {
      "image/png": "[encoded data removed]",
      "text/plain": [
       "<Figure size 432x288 with 1 Axes>"
      ]
     },
     "metadata": {
      "needs_background": "light"
     },
     "output_type": "display_data"
    }
   ],
   "source": [
    "plt.plot(ks)\n",
    "plt.ylim([0.6, .8]);"
   ]
  },
  {
   "cell_type": "markdown",
   "metadata": {},
   "source": [
    "Exactly similar (well, exactly and similar can't use them together) graphs!"
   ]
  },
  {
   "cell_type": "markdown",
   "metadata": {},
   "source": [
    "# "
   ]
  },
  {
   "cell_type": "markdown",
   "metadata": {},
   "source": [
    "Trying with more features"
   ]
  },
  {
   "cell_type": "code",
   "execution_count": 68,
   "metadata": {},
   "outputs": [],
   "source": [
    "X = mpg[[\"horsepower\", \"acceleration\", \"displacement\"]]\n",
    "y = mpg[\"mpg\"]"
   ]
  },
  {
   "cell_type": "markdown",
   "metadata": {},
   "source": [
    "## Performance On **OUR** model"
   ]
  },
  {
   "cell_type": "code",
   "execution_count": 70,
   "metadata": {},
   "outputs": [],
   "source": [
    "ks = []\n",
    "model = KNN_Reg(X, y)\n",
    "for k in range(1, 100):\n",
    "    pred = model.predict(X, k=k)\n",
    "    ks.append(r2_score(y, pred))"
   ]
  },
  {
   "cell_type": "code",
   "execution_count": 74,
   "metadata": {},
   "outputs": [
    {
     "data": {
      "image/png": "[encoded data removed]",
      "text/plain": [
       "<Figure size 432x288 with 1 Axes>"
      ]
     },
     "metadata": {
      "needs_background": "light"
     },
     "output_type": "display_data"
    }
   ],
   "source": [
    "plt.plot(ks);"
   ]
  },
  {
   "cell_type": "markdown",
   "metadata": {},
   "source": [
    "###### "
   ]
  },
  {
   "cell_type": "markdown",
   "metadata": {},
   "source": [
    "## Performance On **sklearn** model"
   ]
  },
  {
   "cell_type": "code",
   "execution_count": 75,
   "metadata": {},
   "outputs": [],
   "source": [
    "ks = []\n",
    "for k in range(1, 100):\n",
    "    model = KNeighborsRegressor(n_neighbors=k)\n",
    "    model.fit(X, y)\n",
    "    pred = model.predict(X)\n",
    "    ks.append(r2_score(y, pred))"
   ]
  },
  {
   "cell_type": "code",
   "execution_count": 77,
   "metadata": {},
   "outputs": [
    {
     "data": {
      "image/png": "[encoded data removed]",
      "text/plain": [
       "<Figure size 432x288 with 1 Axes>"
      ]
     },
     "metadata": {
      "needs_background": "light"
     },
     "output_type": "display_data"
    }
   ],
   "source": [
    "plt.plot(ks);"
   ]
  },
  {
   "cell_type": "markdown",
   "metadata": {},
   "source": [
    "Amazing!"
   ]
  },
  {
   "cell_type": "markdown",
   "metadata": {},
   "source": [
    "# "
   ]
  },
  {
   "cell_type": "markdown",
   "metadata": {},
   "source": [
    "# That's it!\n",
    "Next up, I will implement the KNN for Multi Target Classification."
   ]
  }
 ],
 "metadata": {
  "kernelspec": {
   "display_name": "Python 3",
   "language": "python",
   "name": "python3"
  },
  "language_info": {
   "codemirror_mode": {
    "name": "ipython",
    "version": 3
   },
   "file_extension": ".py",
   "mimetype": "text/x-python",
   "name": "python",
   "nbconvert_exporter": "python",
   "pygments_lexer": "ipython3",
   "version": "3.8.5"
  }
 },
 "nbformat": 4,
 "nbformat_minor": 4
}
