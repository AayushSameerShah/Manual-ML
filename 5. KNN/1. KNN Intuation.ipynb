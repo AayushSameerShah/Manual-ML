{
 "cells": [
  {
   "cell_type": "markdown",
   "metadata": {},
   "source": [
    "# Your neightbours define <br>Your ***class***."
   ]
  },
  {
   "cell_type": "markdown",
   "metadata": {},
   "source": [
    "There is a beautiful saying,\n",
    "> Tell me about your 5 friends and I will tell many things about you.\n",
    "\n",
    "But here, in ML we can say,\n",
    "> Tell me about the data's neigbours, we will tell what class does it belong. "
   ]
  },
  {
   "cell_type": "markdown",
   "metadata": {},
   "source": [
    "I know, it sounds a little odd, but the algorithm that we are going to learn in just a bit does **just that**!<br>\n",
    "It is **KNN** *aka* **K-Nearest Neighbours**."
   ]
  },
  {
   "cell_type": "markdown",
   "metadata": {},
   "source": [
    "# "
   ]
  },
  {
   "cell_type": "markdown",
   "metadata": {},
   "source": [
    "<b><font size=6>T</font></b>his is the First, algorithm which **doesn't learn**! Instead of storing the *learned parameters* it stores entire dataset.\n",
    "\n",
    "It stores the data, in some k-d tree structure and uses the data as needed. We need to think about the consistancy about the data. The algorithm computation complexity grows as the data size grows."
   ]
  },
  {
   "cell_type": "markdown",
   "metadata": {},
   "source": [
    "—<br>\n",
    "KNN is also used for regression.\n",
    "\n",
    "**In regression**, we use the mean / median from the neighbours. <br>\n",
    "**In classification**, we use mode to predict the class."
   ]
  },
  {
   "cell_type": "markdown",
   "metadata": {},
   "source": [
    "### "
   ]
  },
  {
   "cell_type": "markdown",
   "metadata": {},
   "source": [
    "In KNN, we calculate the distance. There are total `8` techniques to find the distance between 2 datapoints.\n",
    "1. **Euclidean** Distance (usually used)\n",
    "2. **Manhattan** Distance\n",
    "3. **Hamming** Distance\n",
    "4. **Minkowski** Distance\n",
    "5. **Mahalnobis** Distance (Indian Mathematician)\n",
    "6. **Tanimoto** Distance\n",
    "7. **Jaccard** Distance\n",
    "8. **Cosine** Distance"
   ]
  },
  {
   "cell_type": "markdown",
   "metadata": {},
   "source": [
    "### "
   ]
  },
  {
   "cell_type": "markdown",
   "metadata": {},
   "source": [
    "***Euclidean*** is usually used when the features have similar scale. (Feature 1: 0-100, Feature 2: 0-102)<br>\n",
    "***Manhattan*** is used when we don't have feature at similar scale. (Feature 1: 0-10, Feature 2: 0-100)"
   ]
  },
  {
   "cell_type": "markdown",
   "metadata": {},
   "source": [
    "###### "
   ]
  },
  {
   "cell_type": "markdown",
   "metadata": {},
   "source": [
    "KNN is also known as `Instance Based`, `Lazy Learning`, `Non-Parametric`."
   ]
  },
  {
   "cell_type": "markdown",
   "metadata": {},
   "source": [
    "#### Euclidean Formula\n",
    "\n",
    "# $$ ED = \\sqrt {\\sum (A - B)^2}$$"
   ]
  },
  {
   "cell_type": "markdown",
   "metadata": {},
   "source": [
    "# "
   ]
  },
  {
   "cell_type": "markdown",
   "metadata": {},
   "source": [
    "## How To<br>— "
   ]
  },
  {
   "cell_type": "markdown",
   "metadata": {},
   "source": [
    "Here is the simple pseudo code:\n",
    "1. As no **training required**, we will directly jump into prediction.\n",
    "2. We have whole dataset, with ***n*** number of rows.\n",
    "3. **Columns are the features** showing the diamentions.\n",
    "4. Get a **single row** (one by one).\n",
    "5. Get its features and **find the distance** with all data points in the dataset (training data).\n",
    "6. Get top ***k*** nearest rows and count votes. \n",
    "7. Whichever class has **most votes**, wins.\n",
    "8. **Repeat** for all new data.\n",
    "9. For each new data, we need to count the distance **traversing whole dataset**."
   ]
  },
  {
   "cell_type": "markdown",
   "metadata": {},
   "source": [
    "# "
   ]
  },
  {
   "cell_type": "markdown",
   "metadata": {},
   "source": [
    "# Great!\n",
    "As you know, I like to start fresh. So we will start the code in the fresh notebook. <br>\n",
    "See you there."
   ]
  }
 ],
 "metadata": {
  "kernelspec": {
   "display_name": "Python 3",
   "language": "python",
   "name": "python3"
  },
  "language_info": {
   "codemirror_mode": {
    "name": "ipython",
    "version": 3
   },
   "file_extension": ".py",
   "mimetype": "text/x-python",
   "name": "python",
   "nbconvert_exporter": "python",
   "pygments_lexer": "ipython3",
   "version": "3.8.5"
  }
 },
 "nbformat": 4,
 "nbformat_minor": 4
}
